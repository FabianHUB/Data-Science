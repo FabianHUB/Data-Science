{
 "cells": [
  {
   "cell_type": "markdown",
   "id": "f822921a",
   "metadata": {},
   "source": [
    "# Predicting NY Crime\n",
    "## Phase 2 : Machine Learning Modelling "
   ]
  },
  {
   "cell_type": "markdown",
   "id": "a477cfe7",
   "metadata": {},
   "source": [
    "### RMIT University\n",
    "### Master in Analytics\n",
    "#### Machine Learning (MATH2319)\n",
    "#### Group name : 56 \n",
    "#### Name (ID) : Fabian Caballero (s3912233)\n"
   ]
  },
  {
   "cell_type": "markdown",
   "id": "9353b16b",
   "metadata": {},
   "source": [
    "## Table of contents\n",
    "* [Introduction](#i)\n",
    "  + [Phase 1 Summary](#p1s)\n",
    "  + [Report Overview](#ro)\n",
    "  + [Methodology](#ro)\n",
    "* [Data](#dp)\n",
    "* [Predictive Modelling](#pm)\n",
    "  + [Feature Selection](#fs)\n",
    "  + [Model Fitting and Tunning](#mft)\n",
    "      +[Model 1](#m1)\n",
    "      +[Model 2](#m2)\n",
    "      +[Model 3](#m3)\n",
    "  + [Model Fitting and Tunning for Neural Network](#mftnn)  \n",
    "  + [Model Comparison](#mc)  \n",
    "* [Limitations](#l)\n",
    "* [Conclusions](#c)\n",
    "* [References](#r)"
   ]
  },
  {
   "cell_type": "markdown",
   "id": "da9102a0",
   "metadata": {},
   "source": [
    "## Introduction <a id='i'></a>\n",
    "\n",
    "This study aims to propose a machine learning model to identify risk areas for crime in Los Angeles based on historical features of the LA police crime dataset from 2020. The dataset contains more than 600,000 records of criminal incidents that were preprocessed and sampled to obtain 28,850 records for analysis. The descriptive analysis revealed some patterns and insights about the distribution of crime across different areas, types, times and victim characteristics. The study concludes that a machine learning model that can forecast the level of risk for each area based on these features is needed to optimize the allocation of police resources and prevent crime. This is a brief summary of the descriptive analysis studied in phase 1 :\n",
    "\n",
    "* LAPD has divided Los Angeles in 21 different areas. There are areas with major risk of crime than others. However, the area 1 of LA seems to be the most affect by crime incidents\n",
    "* The average age of the victims oscillated from 30 to 40 years old and in average the female victims are younger that the male victims.\n"
   ]
  },
  {
   "cell_type": "markdown",
   "id": "0ab0c6f2",
   "metadata": {},
   "source": [
    "### Phase 1 Summary <a id='p1s'></a>\n",
    "\n"
   ]
  },
  {
   "cell_type": "markdown",
   "id": "b0086093",
   "metadata": {},
   "source": [
    "### Report Overview <a id='ro'></a>\n",
    "The dataset contains observations of reported crimes in Los Angeles from 2020 until the last update the 25th of March of 2023. These records contain unique ID  of the incident, date of the occurrence, Area, geographic location. Additionally, each record has information about the demography of the victim and the type of crime. This set of variables can be helpful to model predictions of areas sensible to crime.\n",
    "\n",
    "The LA Crime Dataset has 28 features and 690,454 observations. However, the following variable will be excluded because most of them are equal to the main variable but with a different structure. Also, a few variables could generate noise in the model because the uniqueness of their values. \n"
   ]
  },
  {
   "cell_type": "markdown",
   "id": "54979205",
   "metadata": {},
   "source": [
    "### Methodology <a id='ro'></a>"
   ]
  },
  {
   "cell_type": "markdown",
   "id": "7c95b0bf",
   "metadata": {},
   "source": [
    "## Data  <a id='dp'></a>\n",
    "\n",
    "The LA crime dataset contains crime records of the LAPD (Los Angeles Police Department) from 2020. The data was sourced from Data Catalog(LAPD,2023)\n",
    "\n",
    "Data preparation is essential  to guarantee the quality of the model. Phase 1 main objective was to prepare the data of NYPD dataset for modelling. for this reason the following actions were applied:\n",
    "* Drop unsuitable variables for the model\n",
    "* Rename columns\n",
    "* Change data types\n",
    "* Remove missing values\n",
    "* Replace NaN values depending of the variable\n",
    "    * For weapon used, all the NaN were replaced by 500.0\n",
    "* Remove observations with incongruent values\n",
    "    * Records with victim age < 0\n",
    "    * Records with victim sex different from \"M\" or \"F\"\n",
    "* Sample 25,850 observations from 516,998 rows (After pre-processing)"
   ]
  },
  {
   "cell_type": "code",
   "execution_count": 26,
   "id": "f38075d5",
   "metadata": {},
   "outputs": [],
   "source": [
    "import warnings\n",
    "warnings.filterwarnings(\"ignore\")\n",
    "\n",
    "import numpy as np\n",
    "import pandas as pd\n",
    "import matplotlib.pyplot as plt\n",
    "import seaborn as sns\n",
    "from tabulate import tabulate # Create tables \n",
    "from datetime import datetime # Extracting specific date values\n",
    "from sklearn import preprocessing # Scaling Features\n",
    "from sklearn import feature_selection as fs #feature selection methods\n",
    "from tabulate import tabulate\n",
    "\n",
    "# Modelling\n",
    "from sklearn.model_selection import RepeatedKFold\n",
    "from sklearn.pipeline import Pipeline\n",
    "from sklearn.neighbors import KNeighborsClassifier\n",
    "from sklearn.model_selection import RepeatedStratifiedKFold, GridSearchCV\n",
    "from sklearn.feature_selection import SelectKBest, f_classif, mutual_info_classif\n",
    "from sklearn.naive_bayes import GaussianNB\n",
    "from sklearn.preprocessing import PowerTransformer\n",
    "from sklearn.tree import DecisionTreeClassifier\n",
    "from sklearn import metrics\n",
    "from sklearn.metrics import RocCurveDisplay # Accuracy curve\n",
    "pd.set_option('display.max_columns', None) \n",
    "\n",
    "\n",
    "%matplotlib inline \n",
    "%config InlineBackend.figure_format = 'retina'\n",
    "plt.style.use(\"seaborn\")"
   ]
  },
  {
   "cell_type": "code",
   "execution_count": 4,
   "id": "bdb71e26",
   "metadata": {
    "scrolled": true
   },
   "outputs": [
    {
     "data": {
      "text/html": [
       "<div>\n",
       "<style scoped>\n",
       "    .dataframe tbody tr th:only-of-type {\n",
       "        vertical-align: middle;\n",
       "    }\n",
       "\n",
       "    .dataframe tbody tr th {\n",
       "        vertical-align: top;\n",
       "    }\n",
       "\n",
       "    .dataframe thead th {\n",
       "        text-align: right;\n",
       "    }\n",
       "</style>\n",
       "<table border=\"1\" class=\"dataframe\">\n",
       "  <thead>\n",
       "    <tr style=\"text-align: right;\">\n",
       "      <th></th>\n",
       "      <th>occ_day</th>\n",
       "      <th>occ_militar_time</th>\n",
       "      <th>area</th>\n",
       "      <th>crm_code</th>\n",
       "      <th>vict_age</th>\n",
       "      <th>vict_sex</th>\n",
       "      <th>vict_descent</th>\n",
       "      <th>premis_code</th>\n",
       "      <th>weapon_used_code</th>\n",
       "      <th>lat</th>\n",
       "      <th>lon</th>\n",
       "    </tr>\n",
       "  </thead>\n",
       "  <tbody>\n",
       "    <tr>\n",
       "      <th>0</th>\n",
       "      <td>1</td>\n",
       "      <td>1210</td>\n",
       "      <td>4</td>\n",
       "      <td>354</td>\n",
       "      <td>38</td>\n",
       "      <td>F</td>\n",
       "      <td>H</td>\n",
       "      <td>503.0</td>\n",
       "      <td>500.0</td>\n",
       "      <td>34.0234</td>\n",
       "      <td>-118.2102</td>\n",
       "    </tr>\n",
       "    <tr>\n",
       "      <th>1</th>\n",
       "      <td>3</td>\n",
       "      <td>1600</td>\n",
       "      <td>3</td>\n",
       "      <td>624</td>\n",
       "      <td>17</td>\n",
       "      <td>F</td>\n",
       "      <td>B</td>\n",
       "      <td>502.0</td>\n",
       "      <td>400.0</td>\n",
       "      <td>34.0055</td>\n",
       "      <td>-118.2937</td>\n",
       "    </tr>\n",
       "    <tr>\n",
       "      <th>2</th>\n",
       "      <td>5</td>\n",
       "      <td>1530</td>\n",
       "      <td>1</td>\n",
       "      <td>740</td>\n",
       "      <td>41</td>\n",
       "      <td>M</td>\n",
       "      <td>H</td>\n",
       "      <td>122.0</td>\n",
       "      <td>500.0</td>\n",
       "      <td>34.0459</td>\n",
       "      <td>-118.2526</td>\n",
       "    </tr>\n",
       "    <tr>\n",
       "      <th>3</th>\n",
       "      <td>0</td>\n",
       "      <td>1606</td>\n",
       "      <td>1</td>\n",
       "      <td>341</td>\n",
       "      <td>19</td>\n",
       "      <td>M</td>\n",
       "      <td>C</td>\n",
       "      <td>124.0</td>\n",
       "      <td>500.0</td>\n",
       "      <td>34.0566</td>\n",
       "      <td>-118.2318</td>\n",
       "    </tr>\n",
       "    <tr>\n",
       "      <th>4</th>\n",
       "      <td>0</td>\n",
       "      <td>1207</td>\n",
       "      <td>7</td>\n",
       "      <td>354</td>\n",
       "      <td>35</td>\n",
       "      <td>F</td>\n",
       "      <td>H</td>\n",
       "      <td>501.0</td>\n",
       "      <td>500.0</td>\n",
       "      <td>34.0623</td>\n",
       "      <td>-118.3462</td>\n",
       "    </tr>\n",
       "  </tbody>\n",
       "</table>\n",
       "</div>"
      ],
      "text/plain": [
       "   occ_day  occ_militar_time  area  crm_code  vict_age vict_sex vict_descent  \\\n",
       "0        1              1210     4       354        38        F            H   \n",
       "1        3              1600     3       624        17        F            B   \n",
       "2        5              1530     1       740        41        M            H   \n",
       "3        0              1606     1       341        19        M            C   \n",
       "4        0              1207     7       354        35        F            H   \n",
       "\n",
       "   premis_code  weapon_used_code      lat       lon  \n",
       "0        503.0             500.0  34.0234 -118.2102  \n",
       "1        502.0             400.0  34.0055 -118.2937  \n",
       "2        122.0             500.0  34.0459 -118.2526  \n",
       "3        124.0             500.0  34.0566 -118.2318  \n",
       "4        501.0             500.0  34.0623 -118.3462  "
      ]
     },
     "execution_count": 4,
     "metadata": {},
     "output_type": "execute_result"
    }
   ],
   "source": [
    "df_sample = pd.read_csv(\"NYPD_sample_25850_rows.csv\")\n",
    "df_sample.head()"
   ]
  },
  {
   "cell_type": "code",
   "execution_count": 5,
   "id": "16b2ba1a",
   "metadata": {},
   "outputs": [
    {
     "data": {
      "text/plain": [
       "occ_day               int64\n",
       "occ_militar_time      int64\n",
       "area                  int64\n",
       "crm_code              int64\n",
       "vict_age              int64\n",
       "vict_sex             object\n",
       "vict_descent         object\n",
       "premis_code         float64\n",
       "weapon_used_code    float64\n",
       "lat                 float64\n",
       "lon                 float64\n",
       "dtype: object"
      ]
     },
     "execution_count": 5,
     "metadata": {},
     "output_type": "execute_result"
    }
   ],
   "source": [
    "df_sample.dtypes"
   ]
  },
  {
   "cell_type": "markdown",
   "id": "2c5e8709",
   "metadata": {},
   "source": [
    "## Predictive Modelling  <a id='pm'></a>\n",
    "\n",
    "### Data Preparation for Modelling\n",
    "\n",
    "#### Encoding categorical variables\n",
    "Although the dataset was previously treated in phase 1, data required a few extra manipulation tasks before being processed for model prediction.Initially, the target feature and the descriptive variables are split into two data frames. the following code is the frequency of each one of the 21 area of Los Angeles.\n",
    "\n",
    "Secondly, categorical data must be encoding to numerical values to feed the model with right type of values.This is because, machine learning models utilize numerical values to generate the calculation or prediction.  \n"
   ]
  },
  {
   "cell_type": "code",
   "execution_count": 7,
   "id": "521b4730",
   "metadata": {},
   "outputs": [],
   "source": [
    "data = df_sample.drop(columns='area')\n",
    "target = df_sample['area']"
   ]
  },
  {
   "cell_type": "code",
   "execution_count": 8,
   "id": "17dba9be",
   "metadata": {},
   "outputs": [
    {
     "data": {
      "text/plain": [
       "1     1819\n",
       "12    1717\n",
       "14    1498\n",
       "3     1424\n",
       "6     1404\n",
       "18    1327\n",
       "15    1261\n",
       "7     1227\n",
       "8     1214\n",
       "20    1202\n",
       "21    1185\n",
       "13    1172\n",
       "9     1158\n",
       "2     1127\n",
       "11    1091\n",
       "19    1059\n",
       "10    1057\n",
       "17    1042\n",
       "5     1017\n",
       "4      933\n",
       "16     916\n",
       "Name: area, dtype: int64"
      ]
     },
     "execution_count": 8,
     "metadata": {},
     "output_type": "execute_result"
    }
   ],
   "source": [
    "target.value_counts()"
   ]
  },
  {
   "cell_type": "markdown",
   "id": "e36a6185",
   "metadata": {},
   "source": [
    "Then, there are just two categorical variable to be encoding into numerical values: vict_age and vict_descent. Fortunately for the model, LAPD is already using encoded values for the majority of the dataset variable. For example, the uses float or integer code to determine the weapon of crime.\n",
    "\n",
    "The process of encoding for the vict_sex transforms the categorical values into a binary  variable by encoding F = 0 and M = 1. However, in the case of vict_descent that has multiple values, the function $get_dummies()$ provided a solution by creating dummy features for each value."
   ]
  },
  {
   "cell_type": "code",
   "execution_count": 9,
   "id": "e4931e8e",
   "metadata": {},
   "outputs": [
    {
     "data": {
      "text/plain": [
       "['vict_sex', 'vict_descent']"
      ]
     },
     "execution_count": 9,
     "metadata": {},
     "output_type": "execute_result"
    }
   ],
   "source": [
    "data.columns[data.dtypes==object].tolist()"
   ]
  },
  {
   "cell_type": "code",
   "execution_count": 10,
   "id": "74cbe84b",
   "metadata": {
    "scrolled": false
   },
   "outputs": [
    {
     "data": {
      "text/plain": [
       "<bound method IndexOpsMixin.nunique of 0        0\n",
       "1        0\n",
       "2        1\n",
       "3        1\n",
       "4        0\n",
       "        ..\n",
       "25845    0\n",
       "25846    1\n",
       "25847    0\n",
       "25848    1\n",
       "25849    1\n",
       "Name: vict_sex, Length: 25850, dtype: int64>"
      ]
     },
     "execution_count": 10,
     "metadata": {},
     "output_type": "execute_result"
    }
   ],
   "source": [
    "data['vict_sex'] = data['vict_sex'].replace({'F':0,'M':1})\n",
    "data['vict_sex'].nunique"
   ]
  },
  {
   "cell_type": "code",
   "execution_count": 11,
   "id": "28901783",
   "metadata": {},
   "outputs": [],
   "source": [
    "data = pd.get_dummies(data)"
   ]
  },
  {
   "cell_type": "code",
   "execution_count": 12,
   "id": "1c3ca54a",
   "metadata": {
    "scrolled": true
   },
   "outputs": [
    {
     "data": {
      "text/plain": [
       "Index(['occ_day', 'occ_militar_time', 'crm_code', 'vict_age', 'vict_sex',\n",
       "       'premis_code', 'weapon_used_code', 'lat', 'lon', 'vict_descent_A',\n",
       "       'vict_descent_B', 'vict_descent_C', 'vict_descent_D', 'vict_descent_F',\n",
       "       'vict_descent_G', 'vict_descent_H', 'vict_descent_I', 'vict_descent_J',\n",
       "       'vict_descent_K', 'vict_descent_O', 'vict_descent_P', 'vict_descent_S',\n",
       "       'vict_descent_U', 'vict_descent_V', 'vict_descent_W', 'vict_descent_X',\n",
       "       'vict_descent_Z'],\n",
       "      dtype='object')"
      ]
     },
     "execution_count": 12,
     "metadata": {},
     "output_type": "execute_result"
    }
   ],
   "source": [
    "data.columns"
   ]
  },
  {
   "cell_type": "code",
   "execution_count": 13,
   "id": "7e30ee66",
   "metadata": {},
   "outputs": [
    {
     "data": {
      "text/plain": [
       "27"
      ]
     },
     "execution_count": 13,
     "metadata": {},
     "output_type": "execute_result"
    }
   ],
   "source": [
    "data.columns.nunique()"
   ]
  },
  {
   "cell_type": "code",
   "execution_count": 14,
   "id": "41e56368",
   "metadata": {},
   "outputs": [
    {
     "data": {
      "text/html": [
       "<div>\n",
       "<style scoped>\n",
       "    .dataframe tbody tr th:only-of-type {\n",
       "        vertical-align: middle;\n",
       "    }\n",
       "\n",
       "    .dataframe tbody tr th {\n",
       "        vertical-align: top;\n",
       "    }\n",
       "\n",
       "    .dataframe thead th {\n",
       "        text-align: right;\n",
       "    }\n",
       "</style>\n",
       "<table border=\"1\" class=\"dataframe\">\n",
       "  <thead>\n",
       "    <tr style=\"text-align: right;\">\n",
       "      <th></th>\n",
       "      <th>occ_day</th>\n",
       "      <th>occ_militar_time</th>\n",
       "      <th>crm_code</th>\n",
       "      <th>vict_age</th>\n",
       "      <th>vict_sex</th>\n",
       "      <th>premis_code</th>\n",
       "      <th>weapon_used_code</th>\n",
       "      <th>lat</th>\n",
       "      <th>lon</th>\n",
       "      <th>vict_descent_A</th>\n",
       "      <th>vict_descent_B</th>\n",
       "      <th>vict_descent_C</th>\n",
       "      <th>vict_descent_D</th>\n",
       "      <th>vict_descent_F</th>\n",
       "      <th>vict_descent_G</th>\n",
       "      <th>vict_descent_H</th>\n",
       "      <th>vict_descent_I</th>\n",
       "      <th>vict_descent_J</th>\n",
       "      <th>vict_descent_K</th>\n",
       "      <th>vict_descent_O</th>\n",
       "      <th>vict_descent_P</th>\n",
       "      <th>vict_descent_S</th>\n",
       "      <th>vict_descent_U</th>\n",
       "      <th>vict_descent_V</th>\n",
       "      <th>vict_descent_W</th>\n",
       "      <th>vict_descent_X</th>\n",
       "      <th>vict_descent_Z</th>\n",
       "    </tr>\n",
       "  </thead>\n",
       "  <tbody>\n",
       "    <tr>\n",
       "      <th>7519</th>\n",
       "      <td>5</td>\n",
       "      <td>145</td>\n",
       "      <td>341</td>\n",
       "      <td>21</td>\n",
       "      <td>0</td>\n",
       "      <td>501.0</td>\n",
       "      <td>500.0</td>\n",
       "      <td>34.1172</td>\n",
       "      <td>-118.1799</td>\n",
       "      <td>0</td>\n",
       "      <td>0</td>\n",
       "      <td>0</td>\n",
       "      <td>0</td>\n",
       "      <td>0</td>\n",
       "      <td>0</td>\n",
       "      <td>1</td>\n",
       "      <td>0</td>\n",
       "      <td>0</td>\n",
       "      <td>0</td>\n",
       "      <td>0</td>\n",
       "      <td>0</td>\n",
       "      <td>0</td>\n",
       "      <td>0</td>\n",
       "      <td>0</td>\n",
       "      <td>0</td>\n",
       "      <td>0</td>\n",
       "      <td>0</td>\n",
       "    </tr>\n",
       "    <tr>\n",
       "      <th>10499</th>\n",
       "      <td>0</td>\n",
       "      <td>714</td>\n",
       "      <td>440</td>\n",
       "      <td>53</td>\n",
       "      <td>0</td>\n",
       "      <td>501.0</td>\n",
       "      <td>500.0</td>\n",
       "      <td>34.1961</td>\n",
       "      <td>-118.4563</td>\n",
       "      <td>0</td>\n",
       "      <td>0</td>\n",
       "      <td>0</td>\n",
       "      <td>0</td>\n",
       "      <td>0</td>\n",
       "      <td>0</td>\n",
       "      <td>0</td>\n",
       "      <td>0</td>\n",
       "      <td>0</td>\n",
       "      <td>0</td>\n",
       "      <td>1</td>\n",
       "      <td>0</td>\n",
       "      <td>0</td>\n",
       "      <td>0</td>\n",
       "      <td>0</td>\n",
       "      <td>0</td>\n",
       "      <td>0</td>\n",
       "      <td>0</td>\n",
       "    </tr>\n",
       "    <tr>\n",
       "      <th>16305</th>\n",
       "      <td>5</td>\n",
       "      <td>1800</td>\n",
       "      <td>230</td>\n",
       "      <td>41</td>\n",
       "      <td>1</td>\n",
       "      <td>101.0</td>\n",
       "      <td>106.0</td>\n",
       "      <td>34.0473</td>\n",
       "      <td>-118.2139</td>\n",
       "      <td>0</td>\n",
       "      <td>0</td>\n",
       "      <td>0</td>\n",
       "      <td>0</td>\n",
       "      <td>0</td>\n",
       "      <td>0</td>\n",
       "      <td>1</td>\n",
       "      <td>0</td>\n",
       "      <td>0</td>\n",
       "      <td>0</td>\n",
       "      <td>0</td>\n",
       "      <td>0</td>\n",
       "      <td>0</td>\n",
       "      <td>0</td>\n",
       "      <td>0</td>\n",
       "      <td>0</td>\n",
       "      <td>0</td>\n",
       "      <td>0</td>\n",
       "    </tr>\n",
       "    <tr>\n",
       "      <th>6856</th>\n",
       "      <td>5</td>\n",
       "      <td>430</td>\n",
       "      <td>330</td>\n",
       "      <td>31</td>\n",
       "      <td>1</td>\n",
       "      <td>102.0</td>\n",
       "      <td>500.0</td>\n",
       "      <td>34.2131</td>\n",
       "      <td>-118.3954</td>\n",
       "      <td>0</td>\n",
       "      <td>0</td>\n",
       "      <td>0</td>\n",
       "      <td>0</td>\n",
       "      <td>0</td>\n",
       "      <td>0</td>\n",
       "      <td>1</td>\n",
       "      <td>0</td>\n",
       "      <td>0</td>\n",
       "      <td>0</td>\n",
       "      <td>0</td>\n",
       "      <td>0</td>\n",
       "      <td>0</td>\n",
       "      <td>0</td>\n",
       "      <td>0</td>\n",
       "      <td>0</td>\n",
       "      <td>0</td>\n",
       "      <td>0</td>\n",
       "    </tr>\n",
       "    <tr>\n",
       "      <th>11430</th>\n",
       "      <td>2</td>\n",
       "      <td>1351</td>\n",
       "      <td>745</td>\n",
       "      <td>53</td>\n",
       "      <td>0</td>\n",
       "      <td>101.0</td>\n",
       "      <td>500.0</td>\n",
       "      <td>33.9994</td>\n",
       "      <td>-118.2499</td>\n",
       "      <td>0</td>\n",
       "      <td>0</td>\n",
       "      <td>0</td>\n",
       "      <td>0</td>\n",
       "      <td>0</td>\n",
       "      <td>0</td>\n",
       "      <td>1</td>\n",
       "      <td>0</td>\n",
       "      <td>0</td>\n",
       "      <td>0</td>\n",
       "      <td>0</td>\n",
       "      <td>0</td>\n",
       "      <td>0</td>\n",
       "      <td>0</td>\n",
       "      <td>0</td>\n",
       "      <td>0</td>\n",
       "      <td>0</td>\n",
       "      <td>0</td>\n",
       "    </tr>\n",
       "  </tbody>\n",
       "</table>\n",
       "</div>"
      ],
      "text/plain": [
       "       occ_day  occ_militar_time  crm_code  vict_age  vict_sex  premis_code  \\\n",
       "7519         5               145       341        21         0        501.0   \n",
       "10499        0               714       440        53         0        501.0   \n",
       "16305        5              1800       230        41         1        101.0   \n",
       "6856         5               430       330        31         1        102.0   \n",
       "11430        2              1351       745        53         0        101.0   \n",
       "\n",
       "       weapon_used_code      lat       lon  vict_descent_A  vict_descent_B  \\\n",
       "7519              500.0  34.1172 -118.1799               0               0   \n",
       "10499             500.0  34.1961 -118.4563               0               0   \n",
       "16305             106.0  34.0473 -118.2139               0               0   \n",
       "6856              500.0  34.2131 -118.3954               0               0   \n",
       "11430             500.0  33.9994 -118.2499               0               0   \n",
       "\n",
       "       vict_descent_C  vict_descent_D  vict_descent_F  vict_descent_G  \\\n",
       "7519                0               0               0               0   \n",
       "10499               0               0               0               0   \n",
       "16305               0               0               0               0   \n",
       "6856                0               0               0               0   \n",
       "11430               0               0               0               0   \n",
       "\n",
       "       vict_descent_H  vict_descent_I  vict_descent_J  vict_descent_K  \\\n",
       "7519                1               0               0               0   \n",
       "10499               0               0               0               0   \n",
       "16305               1               0               0               0   \n",
       "6856                1               0               0               0   \n",
       "11430               1               0               0               0   \n",
       "\n",
       "       vict_descent_O  vict_descent_P  vict_descent_S  vict_descent_U  \\\n",
       "7519                0               0               0               0   \n",
       "10499               1               0               0               0   \n",
       "16305               0               0               0               0   \n",
       "6856                0               0               0               0   \n",
       "11430               0               0               0               0   \n",
       "\n",
       "       vict_descent_V  vict_descent_W  vict_descent_X  vict_descent_Z  \n",
       "7519                0               0               0               0  \n",
       "10499               0               0               0               0  \n",
       "16305               0               0               0               0  \n",
       "6856                0               0               0               0  \n",
       "11430               0               0               0               0  "
      ]
     },
     "execution_count": 14,
     "metadata": {},
     "output_type": "execute_result"
    }
   ],
   "source": [
    "data.sample(5, random_state = 220)"
   ]
  },
  {
   "cell_type": "markdown",
   "id": "6d9e41cc",
   "metadata": {},
   "source": [
    "#### Scaling Features\n",
    "Once all the descriptive variables are tidied and numerically encoded, the next step is to normalized all the values of the dataset by re scaling the descriptive features. This process is required because  there variable with a high range and other variables a small range and this cause problems in to the model. \n",
    "\n",
    "Applying the feature scaling the performance of the classifiers may improve. For this task, The function $MinMaxScaler()$ re scale the minimum and the maximum value of each variable in 0 and 1 respectively. As a result, the values of oscillated in a common range from 0 to 1."
   ]
  },
  {
   "cell_type": "code",
   "execution_count": 16,
   "id": "67c81901",
   "metadata": {},
   "outputs": [],
   "source": [
    "data_original = data.copy()"
   ]
  },
  {
   "cell_type": "code",
   "execution_count": 17,
   "id": "9d2d49d3",
   "metadata": {},
   "outputs": [
    {
     "data": {
      "text/html": [
       "<div>\n",
       "<style scoped>\n",
       "    .dataframe tbody tr th:only-of-type {\n",
       "        vertical-align: middle;\n",
       "    }\n",
       "\n",
       "    .dataframe tbody tr th {\n",
       "        vertical-align: top;\n",
       "    }\n",
       "\n",
       "    .dataframe thead th {\n",
       "        text-align: right;\n",
       "    }\n",
       "</style>\n",
       "<table border=\"1\" class=\"dataframe\">\n",
       "  <thead>\n",
       "    <tr style=\"text-align: right;\">\n",
       "      <th></th>\n",
       "      <th>occ_day</th>\n",
       "      <th>occ_militar_time</th>\n",
       "      <th>crm_code</th>\n",
       "      <th>vict_age</th>\n",
       "      <th>vict_sex</th>\n",
       "      <th>premis_code</th>\n",
       "      <th>weapon_used_code</th>\n",
       "      <th>lat</th>\n",
       "      <th>lon</th>\n",
       "      <th>vict_descent_A</th>\n",
       "      <th>vict_descent_B</th>\n",
       "      <th>vict_descent_C</th>\n",
       "      <th>vict_descent_D</th>\n",
       "      <th>vict_descent_F</th>\n",
       "      <th>vict_descent_G</th>\n",
       "      <th>vict_descent_H</th>\n",
       "      <th>vict_descent_I</th>\n",
       "      <th>vict_descent_J</th>\n",
       "      <th>vict_descent_K</th>\n",
       "      <th>vict_descent_O</th>\n",
       "      <th>vict_descent_P</th>\n",
       "      <th>vict_descent_S</th>\n",
       "      <th>vict_descent_U</th>\n",
       "      <th>vict_descent_V</th>\n",
       "      <th>vict_descent_W</th>\n",
       "      <th>vict_descent_X</th>\n",
       "      <th>vict_descent_Z</th>\n",
       "    </tr>\n",
       "  </thead>\n",
       "  <tbody>\n",
       "    <tr>\n",
       "      <th>24160</th>\n",
       "      <td>0.833333</td>\n",
       "      <td>0.775657</td>\n",
       "      <td>0.390071</td>\n",
       "      <td>0.185567</td>\n",
       "      <td>0.0</td>\n",
       "      <td>0.125287</td>\n",
       "      <td>0.963768</td>\n",
       "      <td>0.990099</td>\n",
       "      <td>0.003501</td>\n",
       "      <td>0.0</td>\n",
       "      <td>0.0</td>\n",
       "      <td>0.0</td>\n",
       "      <td>0.0</td>\n",
       "      <td>0.0</td>\n",
       "      <td>0.0</td>\n",
       "      <td>1.0</td>\n",
       "      <td>0.0</td>\n",
       "      <td>0.0</td>\n",
       "      <td>0.0</td>\n",
       "      <td>0.0</td>\n",
       "      <td>0.0</td>\n",
       "      <td>0.0</td>\n",
       "      <td>0.0</td>\n",
       "      <td>0.0</td>\n",
       "      <td>0.0</td>\n",
       "      <td>0.0</td>\n",
       "      <td>0.0</td>\n",
       "    </tr>\n",
       "    <tr>\n",
       "      <th>20159</th>\n",
       "      <td>0.666667</td>\n",
       "      <td>0.381255</td>\n",
       "      <td>0.609929</td>\n",
       "      <td>0.432990</td>\n",
       "      <td>0.0</td>\n",
       "      <td>0.459770</td>\n",
       "      <td>0.722222</td>\n",
       "      <td>0.993131</td>\n",
       "      <td>0.003142</td>\n",
       "      <td>0.0</td>\n",
       "      <td>0.0</td>\n",
       "      <td>0.0</td>\n",
       "      <td>0.0</td>\n",
       "      <td>0.0</td>\n",
       "      <td>0.0</td>\n",
       "      <td>1.0</td>\n",
       "      <td>0.0</td>\n",
       "      <td>0.0</td>\n",
       "      <td>0.0</td>\n",
       "      <td>0.0</td>\n",
       "      <td>0.0</td>\n",
       "      <td>0.0</td>\n",
       "      <td>0.0</td>\n",
       "      <td>0.0</td>\n",
       "      <td>0.0</td>\n",
       "      <td>0.0</td>\n",
       "      <td>0.0</td>\n",
       "    </tr>\n",
       "    <tr>\n",
       "      <th>12596</th>\n",
       "      <td>0.666667</td>\n",
       "      <td>0.690840</td>\n",
       "      <td>0.874704</td>\n",
       "      <td>0.237113</td>\n",
       "      <td>0.0</td>\n",
       "      <td>0.008046</td>\n",
       "      <td>0.963768</td>\n",
       "      <td>0.993204</td>\n",
       "      <td>0.003879</td>\n",
       "      <td>0.0</td>\n",
       "      <td>0.0</td>\n",
       "      <td>0.0</td>\n",
       "      <td>0.0</td>\n",
       "      <td>0.0</td>\n",
       "      <td>0.0</td>\n",
       "      <td>1.0</td>\n",
       "      <td>0.0</td>\n",
       "      <td>0.0</td>\n",
       "      <td>0.0</td>\n",
       "      <td>0.0</td>\n",
       "      <td>0.0</td>\n",
       "      <td>0.0</td>\n",
       "      <td>0.0</td>\n",
       "      <td>0.0</td>\n",
       "      <td>0.0</td>\n",
       "      <td>0.0</td>\n",
       "      <td>0.0</td>\n",
       "    </tr>\n",
       "    <tr>\n",
       "      <th>20275</th>\n",
       "      <td>0.166667</td>\n",
       "      <td>0.557252</td>\n",
       "      <td>0.288416</td>\n",
       "      <td>0.463918</td>\n",
       "      <td>1.0</td>\n",
       "      <td>0.000000</td>\n",
       "      <td>0.963768</td>\n",
       "      <td>0.990125</td>\n",
       "      <td>0.003533</td>\n",
       "      <td>0.0</td>\n",
       "      <td>0.0</td>\n",
       "      <td>0.0</td>\n",
       "      <td>0.0</td>\n",
       "      <td>0.0</td>\n",
       "      <td>0.0</td>\n",
       "      <td>1.0</td>\n",
       "      <td>0.0</td>\n",
       "      <td>0.0</td>\n",
       "      <td>0.0</td>\n",
       "      <td>0.0</td>\n",
       "      <td>0.0</td>\n",
       "      <td>0.0</td>\n",
       "      <td>0.0</td>\n",
       "      <td>0.0</td>\n",
       "      <td>0.0</td>\n",
       "      <td>0.0</td>\n",
       "      <td>0.0</td>\n",
       "    </tr>\n",
       "    <tr>\n",
       "      <th>7421</th>\n",
       "      <td>0.000000</td>\n",
       "      <td>0.381255</td>\n",
       "      <td>0.744681</td>\n",
       "      <td>0.237113</td>\n",
       "      <td>1.0</td>\n",
       "      <td>0.008046</td>\n",
       "      <td>0.963768</td>\n",
       "      <td>0.996271</td>\n",
       "      <td>0.001992</td>\n",
       "      <td>0.0</td>\n",
       "      <td>0.0</td>\n",
       "      <td>0.0</td>\n",
       "      <td>0.0</td>\n",
       "      <td>0.0</td>\n",
       "      <td>0.0</td>\n",
       "      <td>0.0</td>\n",
       "      <td>0.0</td>\n",
       "      <td>0.0</td>\n",
       "      <td>0.0</td>\n",
       "      <td>1.0</td>\n",
       "      <td>0.0</td>\n",
       "      <td>0.0</td>\n",
       "      <td>0.0</td>\n",
       "      <td>0.0</td>\n",
       "      <td>0.0</td>\n",
       "      <td>0.0</td>\n",
       "      <td>0.0</td>\n",
       "    </tr>\n",
       "  </tbody>\n",
       "</table>\n",
       "</div>"
      ],
      "text/plain": [
       "        occ_day  occ_militar_time  crm_code  vict_age  vict_sex  premis_code  \\\n",
       "24160  0.833333          0.775657  0.390071  0.185567       0.0     0.125287   \n",
       "20159  0.666667          0.381255  0.609929  0.432990       0.0     0.459770   \n",
       "12596  0.666667          0.690840  0.874704  0.237113       0.0     0.008046   \n",
       "20275  0.166667          0.557252  0.288416  0.463918       1.0     0.000000   \n",
       "7421   0.000000          0.381255  0.744681  0.237113       1.0     0.008046   \n",
       "\n",
       "       weapon_used_code       lat       lon  vict_descent_A  vict_descent_B  \\\n",
       "24160          0.963768  0.990099  0.003501             0.0             0.0   \n",
       "20159          0.722222  0.993131  0.003142             0.0             0.0   \n",
       "12596          0.963768  0.993204  0.003879             0.0             0.0   \n",
       "20275          0.963768  0.990125  0.003533             0.0             0.0   \n",
       "7421           0.963768  0.996271  0.001992             0.0             0.0   \n",
       "\n",
       "       vict_descent_C  vict_descent_D  vict_descent_F  vict_descent_G  \\\n",
       "24160             0.0             0.0             0.0             0.0   \n",
       "20159             0.0             0.0             0.0             0.0   \n",
       "12596             0.0             0.0             0.0             0.0   \n",
       "20275             0.0             0.0             0.0             0.0   \n",
       "7421              0.0             0.0             0.0             0.0   \n",
       "\n",
       "       vict_descent_H  vict_descent_I  vict_descent_J  vict_descent_K  \\\n",
       "24160             1.0             0.0             0.0             0.0   \n",
       "20159             1.0             0.0             0.0             0.0   \n",
       "12596             1.0             0.0             0.0             0.0   \n",
       "20275             1.0             0.0             0.0             0.0   \n",
       "7421              0.0             0.0             0.0             0.0   \n",
       "\n",
       "       vict_descent_O  vict_descent_P  vict_descent_S  vict_descent_U  \\\n",
       "24160             0.0             0.0             0.0             0.0   \n",
       "20159             0.0             0.0             0.0             0.0   \n",
       "12596             0.0             0.0             0.0             0.0   \n",
       "20275             0.0             0.0             0.0             0.0   \n",
       "7421              1.0             0.0             0.0             0.0   \n",
       "\n",
       "       vict_descent_V  vict_descent_W  vict_descent_X  vict_descent_Z  \n",
       "24160             0.0             0.0             0.0             0.0  \n",
       "20159             0.0             0.0             0.0             0.0  \n",
       "12596             0.0             0.0             0.0             0.0  \n",
       "20275             0.0             0.0             0.0             0.0  \n",
       "7421              0.0             0.0             0.0             0.0  "
      ]
     },
     "execution_count": 17,
     "metadata": {},
     "output_type": "execute_result"
    }
   ],
   "source": [
    "scaler = preprocessing.MinMaxScaler()\n",
    "scaler.fit(data)\n",
    "data = scaler.fit_transform(data)\n",
    "pd.DataFrame(data, columns=data_original.columns).sample(5, random_state=999)"
   ]
  },
  {
   "cell_type": "markdown",
   "id": "4c8cddaf",
   "metadata": {},
   "source": [
    "#### Feature Selection\n",
    "The feature selection is a step required to evaluate the importance of the descriptive features for the ML model inference. For the purpose of this project, two methods of feature selection were used. This is a good practice in order to explore common features among the the two methods.\n",
    "\n",
    "The two feature selection are F-score for its statistical component and Mutual information for its analysis in the relationship among the variables. \n",
    "\n",
    "For the case of this dataset with a total of 27 descriptive features, both methods evaluated the best selection of features when just 10 and 20 features are required. This evaluates the coherence of the method when the number of p increases and how much influence they have on the model."
   ]
  },
  {
   "cell_type": "markdown",
   "id": "4cb73ac8",
   "metadata": {},
   "source": [
    "###### F-score method p=10"
   ]
  },
  {
   "cell_type": "code",
   "execution_count": 18,
   "id": "d03852cf",
   "metadata": {},
   "outputs": [
    {
     "name": "stdout",
     "output_type": "stream",
     "text": [
      "----------------  -------\n",
      "vict_descent_K    48.5965\n",
      "vict_descent_X    18.4528\n",
      "vict_sex          17.2189\n",
      "weapon_used_code  15.3553\n",
      "vict_descent_O     8.6614\n",
      "vict_descent_H     7.0587\n",
      "vict_age           6.7561\n",
      "vict_descent_A     2.5383\n",
      "vict_descent_W     1.7610\n",
      "vict_descent_B     1.0128\n",
      "----------------  -------\n"
     ]
    }
   ],
   "source": [
    "num_features = 10\n",
    "fs_fit_fscore = fs.SelectKBest(fs.f_classif, k=num_features)\n",
    "fs_fit_fscore.fit_transform(data, target)\n",
    "fs_indices_fit_fscore = np.argsort(np.nan_to_num(fs_fit_fscore.scores_))[::-1][0:num_features]\n",
    "best_f = list(zip(data_original.columns[fs_indices_fit_fscore].values,fs_fit_fscore.scores_))\n",
    "best_f_sorted = sorted(best_f, key=lambda x: x[1],reverse=True)\n",
    "\n",
    "print(tabulate(best_f_sorted, floatfmt=\".4f\"))\n"
   ]
  },
  {
   "cell_type": "markdown",
   "id": "8967f090",
   "metadata": {},
   "source": [
    "###### F-score method p=20"
   ]
  },
  {
   "cell_type": "code",
   "execution_count": 19,
   "id": "2f99ab9a",
   "metadata": {},
   "outputs": [
    {
     "name": "stdout",
     "output_type": "stream",
     "text": [
      "----------------  --------\n",
      "premis_code       178.0760\n",
      "vict_descent_J    144.8283\n",
      "vict_descent_K     48.5965\n",
      "vict_descent_Z     36.2879\n",
      "occ_militar_time   27.6077\n",
      "vict_descent_X     18.4528\n",
      "vict_sex           17.2189\n",
      "weapon_used_code   15.3553\n",
      "vict_descent_O      8.6614\n",
      "vict_descent_H      7.0587\n",
      "vict_age            6.7561\n",
      "crm_code            6.0386\n",
      "vict_descent_C      5.2285\n",
      "vict_descent_V      3.3165\n",
      "vict_descent_A      2.5383\n",
      "vict_descent_W      1.7610\n",
      "lon                 1.2429\n",
      "vict_descent_B      1.0128\n",
      "vict_descent_F      0.9239\n",
      "lat                 0.7925\n",
      "----------------  --------\n"
     ]
    }
   ],
   "source": [
    "num_features = 20\n",
    "fs_fit_fscore = fs.SelectKBest(fs.f_classif, k=num_features)\n",
    "fs_fit_fscore.fit_transform(data, target)\n",
    "fs_indices_fit_fscore = np.argsort(np.nan_to_num(fs_fit_fscore.scores_))[::-1][0:num_features]\n",
    "best_f = list(zip(data_original.columns[fs_indices_fit_fscore].values,fs_fit_fscore.scores_))\n",
    "best_f_sorted = sorted(best_f, key=lambda x: x[1],reverse=True)\n",
    "\n",
    "print(tabulate(best_f_sorted, floatfmt=\".4f\"))"
   ]
  },
  {
   "cell_type": "markdown",
   "id": "5ee076c1",
   "metadata": {},
   "source": [
    "###### Mutual Information, p=10"
   ]
  },
  {
   "cell_type": "code",
   "execution_count": 20,
   "id": "d888612e",
   "metadata": {
    "scrolled": true
   },
   "outputs": [
    {
     "name": "stdout",
     "output_type": "stream",
     "text": [
      "----------------  ------\n",
      "weapon_used_code  2.1659\n",
      "vict_age          2.0491\n",
      "vict_descent_H    0.1768\n",
      "premis_code       0.0872\n",
      "vict_descent_B    0.0300\n",
      "crm_code          0.0222\n",
      "vict_descent_O    0.0134\n",
      "vict_descent_W    0.0073\n",
      "lat               0.0047\n",
      "lon               0.0000\n",
      "----------------  ------\n"
     ]
    }
   ],
   "source": [
    "num_features = 10\n",
    "fs_fit_mutual_info = fs.SelectKBest(fs.mutual_info_classif, k=num_features)\n",
    "fs_fit_mutual_info.fit_transform(data, target)\n",
    "fs_indices_mutual_info = np.argsort(fs_fit_mutual_info.scores_)[::-1][0:num_features]\n",
    "best_features_mutual_info = data_original.columns[fs_indices_mutual_info].values\n",
    "best_features_mutual_info\n",
    "\n",
    "best_f = list(zip(data_original.columns[fs_indices_mutual_info].values,fs_fit_mutual_info.scores_))\n",
    "best_f_sorted = sorted(best_f, key=lambda x: x[1],reverse=True)\n",
    "\n",
    "print(tabulate(best_f_sorted, floatfmt=\".4f\"))"
   ]
  },
  {
   "cell_type": "markdown",
   "id": "bccffe88",
   "metadata": {},
   "source": [
    "###### Mutual Information, p=20"
   ]
  },
  {
   "cell_type": "code",
   "execution_count": null,
   "id": "60457c7b",
   "metadata": {},
   "outputs": [],
   "source": [
    "num_features = 20\n",
    "fs_fit_mutual_info = fs.SelectKBest(fs.mutual_info_classif, k=num_features)\n",
    "fs_fit_mutual_info.fit_transform(data, target)\n",
    "fs_indices_mutual_info = np.argsort(fs_fit_mutual_info.scores_)[::-1][0:num_features]\n",
    "best_features_mutual_info = data_original.columns[fs_indices_mutual_info].values\n",
    "best_features_mutual_info\n",
    "\n",
    "best_f = list(zip(data_original.columns[fs_indices_mutual_info].values,fs_fit_mutual_info.scores_))\n",
    "best_f_sorted = sorted(best_f, key=lambda x: x[1],reverse=True)\n",
    "\n",
    "print(tabulate(best_f_sorted, floatfmt=\".4f\"))"
   ]
  },
  {
   "cell_type": "markdown",
   "id": "57552677",
   "metadata": {},
   "source": [
    "As a result, there are two important findings to consider. Firstly, in the case of F-score selection method, seems that a larger number of P will provide a better performance compare to low number of features. As evidence, it is possible to observe how the method ignores these two variables $premis code$ and $vict descent J$, with their respectively F-score 178.0760 and 144.8283. These two variable have the highest score. Therefore, for these model it is better to have a large number p. Secondly, in the mutual information method, the results appeared to be coherent from one change of p to the other.  However, it does not share the same ranking of features. For instance, their best descriptive variables are $weapon used code$ and $vict age$. "
   ]
  },
  {
   "cell_type": "markdown",
   "id": "0d9047b2",
   "metadata": {},
   "source": [
    "# Cross-validation method\n",
    "Finally, before to proceed to the modelling part, it is important to define the method to train and test the data. Cross-validation is effective method to split the data into training and testing. For the size and number of features of these dataset, the parameters to consider are : split of 10 folds, 1 replication and a test size of the 30% of the data. this parameters for the cross-validation is efficient for this project size."
   ]
  },
  {
   "cell_type": "code",
   "execution_count": 133,
   "id": "bdc00f3f",
   "metadata": {},
   "outputs": [
    {
     "data": {
      "text/plain": [
       "RepeatedStratifiedKFold(n_repeats=1, n_splits=10, random_state=999)"
      ]
     },
     "execution_count": 133,
     "metadata": {},
     "output_type": "execute_result"
    }
   ],
   "source": [
    "from sklearn.model_selection import train_test_split\n",
    "from sklearn.model_selection import RepeatedStratifiedKFold\n",
    "\n",
    "d_train, d_test, t_train, t_test = train_test_split(data, \n",
    "                                                    target, \n",
    "                                                    test_size = 0.3, \n",
    "                                                    random_state=999)\n",
    "cv_method = RepeatedStratifiedKFold(n_splits=10,\n",
    "                          n_repeats=1, \n",
    "                          random_state=999)\n",
    "cv_method"
   ]
  },
  {
   "cell_type": "markdown",
   "id": "9bb3ca4e",
   "metadata": {},
   "source": [
    "As a result of the split, the training set have 18,095 observations and the dataset for testing have  7,755 records"
   ]
  },
  {
   "cell_type": "code",
   "execution_count": 138,
   "id": "bca87bad",
   "metadata": {},
   "outputs": [
    {
     "name": "stdout",
     "output_type": "stream",
     "text": [
      "Shape of the data to train : (18095, 27)\n",
      "Shape of the data to test : (7755, 27)\n",
      "Shape of the target to train : (18095,)\n",
      "Shape of the target to test : (7755,)\n"
     ]
    }
   ],
   "source": [
    "print(f'Shape of the data to train : {d_train.shape}')\n",
    "print(f'Shape of the data to test : {d_test.shape}')\n",
    "print(f'Shape of the target to train : {t_train.shape}')\n",
    "print(f'Shape of the target to test : {t_test.shape}')"
   ]
  },
  {
   "cell_type": "markdown",
   "id": "ba5cb758",
   "metadata": {},
   "source": [
    "### Model Fitting and Tunning  <a id='mft'></a>"
   ]
  },
  {
   "cell_type": "markdown",
   "id": "c49e7148",
   "metadata": {},
   "source": [
    "The best predictive model for these descriptive features and target variable is decided may the experimentation of different machine learning algorithms, all the possible model applied in this dataset are from the $SKLEARN$ python module. The majority of models used are from the following type of algorithms : Information-based, probability-based and similarity-based. The procedures for the model experimentation started with selection of basic algorithm. Before running the model with training set, the parameter are tunned in order to identify which is the best combination of values for each  model. Finally, each model is evaluated by metrics such as precision, accuracy and confusion matrix."
   ]
  },
  {
   "cell_type": "markdown",
   "id": "b8826566",
   "metadata": {},
   "source": [
    "### Model 1 : Decision Tree <a id='m1'></a>"
   ]
  },
  {
   "cell_type": "markdown",
   "id": "76813b95",
   "metadata": {},
   "source": [
    "Firstly, information-based models may help to propose a the fittest model to predict the possible location of a crime based on the 21 areas of Los Angeles city. one fundamental algorithm for this type of modelling is the decision tree algorithms.  This algorithm is a supervised method of classification by creating the descriptive features as conditional nodes that try to predict the target value place the descriptions of the observation among the nodes."
   ]
  },
  {
   "cell_type": "markdown",
   "id": "7cf527c1",
   "metadata": {},
   "source": [
    "#### Pipeline and parameters setting\n",
    "Setting the parameters of a decision tree requires the following information : Number of descriptive features, the criteria of the evaluation for the decision tree and the maximum depth of three. using Sklearn module is possible to set a range of values for each of this parameters. For instance, the tunning for this dataset will be the following :\n",
    "\n",
    "Number of features : 10, 20 and all the features\n",
    "Criterion : gini level and entropy measure\n",
    "Maximum depth of the three : 8 to 20\n",
    "\n",
    "These range of parameters were selected  to provide enough options to the model to find the most optimal combination in term of the accuracy of predictions. Additionally, SKlearn module can be used alongside the Pipeline module, which is a useful module to normalize different process in one chunk of code. For the case of this project, Pipeline will join the feature selection method and the model process."
   ]
  },
  {
   "cell_type": "markdown",
   "id": "de8bf6c7",
   "metadata": {},
   "source": [
    "###### $Decision  Tree$"
   ]
  },
  {
   "cell_type": "code",
   "execution_count": 139,
   "id": "dd5f3ec3",
   "metadata": {},
   "outputs": [],
   "source": [
    "df_classifier = DecisionTreeClassifier(random_state=999)\n",
    "\n",
    "params_pipe_DT_fs = {'fselector__score_func': [f_classif, mutual_info_classif],\n",
    "                     'fselector__k': [10,20,data.shape[1]],\n",
    "                     'dt__criterion': ['gini', 'entropy'],\n",
    "                     'dt__max_depth': [8,9,10,11,12,13,14,15,16,17,18,19,20]}\n",
    " \n",
    "pipe_DT_fs = Pipeline([('fselector', SelectKBest()), \n",
    "                    ('dt', df_classifier)])\n",
    "\n",
    "gs_pipe_DT_fs  = GridSearchCV(estimator=pipe_DT_fs, \n",
    "                           param_grid=params_pipe_DT_fs, \n",
    "                           cv=cv_method,\n",
    "                           n_jobs=-2,\n",
    "                           scoring='accuracy', \n",
    "                           verbose=1)\n",
    "\n"
   ]
  },
  {
   "cell_type": "markdown",
   "id": "928681e2",
   "metadata": {},
   "source": [
    "#### Model Fitting\n",
    "\n",
    "The model run for about 5 min fitting 10 folds for each 156 possible combinations.\n",
    "\n",
    "Considering the multiple parameter combination for this pipeline, the model for \n",
    "a decision tree algorithm has chosen that the best feature method is the mutual information method with a k value equals to  10 and the best parameters are the entropy measure with a maximum depth of 20."
   ]
  },
  {
   "cell_type": "code",
   "execution_count": 140,
   "id": "3be95254",
   "metadata": {},
   "outputs": [
    {
     "name": "stdout",
     "output_type": "stream",
     "text": [
      "Fitting 10 folds for each of 156 candidates, totalling 1560 fits\n",
      "CPU times: total: 5.11 s\n",
      "Wall time: 5min 2s\n"
     ]
    },
    {
     "data": {
      "text/plain": [
       "GridSearchCV(cv=RepeatedStratifiedKFold(n_repeats=1, n_splits=10, random_state=999),\n",
       "             estimator=Pipeline(steps=[('fselector', SelectKBest()),\n",
       "                                       ('dt',\n",
       "                                        DecisionTreeClassifier(random_state=999))]),\n",
       "             n_jobs=-2,\n",
       "             param_grid={'dt__criterion': ['gini', 'entropy'],\n",
       "                         'dt__max_depth': [8, 9, 10, 11, 12, 13, 14, 15, 16, 17,\n",
       "                                           18, 19, 20],\n",
       "                         'fselector__k': [10, 20, 27],\n",
       "                         'fselector__score_func': [<function f_classif at 0x0000024395A045E0>,\n",
       "                                                   <function mutual_info_classif at 0x0000024395D62700>]},\n",
       "             scoring='accuracy', verbose=1)"
      ]
     },
     "execution_count": 140,
     "metadata": {},
     "output_type": "execute_result"
    }
   ],
   "source": [
    "%%time\n",
    "gs_pipe_DT_fs.fit(d_train,t_train);"
   ]
  },
  {
   "cell_type": "code",
   "execution_count": 141,
   "id": "117452a0",
   "metadata": {
    "scrolled": true
   },
   "outputs": [
    {
     "data": {
      "text/plain": [
       "10"
      ]
     },
     "execution_count": 141,
     "metadata": {},
     "output_type": "execute_result"
    }
   ],
   "source": [
    "gs_pipe_DT_fs.best_estimator_[0].k"
   ]
  },
  {
   "cell_type": "code",
   "execution_count": 142,
   "id": "ebbe3a52",
   "metadata": {},
   "outputs": [
    {
     "data": {
      "text/plain": [
       "Pipeline(steps=[('fselector',\n",
       "                 SelectKBest(score_func=<function mutual_info_classif at 0x0000024395D62700>)),\n",
       "                ('dt',\n",
       "                 DecisionTreeClassifier(criterion='entropy', max_depth=20,\n",
       "                                        random_state=999))])"
      ]
     },
     "execution_count": 142,
     "metadata": {},
     "output_type": "execute_result"
    }
   ],
   "source": [
    "gs_pipe_DT_fs.best_estimator_"
   ]
  },
  {
   "cell_type": "markdown",
   "id": "81818c95",
   "metadata": {},
   "source": [
    "#### Metrics\n",
    "The metrics to evaluate this algorithm are the best f-score, accuracy score and the confusion matrix. "
   ]
  },
  {
   "cell_type": "markdown",
   "id": "468905c4",
   "metadata": {},
   "source": [
    "F-SCORE"
   ]
  },
  {
   "cell_type": "code",
   "execution_count": 143,
   "id": "b2a4f936",
   "metadata": {},
   "outputs": [
    {
     "data": {
      "text/plain": [
       "0.984415277815954"
      ]
     },
     "execution_count": 143,
     "metadata": {},
     "output_type": "execute_result"
    }
   ],
   "source": [
    "gs_pipe_DT_fs.best_score_"
   ]
  },
  {
   "cell_type": "markdown",
   "id": "7284c075",
   "metadata": {},
   "source": [
    "ACCURACY SCORE"
   ]
  },
  {
   "cell_type": "code",
   "execution_count": 144,
   "id": "55ec7560",
   "metadata": {},
   "outputs": [
    {
     "data": {
      "text/plain": [
       "0.9865892972275951"
      ]
     },
     "execution_count": 144,
     "metadata": {},
     "output_type": "execute_result"
    }
   ],
   "source": [
    "t_pred = gs_pipe_DT_fs.predict(d_test)\n",
    "metrics.accuracy_score(t_test, t_pred)"
   ]
  },
  {
   "cell_type": "markdown",
   "id": "3138e7a8",
   "metadata": {},
   "source": [
    "CONFUSION MATRIX"
   ]
  },
  {
   "cell_type": "code",
   "execution_count": 145,
   "id": "5f993fd6",
   "metadata": {},
   "outputs": [
    {
     "data": {
      "text/plain": [
       "0.9939905943794494"
      ]
     },
     "execution_count": 145,
     "metadata": {},
     "output_type": "execute_result"
    }
   ],
   "source": [
    "metrics.roc_auc_score(t_test, t_prob, multi_class='ovo')"
   ]
  },
  {
   "cell_type": "code",
   "execution_count": 146,
   "id": "48c92351",
   "metadata": {
    "scrolled": true
   },
   "outputs": [
    {
     "data": {
      "text/html": [
       "<table>\n",
       "<tbody>\n",
       "<tr><td style=\"text-align: right;\">538</td><td style=\"text-align: right;\">  6</td><td style=\"text-align: right;\">  0</td><td style=\"text-align: right;\">  0</td><td style=\"text-align: right;\">  0</td><td style=\"text-align: right;\">  0</td><td style=\"text-align: right;\">  0</td><td style=\"text-align: right;\">  1</td><td style=\"text-align: right;\">  0</td><td style=\"text-align: right;\">  0</td><td style=\"text-align: right;\">  0</td><td style=\"text-align: right;\">  0</td><td style=\"text-align: right;\">  6</td><td style=\"text-align: right;\">  0</td><td style=\"text-align: right;\">  0</td><td style=\"text-align: right;\">  0</td><td style=\"text-align: right;\">  0</td><td style=\"text-align: right;\">  0</td><td style=\"text-align: right;\">  0</td><td style=\"text-align: right;\">  0</td><td style=\"text-align: right;\">  0</td></tr>\n",
       "<tr><td style=\"text-align: right;\">  1</td><td style=\"text-align: right;\">336</td><td style=\"text-align: right;\">  0</td><td style=\"text-align: right;\">  0</td><td style=\"text-align: right;\">  0</td><td style=\"text-align: right;\">  0</td><td style=\"text-align: right;\">  0</td><td style=\"text-align: right;\">  0</td><td style=\"text-align: right;\">  0</td><td style=\"text-align: right;\">  0</td><td style=\"text-align: right;\">  7</td><td style=\"text-align: right;\">  0</td><td style=\"text-align: right;\">  0</td><td style=\"text-align: right;\">  0</td><td style=\"text-align: right;\">  0</td><td style=\"text-align: right;\">  0</td><td style=\"text-align: right;\">  0</td><td style=\"text-align: right;\">  0</td><td style=\"text-align: right;\">  0</td><td style=\"text-align: right;\">  3</td><td style=\"text-align: right;\">  0</td></tr>\n",
       "<tr><td style=\"text-align: right;\">  0</td><td style=\"text-align: right;\">  0</td><td style=\"text-align: right;\">442</td><td style=\"text-align: right;\">  0</td><td style=\"text-align: right;\">  0</td><td style=\"text-align: right;\">  1</td><td style=\"text-align: right;\">  2</td><td style=\"text-align: right;\">  0</td><td style=\"text-align: right;\">  0</td><td style=\"text-align: right;\">  0</td><td style=\"text-align: right;\">  1</td><td style=\"text-align: right;\">  1</td><td style=\"text-align: right;\">  1</td><td style=\"text-align: right;\">  0</td><td style=\"text-align: right;\">  0</td><td style=\"text-align: right;\">  0</td><td style=\"text-align: right;\">  0</td><td style=\"text-align: right;\">  0</td><td style=\"text-align: right;\">  0</td><td style=\"text-align: right;\">  0</td><td style=\"text-align: right;\">  0</td></tr>\n",
       "<tr><td style=\"text-align: right;\">  1</td><td style=\"text-align: right;\">  0</td><td style=\"text-align: right;\">  0</td><td style=\"text-align: right;\">264</td><td style=\"text-align: right;\">  0</td><td style=\"text-align: right;\">  0</td><td style=\"text-align: right;\">  0</td><td style=\"text-align: right;\">  0</td><td style=\"text-align: right;\">  0</td><td style=\"text-align: right;\">  0</td><td style=\"text-align: right;\">  0</td><td style=\"text-align: right;\">  0</td><td style=\"text-align: right;\">  0</td><td style=\"text-align: right;\">  0</td><td style=\"text-align: right;\">  0</td><td style=\"text-align: right;\">  0</td><td style=\"text-align: right;\">  0</td><td style=\"text-align: right;\">  0</td><td style=\"text-align: right;\">  0</td><td style=\"text-align: right;\">  1</td><td style=\"text-align: right;\">  0</td></tr>\n",
       "<tr><td style=\"text-align: right;\">  0</td><td style=\"text-align: right;\">  0</td><td style=\"text-align: right;\">  0</td><td style=\"text-align: right;\">  0</td><td style=\"text-align: right;\">302</td><td style=\"text-align: right;\">  0</td><td style=\"text-align: right;\">  0</td><td style=\"text-align: right;\">  0</td><td style=\"text-align: right;\">  0</td><td style=\"text-align: right;\">  0</td><td style=\"text-align: right;\">  0</td><td style=\"text-align: right;\">  0</td><td style=\"text-align: right;\">  0</td><td style=\"text-align: right;\">  0</td><td style=\"text-align: right;\">  0</td><td style=\"text-align: right;\">  0</td><td style=\"text-align: right;\">  1</td><td style=\"text-align: right;\">  0</td><td style=\"text-align: right;\">  0</td><td style=\"text-align: right;\">  0</td><td style=\"text-align: right;\">  0</td></tr>\n",
       "<tr><td style=\"text-align: right;\">  0</td><td style=\"text-align: right;\">  1</td><td style=\"text-align: right;\">  0</td><td style=\"text-align: right;\">  0</td><td style=\"text-align: right;\">  2</td><td style=\"text-align: right;\">421</td><td style=\"text-align: right;\">  1</td><td style=\"text-align: right;\">  0</td><td style=\"text-align: right;\">  0</td><td style=\"text-align: right;\">  0</td><td style=\"text-align: right;\">  1</td><td style=\"text-align: right;\">  0</td><td style=\"text-align: right;\">  0</td><td style=\"text-align: right;\">  0</td><td style=\"text-align: right;\">  2</td><td style=\"text-align: right;\">  0</td><td style=\"text-align: right;\">  0</td><td style=\"text-align: right;\">  0</td><td style=\"text-align: right;\">  1</td><td style=\"text-align: right;\">  0</td><td style=\"text-align: right;\">  0</td></tr>\n",
       "<tr><td style=\"text-align: right;\">  0</td><td style=\"text-align: right;\">  0</td><td style=\"text-align: right;\">  0</td><td style=\"text-align: right;\">  0</td><td style=\"text-align: right;\">  0</td><td style=\"text-align: right;\">  1</td><td style=\"text-align: right;\">361</td><td style=\"text-align: right;\">  0</td><td style=\"text-align: right;\">  0</td><td style=\"text-align: right;\">  0</td><td style=\"text-align: right;\">  0</td><td style=\"text-align: right;\">  0</td><td style=\"text-align: right;\">  0</td><td style=\"text-align: right;\">  0</td><td style=\"text-align: right;\">  0</td><td style=\"text-align: right;\">  0</td><td style=\"text-align: right;\">  0</td><td style=\"text-align: right;\">  0</td><td style=\"text-align: right;\">  1</td><td style=\"text-align: right;\">  3</td><td style=\"text-align: right;\">  0</td></tr>\n",
       "<tr><td style=\"text-align: right;\">  0</td><td style=\"text-align: right;\">  0</td><td style=\"text-align: right;\">  0</td><td style=\"text-align: right;\">  0</td><td style=\"text-align: right;\">  0</td><td style=\"text-align: right;\">  0</td><td style=\"text-align: right;\">  3</td><td style=\"text-align: right;\">379</td><td style=\"text-align: right;\">  0</td><td style=\"text-align: right;\">  1</td><td style=\"text-align: right;\">  0</td><td style=\"text-align: right;\">  1</td><td style=\"text-align: right;\">  0</td><td style=\"text-align: right;\">  1</td><td style=\"text-align: right;\">  0</td><td style=\"text-align: right;\">  0</td><td style=\"text-align: right;\">  0</td><td style=\"text-align: right;\">  0</td><td style=\"text-align: right;\">  0</td><td style=\"text-align: right;\">  0</td><td style=\"text-align: right;\">  0</td></tr>\n",
       "<tr><td style=\"text-align: right;\">  0</td><td style=\"text-align: right;\">  0</td><td style=\"text-align: right;\">  0</td><td style=\"text-align: right;\">  0</td><td style=\"text-align: right;\">  0</td><td style=\"text-align: right;\">  0</td><td style=\"text-align: right;\">  0</td><td style=\"text-align: right;\">  0</td><td style=\"text-align: right;\">328</td><td style=\"text-align: right;\">  0</td><td style=\"text-align: right;\">  0</td><td style=\"text-align: right;\">  0</td><td style=\"text-align: right;\">  0</td><td style=\"text-align: right;\">  0</td><td style=\"text-align: right;\">  1</td><td style=\"text-align: right;\">  0</td><td style=\"text-align: right;\">  0</td><td style=\"text-align: right;\">  0</td><td style=\"text-align: right;\">  1</td><td style=\"text-align: right;\">  0</td><td style=\"text-align: right;\">  0</td></tr>\n",
       "<tr><td style=\"text-align: right;\">  0</td><td style=\"text-align: right;\">  0</td><td style=\"text-align: right;\">  0</td><td style=\"text-align: right;\">  0</td><td style=\"text-align: right;\">  0</td><td style=\"text-align: right;\">  0</td><td style=\"text-align: right;\">  0</td><td style=\"text-align: right;\">  0</td><td style=\"text-align: right;\">  0</td><td style=\"text-align: right;\">335</td><td style=\"text-align: right;\">  0</td><td style=\"text-align: right;\">  0</td><td style=\"text-align: right;\">  0</td><td style=\"text-align: right;\">  0</td><td style=\"text-align: right;\">  0</td><td style=\"text-align: right;\">  0</td><td style=\"text-align: right;\">  3</td><td style=\"text-align: right;\">  0</td><td style=\"text-align: right;\">  0</td><td style=\"text-align: right;\">  0</td><td style=\"text-align: right;\">  2</td></tr>\n",
       "<tr><td style=\"text-align: right;\">  1</td><td style=\"text-align: right;\">  2</td><td style=\"text-align: right;\">  0</td><td style=\"text-align: right;\">  0</td><td style=\"text-align: right;\">  0</td><td style=\"text-align: right;\">  0</td><td style=\"text-align: right;\">  0</td><td style=\"text-align: right;\">  0</td><td style=\"text-align: right;\">  0</td><td style=\"text-align: right;\">  0</td><td style=\"text-align: right;\">318</td><td style=\"text-align: right;\">  0</td><td style=\"text-align: right;\">  0</td><td style=\"text-align: right;\">  0</td><td style=\"text-align: right;\">  0</td><td style=\"text-align: right;\">  0</td><td style=\"text-align: right;\">  0</td><td style=\"text-align: right;\">  0</td><td style=\"text-align: right;\">  0</td><td style=\"text-align: right;\">  0</td><td style=\"text-align: right;\">  0</td></tr>\n",
       "<tr><td style=\"text-align: right;\">  0</td><td style=\"text-align: right;\">  0</td><td style=\"text-align: right;\">  0</td><td style=\"text-align: right;\">  0</td><td style=\"text-align: right;\">  0</td><td style=\"text-align: right;\">  0</td><td style=\"text-align: right;\">  0</td><td style=\"text-align: right;\">  0</td><td style=\"text-align: right;\">  0</td><td style=\"text-align: right;\">  0</td><td style=\"text-align: right;\">  0</td><td style=\"text-align: right;\">520</td><td style=\"text-align: right;\">  1</td><td style=\"text-align: right;\">  0</td><td style=\"text-align: right;\">  0</td><td style=\"text-align: right;\">  0</td><td style=\"text-align: right;\">  0</td><td style=\"text-align: right;\">  0</td><td style=\"text-align: right;\">  0</td><td style=\"text-align: right;\">  0</td><td style=\"text-align: right;\">  0</td></tr>\n",
       "<tr><td style=\"text-align: right;\">  3</td><td style=\"text-align: right;\">  0</td><td style=\"text-align: right;\">  0</td><td style=\"text-align: right;\">  0</td><td style=\"text-align: right;\">  0</td><td style=\"text-align: right;\">  0</td><td style=\"text-align: right;\">  0</td><td style=\"text-align: right;\">  0</td><td style=\"text-align: right;\">  0</td><td style=\"text-align: right;\">  0</td><td style=\"text-align: right;\">  0</td><td style=\"text-align: right;\">  4</td><td style=\"text-align: right;\">323</td><td style=\"text-align: right;\">  0</td><td style=\"text-align: right;\">  0</td><td style=\"text-align: right;\">  0</td><td style=\"text-align: right;\">  0</td><td style=\"text-align: right;\">  0</td><td style=\"text-align: right;\">  0</td><td style=\"text-align: right;\">  0</td><td style=\"text-align: right;\">  0</td></tr>\n",
       "<tr><td style=\"text-align: right;\">  0</td><td style=\"text-align: right;\">  0</td><td style=\"text-align: right;\">  0</td><td style=\"text-align: right;\">  0</td><td style=\"text-align: right;\">  0</td><td style=\"text-align: right;\">  1</td><td style=\"text-align: right;\">  0</td><td style=\"text-align: right;\">  0</td><td style=\"text-align: right;\">  0</td><td style=\"text-align: right;\">  0</td><td style=\"text-align: right;\">  0</td><td style=\"text-align: right;\">  0</td><td style=\"text-align: right;\">  0</td><td style=\"text-align: right;\">426</td><td style=\"text-align: right;\">  0</td><td style=\"text-align: right;\">  0</td><td style=\"text-align: right;\">  0</td><td style=\"text-align: right;\">  0</td><td style=\"text-align: right;\">  0</td><td style=\"text-align: right;\">  0</td><td style=\"text-align: right;\">  0</td></tr>\n",
       "<tr><td style=\"text-align: right;\">  0</td><td style=\"text-align: right;\">  0</td><td style=\"text-align: right;\">  0</td><td style=\"text-align: right;\">  0</td><td style=\"text-align: right;\">  0</td><td style=\"text-align: right;\">  3</td><td style=\"text-align: right;\">  0</td><td style=\"text-align: right;\">  0</td><td style=\"text-align: right;\">  1</td><td style=\"text-align: right;\">  0</td><td style=\"text-align: right;\">  0</td><td style=\"text-align: right;\">  0</td><td style=\"text-align: right;\">  0</td><td style=\"text-align: right;\">  1</td><td style=\"text-align: right;\">374</td><td style=\"text-align: right;\">  2</td><td style=\"text-align: right;\">  0</td><td style=\"text-align: right;\">  0</td><td style=\"text-align: right;\">  0</td><td style=\"text-align: right;\">  0</td><td style=\"text-align: right;\">  0</td></tr>\n",
       "<tr><td style=\"text-align: right;\">  1</td><td style=\"text-align: right;\">  0</td><td style=\"text-align: right;\">  0</td><td style=\"text-align: right;\">  0</td><td style=\"text-align: right;\">  0</td><td style=\"text-align: right;\">  0</td><td style=\"text-align: right;\">  0</td><td style=\"text-align: right;\">  0</td><td style=\"text-align: right;\">  0</td><td style=\"text-align: right;\">  0</td><td style=\"text-align: right;\">  0</td><td style=\"text-align: right;\">  0</td><td style=\"text-align: right;\">  0</td><td style=\"text-align: right;\">  0</td><td style=\"text-align: right;\">  0</td><td style=\"text-align: right;\">264</td><td style=\"text-align: right;\">  0</td><td style=\"text-align: right;\">  0</td><td style=\"text-align: right;\">  1</td><td style=\"text-align: right;\">  0</td><td style=\"text-align: right;\">  0</td></tr>\n",
       "<tr><td style=\"text-align: right;\">  0</td><td style=\"text-align: right;\">  0</td><td style=\"text-align: right;\">  0</td><td style=\"text-align: right;\">  0</td><td style=\"text-align: right;\">  0</td><td style=\"text-align: right;\">  0</td><td style=\"text-align: right;\">  0</td><td style=\"text-align: right;\">  0</td><td style=\"text-align: right;\">  1</td><td style=\"text-align: right;\">  2</td><td style=\"text-align: right;\">  0</td><td style=\"text-align: right;\">  0</td><td style=\"text-align: right;\">  1</td><td style=\"text-align: right;\">  0</td><td style=\"text-align: right;\">  0</td><td style=\"text-align: right;\">  0</td><td style=\"text-align: right;\">313</td><td style=\"text-align: right;\">  0</td><td style=\"text-align: right;\">  1</td><td style=\"text-align: right;\">  0</td><td style=\"text-align: right;\">  5</td></tr>\n",
       "<tr><td style=\"text-align: right;\">  0</td><td style=\"text-align: right;\">  0</td><td style=\"text-align: right;\">  0</td><td style=\"text-align: right;\">  0</td><td style=\"text-align: right;\">  0</td><td style=\"text-align: right;\">  0</td><td style=\"text-align: right;\">  0</td><td style=\"text-align: right;\">  0</td><td style=\"text-align: right;\">  1</td><td style=\"text-align: right;\">  0</td><td style=\"text-align: right;\">  0</td><td style=\"text-align: right;\">  1</td><td style=\"text-align: right;\">  0</td><td style=\"text-align: right;\">  0</td><td style=\"text-align: right;\">  0</td><td style=\"text-align: right;\">  0</td><td style=\"text-align: right;\">  0</td><td style=\"text-align: right;\">385</td><td style=\"text-align: right;\">  1</td><td style=\"text-align: right;\">  0</td><td style=\"text-align: right;\">  0</td></tr>\n",
       "<tr><td style=\"text-align: right;\">  0</td><td style=\"text-align: right;\">  0</td><td style=\"text-align: right;\">  0</td><td style=\"text-align: right;\">  0</td><td style=\"text-align: right;\">  0</td><td style=\"text-align: right;\">  0</td><td style=\"text-align: right;\">  1</td><td style=\"text-align: right;\">  0</td><td style=\"text-align: right;\">  0</td><td style=\"text-align: right;\">  0</td><td style=\"text-align: right;\">  0</td><td style=\"text-align: right;\">  0</td><td style=\"text-align: right;\">  0</td><td style=\"text-align: right;\">  0</td><td style=\"text-align: right;\">  0</td><td style=\"text-align: right;\">  2</td><td style=\"text-align: right;\">  0</td><td style=\"text-align: right;\">  0</td><td style=\"text-align: right;\">306</td><td style=\"text-align: right;\">  0</td><td style=\"text-align: right;\">  0</td></tr>\n",
       "<tr><td style=\"text-align: right;\">  0</td><td style=\"text-align: right;\">  4</td><td style=\"text-align: right;\">  0</td><td style=\"text-align: right;\">  0</td><td style=\"text-align: right;\">  0</td><td style=\"text-align: right;\">  1</td><td style=\"text-align: right;\">  0</td><td style=\"text-align: right;\">  0</td><td style=\"text-align: right;\">  0</td><td style=\"text-align: right;\">  0</td><td style=\"text-align: right;\">  0</td><td style=\"text-align: right;\">  0</td><td style=\"text-align: right;\">  0</td><td style=\"text-align: right;\">  0</td><td style=\"text-align: right;\">  0</td><td style=\"text-align: right;\">  0</td><td style=\"text-align: right;\">  1</td><td style=\"text-align: right;\">  0</td><td style=\"text-align: right;\">  0</td><td style=\"text-align: right;\">343</td><td style=\"text-align: right;\">  0</td></tr>\n",
       "<tr><td style=\"text-align: right;\">  0</td><td style=\"text-align: right;\">  0</td><td style=\"text-align: right;\">  0</td><td style=\"text-align: right;\">  0</td><td style=\"text-align: right;\">  0</td><td style=\"text-align: right;\">  0</td><td style=\"text-align: right;\">  0</td><td style=\"text-align: right;\">  0</td><td style=\"text-align: right;\">  0</td><td style=\"text-align: right;\">  1</td><td style=\"text-align: right;\">  0</td><td style=\"text-align: right;\">  0</td><td style=\"text-align: right;\">  0</td><td style=\"text-align: right;\">  0</td><td style=\"text-align: right;\">  0</td><td style=\"text-align: right;\">  0</td><td style=\"text-align: right;\">  1</td><td style=\"text-align: right;\">  0</td><td style=\"text-align: right;\">  0</td><td style=\"text-align: right;\">  0</td><td style=\"text-align: right;\">373</td></tr>\n",
       "</tbody>\n",
       "</table>"
      ],
      "text/plain": [
       "<IPython.core.display.HTML object>"
      ]
     },
     "metadata": {},
     "output_type": "display_data"
    }
   ],
   "source": [
    "matrix = tabulate(metrics.confusion_matrix(t_test, t_pred),\n",
    "                           tablefmt = 'html')\n",
    "from IPython.display import HTML, display\n",
    "display(HTML(matrix))"
   ]
  },
  {
   "cell_type": "markdown",
   "id": "e6334179",
   "metadata": {},
   "source": [
    "In general, the metrics showed a positive result using a decision tree algorithm to create a predictive model for the LAPD. Accuracy and f-score are high, which means that has high chance to capture the data and predict a target in a proper way. Additionally, the confusion matrix shows similar results when the accuracy is the objective. This is because, the model has properly capture the majority of true positives. \n",
    "\n",
    "In order to explore options of informatiom-based models, this project will test the same data in a Random Forest algorithm that subsets certain features of the dataset."
   ]
  },
  {
   "cell_type": "markdown",
   "id": "3efdeaf5",
   "metadata": {},
   "source": [
    "###### $Random Forest$\n",
    "Randome Forest is an alternative of a information-based algorithm. It search till the maximum depth to identify possible pattern between features that provide the model to predict the response variable"
   ]
  },
  {
   "cell_type": "code",
   "execution_count": 148,
   "id": "21937447",
   "metadata": {},
   "outputs": [],
   "source": [
    "from sklearn.ensemble import RandomForestClassifier\n",
    "rf_classifier = RandomForestClassifier(max_depth=None,\n",
    "                                       min_samples_split=2,\n",
    "                                       random_state=999)\n",
    "\n",
    "params_pipe_RF_fs = {'fselector__score_func': [f_classif, mutual_info_classif],\n",
    "                     'fselector__k': [10,20,data.shape[1]]}\n",
    " \n",
    "pipe_RF_fs = Pipeline([('fselector', SelectKBest()), \n",
    "                    ('df', rf_classifier)])\n",
    "\n",
    "gs_pipe_RF_fs  = GridSearchCV(estimator=pipe_RF_fs, \n",
    "                           param_grid=params_pipe_RF_fs, \n",
    "                           cv=cv_method,\n",
    "                           n_jobs=-2,\n",
    "                           scoring='accuracy', \n",
    "                           verbose=1)\n"
   ]
  },
  {
   "cell_type": "markdown",
   "id": "24edf4ea",
   "metadata": {},
   "source": [
    "#### Model Fitting\n",
    "The model run for less than a 1 min fitting 10 folds for each 6 subsets and just 10 descriptive feature."
   ]
  },
  {
   "cell_type": "code",
   "execution_count": 151,
   "id": "9c516a3e",
   "metadata": {},
   "outputs": [
    {
     "name": "stdout",
     "output_type": "stream",
     "text": [
      "Fitting 10 folds for each of 6 candidates, totalling 60 fits\n",
      "CPU times: total: 4.34 s\n",
      "Wall time: 32.9 s\n"
     ]
    },
    {
     "data": {
      "text/plain": [
       "GridSearchCV(cv=RepeatedStratifiedKFold(n_repeats=1, n_splits=10, random_state=999),\n",
       "             estimator=Pipeline(steps=[('fselector', SelectKBest()),\n",
       "                                       ('df',\n",
       "                                        RandomForestClassifier(random_state=999))]),\n",
       "             n_jobs=-2,\n",
       "             param_grid={'fselector__k': [10, 20, 27],\n",
       "                         'fselector__score_func': [<function f_classif at 0x0000024395A045E0>,\n",
       "                                                   <function mutual_info_classif at 0x0000024395D62700>]},\n",
       "             scoring='accuracy', verbose=1)"
      ]
     },
     "execution_count": 151,
     "metadata": {},
     "output_type": "execute_result"
    }
   ],
   "source": [
    "%%time\n",
    "gs_pipe_RF_fs.fit(d_train, t_train);"
   ]
  },
  {
   "cell_type": "code",
   "execution_count": 152,
   "id": "3d5f650c",
   "metadata": {
    "scrolled": true
   },
   "outputs": [
    {
     "data": {
      "text/plain": [
       "10"
      ]
     },
     "execution_count": 152,
     "metadata": {},
     "output_type": "execute_result"
    }
   ],
   "source": [
    "gs_pipe_RF_fs.best_estimator_[0].k"
   ]
  },
  {
   "cell_type": "markdown",
   "id": "43b5f8c5",
   "metadata": {},
   "source": [
    "#### Metrics\n",
    "The metrics to evaluate this algorithm are the best f-score, accuracy score, precision score and the confusion matrix."
   ]
  },
  {
   "cell_type": "markdown",
   "id": "5f20a69b",
   "metadata": {},
   "source": [
    "F-SCORE"
   ]
  },
  {
   "cell_type": "code",
   "execution_count": 153,
   "id": "3057cc2a",
   "metadata": {},
   "outputs": [
    {
     "data": {
      "text/plain": [
       "0.9690518249757962"
      ]
     },
     "execution_count": 153,
     "metadata": {},
     "output_type": "execute_result"
    }
   ],
   "source": [
    "gs_pipe_RF_fs.best_score_"
   ]
  },
  {
   "cell_type": "markdown",
   "id": "e2e24af1",
   "metadata": {},
   "source": [
    "ACCURACY SCORE"
   ]
  },
  {
   "cell_type": "code",
   "execution_count": 154,
   "id": "9c7e44ff",
   "metadata": {},
   "outputs": [
    {
     "data": {
      "text/plain": [
       "0.970341715022566"
      ]
     },
     "execution_count": 154,
     "metadata": {},
     "output_type": "execute_result"
    }
   ],
   "source": [
    "t_pred = gs_pipe_RF_fs.predict(d_test)\n",
    "metrics.accuracy_score(t_test, t_pred)"
   ]
  },
  {
   "cell_type": "markdown",
   "id": "655cfb17",
   "metadata": {},
   "source": [
    "CONFUSION MATRIX"
   ]
  },
  {
   "cell_type": "code",
   "execution_count": 155,
   "id": "f4d0ea60",
   "metadata": {},
   "outputs": [
    {
     "data": {
      "text/html": [
       "<table>\n",
       "<tbody>\n",
       "<tr><td style=\"text-align: right;\">533</td><td style=\"text-align: right;\">  2</td><td style=\"text-align: right;\">  0</td><td style=\"text-align: right;\">  0</td><td style=\"text-align: right;\">  0</td><td style=\"text-align: right;\">  0</td><td style=\"text-align: right;\">  1</td><td style=\"text-align: right;\">  1</td><td style=\"text-align: right;\">  0</td><td style=\"text-align: right;\">  0</td><td style=\"text-align: right;\">  0</td><td style=\"text-align: right;\">  0</td><td style=\"text-align: right;\"> 14</td><td style=\"text-align: right;\">  0</td><td style=\"text-align: right;\">  0</td><td style=\"text-align: right;\">  0</td><td style=\"text-align: right;\">  0</td><td style=\"text-align: right;\">  0</td><td style=\"text-align: right;\">  0</td><td style=\"text-align: right;\">  0</td><td style=\"text-align: right;\">  0</td></tr>\n",
       "<tr><td style=\"text-align: right;\"> 15</td><td style=\"text-align: right;\">305</td><td style=\"text-align: right;\">  0</td><td style=\"text-align: right;\">  0</td><td style=\"text-align: right;\">  0</td><td style=\"text-align: right;\">  0</td><td style=\"text-align: right;\">  0</td><td style=\"text-align: right;\">  0</td><td style=\"text-align: right;\">  0</td><td style=\"text-align: right;\">  0</td><td style=\"text-align: right;\"> 13</td><td style=\"text-align: right;\">  0</td><td style=\"text-align: right;\">  0</td><td style=\"text-align: right;\">  0</td><td style=\"text-align: right;\">  0</td><td style=\"text-align: right;\">  0</td><td style=\"text-align: right;\">  0</td><td style=\"text-align: right;\">  0</td><td style=\"text-align: right;\">  0</td><td style=\"text-align: right;\"> 14</td><td style=\"text-align: right;\">  0</td></tr>\n",
       "<tr><td style=\"text-align: right;\">  0</td><td style=\"text-align: right;\">  2</td><td style=\"text-align: right;\">426</td><td style=\"text-align: right;\">  0</td><td style=\"text-align: right;\">  0</td><td style=\"text-align: right;\">  2</td><td style=\"text-align: right;\">  1</td><td style=\"text-align: right;\">  0</td><td style=\"text-align: right;\">  0</td><td style=\"text-align: right;\">  0</td><td style=\"text-align: right;\">  0</td><td style=\"text-align: right;\">  8</td><td style=\"text-align: right;\">  6</td><td style=\"text-align: right;\">  1</td><td style=\"text-align: right;\">  0</td><td style=\"text-align: right;\">  0</td><td style=\"text-align: right;\">  0</td><td style=\"text-align: right;\">  0</td><td style=\"text-align: right;\">  0</td><td style=\"text-align: right;\">  2</td><td style=\"text-align: right;\">  0</td></tr>\n",
       "<tr><td style=\"text-align: right;\">  4</td><td style=\"text-align: right;\">  0</td><td style=\"text-align: right;\">  0</td><td style=\"text-align: right;\">258</td><td style=\"text-align: right;\">  0</td><td style=\"text-align: right;\">  0</td><td style=\"text-align: right;\">  0</td><td style=\"text-align: right;\">  0</td><td style=\"text-align: right;\">  0</td><td style=\"text-align: right;\">  0</td><td style=\"text-align: right;\">  4</td><td style=\"text-align: right;\">  0</td><td style=\"text-align: right;\">  0</td><td style=\"text-align: right;\">  0</td><td style=\"text-align: right;\">  0</td><td style=\"text-align: right;\">  0</td><td style=\"text-align: right;\">  0</td><td style=\"text-align: right;\">  0</td><td style=\"text-align: right;\">  0</td><td style=\"text-align: right;\">  0</td><td style=\"text-align: right;\">  0</td></tr>\n",
       "<tr><td style=\"text-align: right;\">  0</td><td style=\"text-align: right;\">  1</td><td style=\"text-align: right;\">  0</td><td style=\"text-align: right;\">  0</td><td style=\"text-align: right;\">302</td><td style=\"text-align: right;\">  0</td><td style=\"text-align: right;\">  0</td><td style=\"text-align: right;\">  0</td><td style=\"text-align: right;\">  0</td><td style=\"text-align: right;\">  0</td><td style=\"text-align: right;\">  0</td><td style=\"text-align: right;\">  0</td><td style=\"text-align: right;\">  0</td><td style=\"text-align: right;\">  0</td><td style=\"text-align: right;\">  0</td><td style=\"text-align: right;\">  0</td><td style=\"text-align: right;\">  0</td><td style=\"text-align: right;\">  0</td><td style=\"text-align: right;\">  0</td><td style=\"text-align: right;\">  0</td><td style=\"text-align: right;\">  0</td></tr>\n",
       "<tr><td style=\"text-align: right;\">  1</td><td style=\"text-align: right;\">  1</td><td style=\"text-align: right;\">  1</td><td style=\"text-align: right;\">  0</td><td style=\"text-align: right;\">  2</td><td style=\"text-align: right;\">414</td><td style=\"text-align: right;\">  6</td><td style=\"text-align: right;\">  0</td><td style=\"text-align: right;\">  0</td><td style=\"text-align: right;\">  0</td><td style=\"text-align: right;\">  1</td><td style=\"text-align: right;\">  0</td><td style=\"text-align: right;\">  0</td><td style=\"text-align: right;\">  0</td><td style=\"text-align: right;\">  1</td><td style=\"text-align: right;\">  0</td><td style=\"text-align: right;\">  0</td><td style=\"text-align: right;\">  0</td><td style=\"text-align: right;\">  0</td><td style=\"text-align: right;\">  2</td><td style=\"text-align: right;\">  0</td></tr>\n",
       "<tr><td style=\"text-align: right;\">  0</td><td style=\"text-align: right;\">  0</td><td style=\"text-align: right;\">  1</td><td style=\"text-align: right;\">  0</td><td style=\"text-align: right;\">  0</td><td style=\"text-align: right;\">  4</td><td style=\"text-align: right;\">358</td><td style=\"text-align: right;\">  0</td><td style=\"text-align: right;\">  0</td><td style=\"text-align: right;\">  0</td><td style=\"text-align: right;\">  0</td><td style=\"text-align: right;\">  0</td><td style=\"text-align: right;\">  0</td><td style=\"text-align: right;\">  0</td><td style=\"text-align: right;\">  0</td><td style=\"text-align: right;\">  0</td><td style=\"text-align: right;\">  0</td><td style=\"text-align: right;\">  0</td><td style=\"text-align: right;\">  1</td><td style=\"text-align: right;\">  2</td><td style=\"text-align: right;\">  0</td></tr>\n",
       "<tr><td style=\"text-align: right;\">  0</td><td style=\"text-align: right;\">  0</td><td style=\"text-align: right;\">  0</td><td style=\"text-align: right;\">  0</td><td style=\"text-align: right;\">  0</td><td style=\"text-align: right;\">  0</td><td style=\"text-align: right;\">  5</td><td style=\"text-align: right;\">377</td><td style=\"text-align: right;\">  0</td><td style=\"text-align: right;\">  0</td><td style=\"text-align: right;\">  0</td><td style=\"text-align: right;\">  0</td><td style=\"text-align: right;\">  0</td><td style=\"text-align: right;\">  3</td><td style=\"text-align: right;\">  0</td><td style=\"text-align: right;\">  0</td><td style=\"text-align: right;\">  0</td><td style=\"text-align: right;\">  0</td><td style=\"text-align: right;\">  0</td><td style=\"text-align: right;\">  0</td><td style=\"text-align: right;\">  0</td></tr>\n",
       "<tr><td style=\"text-align: right;\">  0</td><td style=\"text-align: right;\">  0</td><td style=\"text-align: right;\">  0</td><td style=\"text-align: right;\">  0</td><td style=\"text-align: right;\">  0</td><td style=\"text-align: right;\">  0</td><td style=\"text-align: right;\">  0</td><td style=\"text-align: right;\">  0</td><td style=\"text-align: right;\">317</td><td style=\"text-align: right;\">  1</td><td style=\"text-align: right;\">  0</td><td style=\"text-align: right;\">  0</td><td style=\"text-align: right;\">  0</td><td style=\"text-align: right;\">  0</td><td style=\"text-align: right;\"> 11</td><td style=\"text-align: right;\">  0</td><td style=\"text-align: right;\">  0</td><td style=\"text-align: right;\">  0</td><td style=\"text-align: right;\">  1</td><td style=\"text-align: right;\">  0</td><td style=\"text-align: right;\">  0</td></tr>\n",
       "<tr><td style=\"text-align: right;\">  0</td><td style=\"text-align: right;\">  0</td><td style=\"text-align: right;\">  0</td><td style=\"text-align: right;\">  0</td><td style=\"text-align: right;\">  0</td><td style=\"text-align: right;\">  0</td><td style=\"text-align: right;\">  0</td><td style=\"text-align: right;\">  0</td><td style=\"text-align: right;\">  4</td><td style=\"text-align: right;\">335</td><td style=\"text-align: right;\">  0</td><td style=\"text-align: right;\">  0</td><td style=\"text-align: right;\">  0</td><td style=\"text-align: right;\">  0</td><td style=\"text-align: right;\">  0</td><td style=\"text-align: right;\">  0</td><td style=\"text-align: right;\">  1</td><td style=\"text-align: right;\">  0</td><td style=\"text-align: right;\">  0</td><td style=\"text-align: right;\">  0</td><td style=\"text-align: right;\">  0</td></tr>\n",
       "<tr><td style=\"text-align: right;\">  0</td><td style=\"text-align: right;\">  7</td><td style=\"text-align: right;\">  0</td><td style=\"text-align: right;\">  3</td><td style=\"text-align: right;\">  0</td><td style=\"text-align: right;\">  1</td><td style=\"text-align: right;\">  0</td><td style=\"text-align: right;\">  0</td><td style=\"text-align: right;\">  0</td><td style=\"text-align: right;\">  0</td><td style=\"text-align: right;\">310</td><td style=\"text-align: right;\">  0</td><td style=\"text-align: right;\">  0</td><td style=\"text-align: right;\">  0</td><td style=\"text-align: right;\">  0</td><td style=\"text-align: right;\">  0</td><td style=\"text-align: right;\">  0</td><td style=\"text-align: right;\">  0</td><td style=\"text-align: right;\">  0</td><td style=\"text-align: right;\">  0</td><td style=\"text-align: right;\">  0</td></tr>\n",
       "<tr><td style=\"text-align: right;\">  0</td><td style=\"text-align: right;\">  0</td><td style=\"text-align: right;\">  2</td><td style=\"text-align: right;\">  0</td><td style=\"text-align: right;\">  0</td><td style=\"text-align: right;\">  0</td><td style=\"text-align: right;\">  0</td><td style=\"text-align: right;\">  0</td><td style=\"text-align: right;\">  0</td><td style=\"text-align: right;\">  0</td><td style=\"text-align: right;\">  0</td><td style=\"text-align: right;\">519</td><td style=\"text-align: right;\">  0</td><td style=\"text-align: right;\">  0</td><td style=\"text-align: right;\">  0</td><td style=\"text-align: right;\">  0</td><td style=\"text-align: right;\">  0</td><td style=\"text-align: right;\">  0</td><td style=\"text-align: right;\">  0</td><td style=\"text-align: right;\">  0</td><td style=\"text-align: right;\">  0</td></tr>\n",
       "<tr><td style=\"text-align: right;\"> 15</td><td style=\"text-align: right;\">  0</td><td style=\"text-align: right;\">  2</td><td style=\"text-align: right;\">  0</td><td style=\"text-align: right;\">  0</td><td style=\"text-align: right;\">  0</td><td style=\"text-align: right;\">  0</td><td style=\"text-align: right;\">  0</td><td style=\"text-align: right;\">  0</td><td style=\"text-align: right;\">  0</td><td style=\"text-align: right;\">  0</td><td style=\"text-align: right;\">  5</td><td style=\"text-align: right;\">308</td><td style=\"text-align: right;\">  0</td><td style=\"text-align: right;\">  0</td><td style=\"text-align: right;\">  0</td><td style=\"text-align: right;\">  0</td><td style=\"text-align: right;\">  0</td><td style=\"text-align: right;\">  0</td><td style=\"text-align: right;\">  0</td><td style=\"text-align: right;\">  0</td></tr>\n",
       "<tr><td style=\"text-align: right;\">  0</td><td style=\"text-align: right;\">  0</td><td style=\"text-align: right;\">  0</td><td style=\"text-align: right;\">  0</td><td style=\"text-align: right;\">  1</td><td style=\"text-align: right;\">  0</td><td style=\"text-align: right;\">  0</td><td style=\"text-align: right;\">  1</td><td style=\"text-align: right;\">  0</td><td style=\"text-align: right;\">  0</td><td style=\"text-align: right;\">  0</td><td style=\"text-align: right;\">  1</td><td style=\"text-align: right;\">  0</td><td style=\"text-align: right;\">424</td><td style=\"text-align: right;\">  0</td><td style=\"text-align: right;\">  0</td><td style=\"text-align: right;\">  0</td><td style=\"text-align: right;\">  0</td><td style=\"text-align: right;\">  0</td><td style=\"text-align: right;\">  0</td><td style=\"text-align: right;\">  0</td></tr>\n",
       "<tr><td style=\"text-align: right;\">  0</td><td style=\"text-align: right;\">  0</td><td style=\"text-align: right;\">  0</td><td style=\"text-align: right;\">  0</td><td style=\"text-align: right;\">  1</td><td style=\"text-align: right;\">  5</td><td style=\"text-align: right;\">  0</td><td style=\"text-align: right;\">  0</td><td style=\"text-align: right;\">  7</td><td style=\"text-align: right;\">  0</td><td style=\"text-align: right;\">  0</td><td style=\"text-align: right;\">  0</td><td style=\"text-align: right;\">  0</td><td style=\"text-align: right;\">  0</td><td style=\"text-align: right;\">365</td><td style=\"text-align: right;\">  3</td><td style=\"text-align: right;\">  0</td><td style=\"text-align: right;\">  0</td><td style=\"text-align: right;\">  0</td><td style=\"text-align: right;\">  0</td><td style=\"text-align: right;\">  0</td></tr>\n",
       "<tr><td style=\"text-align: right;\">  0</td><td style=\"text-align: right;\">  0</td><td style=\"text-align: right;\">  0</td><td style=\"text-align: right;\">  0</td><td style=\"text-align: right;\">  0</td><td style=\"text-align: right;\">  1</td><td style=\"text-align: right;\">  0</td><td style=\"text-align: right;\">  0</td><td style=\"text-align: right;\">  0</td><td style=\"text-align: right;\">  0</td><td style=\"text-align: right;\">  0</td><td style=\"text-align: right;\">  0</td><td style=\"text-align: right;\">  0</td><td style=\"text-align: right;\">  0</td><td style=\"text-align: right;\">  2</td><td style=\"text-align: right;\">259</td><td style=\"text-align: right;\">  0</td><td style=\"text-align: right;\">  0</td><td style=\"text-align: right;\">  4</td><td style=\"text-align: right;\">  0</td><td style=\"text-align: right;\">  0</td></tr>\n",
       "<tr><td style=\"text-align: right;\">  0</td><td style=\"text-align: right;\">  0</td><td style=\"text-align: right;\">  0</td><td style=\"text-align: right;\">  0</td><td style=\"text-align: right;\">  0</td><td style=\"text-align: right;\">  0</td><td style=\"text-align: right;\">  0</td><td style=\"text-align: right;\">  0</td><td style=\"text-align: right;\">  1</td><td style=\"text-align: right;\">  1</td><td style=\"text-align: right;\">  0</td><td style=\"text-align: right;\">  0</td><td style=\"text-align: right;\">  0</td><td style=\"text-align: right;\">  1</td><td style=\"text-align: right;\">  0</td><td style=\"text-align: right;\">  0</td><td style=\"text-align: right;\">317</td><td style=\"text-align: right;\">  0</td><td style=\"text-align: right;\">  1</td><td style=\"text-align: right;\">  0</td><td style=\"text-align: right;\">  2</td></tr>\n",
       "<tr><td style=\"text-align: right;\">  0</td><td style=\"text-align: right;\">  0</td><td style=\"text-align: right;\">  0</td><td style=\"text-align: right;\">  0</td><td style=\"text-align: right;\">  0</td><td style=\"text-align: right;\">  0</td><td style=\"text-align: right;\">  0</td><td style=\"text-align: right;\">  0</td><td style=\"text-align: right;\">  0</td><td style=\"text-align: right;\">  0</td><td style=\"text-align: right;\">  0</td><td style=\"text-align: right;\">  0</td><td style=\"text-align: right;\">  0</td><td style=\"text-align: right;\">  0</td><td style=\"text-align: right;\">  0</td><td style=\"text-align: right;\">  0</td><td style=\"text-align: right;\">  0</td><td style=\"text-align: right;\">387</td><td style=\"text-align: right;\">  1</td><td style=\"text-align: right;\">  0</td><td style=\"text-align: right;\">  0</td></tr>\n",
       "<tr><td style=\"text-align: right;\">  0</td><td style=\"text-align: right;\">  0</td><td style=\"text-align: right;\">  0</td><td style=\"text-align: right;\">  0</td><td style=\"text-align: right;\">  0</td><td style=\"text-align: right;\">  0</td><td style=\"text-align: right;\">  1</td><td style=\"text-align: right;\">  0</td><td style=\"text-align: right;\">  5</td><td style=\"text-align: right;\">  0</td><td style=\"text-align: right;\">  0</td><td style=\"text-align: right;\">  0</td><td style=\"text-align: right;\">  0</td><td style=\"text-align: right;\">  0</td><td style=\"text-align: right;\">  0</td><td style=\"text-align: right;\">  5</td><td style=\"text-align: right;\">  1</td><td style=\"text-align: right;\">  0</td><td style=\"text-align: right;\">297</td><td style=\"text-align: right;\">  0</td><td style=\"text-align: right;\">  0</td></tr>\n",
       "<tr><td style=\"text-align: right;\">  0</td><td style=\"text-align: right;\">  3</td><td style=\"text-align: right;\">  0</td><td style=\"text-align: right;\">  0</td><td style=\"text-align: right;\">  0</td><td style=\"text-align: right;\">  1</td><td style=\"text-align: right;\">  1</td><td style=\"text-align: right;\">  0</td><td style=\"text-align: right;\">  0</td><td style=\"text-align: right;\">  0</td><td style=\"text-align: right;\">  0</td><td style=\"text-align: right;\">  0</td><td style=\"text-align: right;\">  0</td><td style=\"text-align: right;\">  1</td><td style=\"text-align: right;\">  0</td><td style=\"text-align: right;\">  0</td><td style=\"text-align: right;\">  0</td><td style=\"text-align: right;\">  0</td><td style=\"text-align: right;\">  0</td><td style=\"text-align: right;\">343</td><td style=\"text-align: right;\">  0</td></tr>\n",
       "<tr><td style=\"text-align: right;\">  0</td><td style=\"text-align: right;\">  0</td><td style=\"text-align: right;\">  0</td><td style=\"text-align: right;\">  0</td><td style=\"text-align: right;\">  0</td><td style=\"text-align: right;\">  0</td><td style=\"text-align: right;\">  0</td><td style=\"text-align: right;\">  0</td><td style=\"text-align: right;\">  0</td><td style=\"text-align: right;\">  2</td><td style=\"text-align: right;\">  0</td><td style=\"text-align: right;\">  0</td><td style=\"text-align: right;\">  0</td><td style=\"text-align: right;\">  0</td><td style=\"text-align: right;\">  0</td><td style=\"text-align: right;\">  0</td><td style=\"text-align: right;\">  2</td><td style=\"text-align: right;\">  0</td><td style=\"text-align: right;\">  0</td><td style=\"text-align: right;\">  0</td><td style=\"text-align: right;\">371</td></tr>\n",
       "</tbody>\n",
       "</table>"
      ],
      "text/plain": [
       "<IPython.core.display.HTML object>"
      ]
     },
     "metadata": {},
     "output_type": "display_data"
    }
   ],
   "source": [
    "metrics.confusion_matrix(t_test, t_pred)\n",
    "matrix = tabulate(metrics.confusion_matrix(t_test, t_pred),\n",
    "                           tablefmt = 'html')\n",
    "from IPython.display import HTML, display\n",
    "display(HTML(matrix))"
   ]
  },
  {
   "cell_type": "markdown",
   "id": "3946a724",
   "metadata": {},
   "source": [
    "Similarly to the decision tree algorithm, Random forest can capture the data with a considerable precision and accuracy. It is possible to be reflected in the confusion matrix where the majority of observations are considered as True Positives."
   ]
  },
  {
   "cell_type": "markdown",
   "id": "75698ff4",
   "metadata": {},
   "source": [
    "### Model 2 : Naive Bayes <a id='m2'></a>\n",
    "Secondly, models with probabilistic methods are an alternative to explore. This type of models consider the probability of the descriptive features as an input and it use them to predict the target feature based on the conditions. For this model, the selection of features is not an input to determine the best model. However, it requires parameters for smoothing the probability across the descriptive features. \n",
    "\n",
    "###### $Gaussian Naive$"
   ]
  },
  {
   "cell_type": "code",
   "execution_count": 165,
   "id": "f00153e9",
   "metadata": {
    "scrolled": true
   },
   "outputs": [],
   "source": [
    "# Full data\n",
    "from sklearn.naive_bayes import GaussianNB\n",
    "from sklearn.preprocessing import PowerTransformer\n",
    "\n",
    "nb_classifier = GaussianNB()\n",
    "\n",
    "params_NB = {'var_smoothing': np.logspace(10,-2, num=100)}\n",
    "\n",
    "gs_NB_1000 = GridSearchCV(estimator=nb_classifier, \n",
    "                     param_grid=params_NB, \n",
    "                     cv=cv_method,\n",
    "                     verbose=1, \n",
    "                     scoring='accuracy',\n",
    "                     return_train_score=True)\n",
    "\n",
    "d_train_transformed = PowerTransformer().fit_transform(d_train)\n",
    "\n",
    "d_train_transformed."
   ]
  },
  {
   "cell_type": "markdown",
   "id": "68cc27d7",
   "metadata": {},
   "source": [
    "#### Model Fitting\n",
    "The model run for about 2 min fitting 10 folds for each 1000 possible combinations and it selects that a variance spread of 0.1629 for this dataset."
   ]
  },
  {
   "cell_type": "code",
   "execution_count": 166,
   "id": "9de5e9ee",
   "metadata": {
    "scrolled": false
   },
   "outputs": [
    {
     "name": "stdout",
     "output_type": "stream",
     "text": [
      "Fitting 10 folds for each of 100 candidates, totalling 1000 fits\n",
      "CPU times: total: 1min 23s\n",
      "Wall time: 1min 24s\n"
     ]
    },
    {
     "data": {
      "text/plain": [
       "GridSearchCV(cv=RepeatedStratifiedKFold(n_repeats=1, n_splits=10, random_state=999),\n",
       "             estimator=GaussianNB(),\n",
       "             param_grid={'var_smoothing': array([1.00000000e+10, 7.56463328e+09, 5.72236766e+09, 4.32876128e+09,\n",
       "       3.27454916e+09, 2.47707636e+09, 1.87381742e+09, 1.41747416e+09,\n",
       "       1.07226722e+09, 8.11130831e+08, 6.13590727e+08, 4.64158883e+08,\n",
       "       3.51119173e+08, 2.65608778e+08,...\n",
       "       2.00923300e+00, 1.51991108e+00, 1.14975700e+00, 8.69749003e-01,\n",
       "       6.57933225e-01, 4.97702356e-01, 3.76493581e-01, 2.84803587e-01,\n",
       "       2.15443469e-01, 1.62975083e-01, 1.23284674e-01, 9.32603347e-02,\n",
       "       7.05480231e-02, 5.33669923e-02, 4.03701726e-02, 3.05385551e-02,\n",
       "       2.31012970e-02, 1.74752840e-02, 1.32194115e-02, 1.00000000e-02])},\n",
       "             return_train_score=True, scoring='accuracy', verbose=1)"
      ]
     },
     "execution_count": 166,
     "metadata": {},
     "output_type": "execute_result"
    }
   ],
   "source": [
    "%%time\n",
    "gs_NB_1000.fit(d_train_transformed,t_train)"
   ]
  },
  {
   "cell_type": "code",
   "execution_count": 167,
   "id": "ec884de9",
   "metadata": {
    "scrolled": true
   },
   "outputs": [
    {
     "data": {
      "text/plain": [
       "GaussianNB(var_smoothing=0.16297508346206402)"
      ]
     },
     "execution_count": 167,
     "metadata": {},
     "output_type": "execute_result"
    }
   ],
   "source": [
    "gs_NB_1000.best_estimator_"
   ]
  },
  {
   "cell_type": "markdown",
   "id": "5589950f",
   "metadata": {},
   "source": [
    "#### Metrics"
   ]
  },
  {
   "cell_type": "markdown",
   "id": "24297b51",
   "metadata": {},
   "source": [
    "F-SCORE"
   ]
  },
  {
   "cell_type": "code",
   "execution_count": 168,
   "id": "14eb6d28",
   "metadata": {
    "scrolled": true
   },
   "outputs": [
    {
     "data": {
      "text/plain": [
       "0.225643574637555"
      ]
     },
     "execution_count": 168,
     "metadata": {},
     "output_type": "execute_result"
    }
   ],
   "source": [
    "gs_NB_1000.best_score_"
   ]
  },
  {
   "cell_type": "markdown",
   "id": "493089e6",
   "metadata": {},
   "source": [
    "ACCURACY SCORE"
   ]
  },
  {
   "cell_type": "code",
   "execution_count": 169,
   "id": "865cefb7",
   "metadata": {},
   "outputs": [
    {
     "data": {
      "text/plain": [
       "0.04332688588007737"
      ]
     },
     "execution_count": 169,
     "metadata": {},
     "output_type": "execute_result"
    }
   ],
   "source": [
    "t_pred = gs_NB_1000.predict(d_test)\n",
    "metrics.accuracy_score(t_test, t_pred)"
   ]
  },
  {
   "cell_type": "markdown",
   "id": "8d5e6844",
   "metadata": {},
   "source": [
    "CONFUSION MATRIX"
   ]
  },
  {
   "cell_type": "code",
   "execution_count": 170,
   "id": "3bc40b1a",
   "metadata": {},
   "outputs": [
    {
     "data": {
      "text/html": [
       "<table>\n",
       "<tbody>\n",
       "<tr><td style=\"text-align: right;\">0</td><td style=\"text-align: right;\">0</td><td style=\"text-align: right;\">0</td><td style=\"text-align: right;\">0</td><td style=\"text-align: right;\">0</td><td style=\"text-align: right;\">0</td><td style=\"text-align: right;\">0</td><td style=\"text-align: right;\">0</td><td style=\"text-align: right;\"> 6</td><td style=\"text-align: right;\">0</td><td style=\"text-align: right;\">0</td><td style=\"text-align: right;\">2</td><td style=\"text-align: right;\">0</td><td style=\"text-align: right;\">0</td><td style=\"text-align: right;\">7</td><td style=\"text-align: right;\">148</td><td style=\"text-align: right;\">0</td><td style=\"text-align: right;\">0</td><td style=\"text-align: right;\">388</td><td style=\"text-align: right;\">0</td><td style=\"text-align: right;\">0</td></tr>\n",
       "<tr><td style=\"text-align: right;\">0</td><td style=\"text-align: right;\">0</td><td style=\"text-align: right;\">0</td><td style=\"text-align: right;\">0</td><td style=\"text-align: right;\">0</td><td style=\"text-align: right;\">0</td><td style=\"text-align: right;\">0</td><td style=\"text-align: right;\">0</td><td style=\"text-align: right;\"> 4</td><td style=\"text-align: right;\">0</td><td style=\"text-align: right;\">0</td><td style=\"text-align: right;\">0</td><td style=\"text-align: right;\">0</td><td style=\"text-align: right;\">0</td><td style=\"text-align: right;\">1</td><td style=\"text-align: right;\"> 68</td><td style=\"text-align: right;\">0</td><td style=\"text-align: right;\">0</td><td style=\"text-align: right;\">274</td><td style=\"text-align: right;\">0</td><td style=\"text-align: right;\">0</td></tr>\n",
       "<tr><td style=\"text-align: right;\">0</td><td style=\"text-align: right;\">0</td><td style=\"text-align: right;\">0</td><td style=\"text-align: right;\">0</td><td style=\"text-align: right;\">0</td><td style=\"text-align: right;\">0</td><td style=\"text-align: right;\">0</td><td style=\"text-align: right;\">0</td><td style=\"text-align: right;\"> 0</td><td style=\"text-align: right;\">0</td><td style=\"text-align: right;\">0</td><td style=\"text-align: right;\">2</td><td style=\"text-align: right;\">0</td><td style=\"text-align: right;\">0</td><td style=\"text-align: right;\">0</td><td style=\"text-align: right;\"> 43</td><td style=\"text-align: right;\">0</td><td style=\"text-align: right;\">0</td><td style=\"text-align: right;\">403</td><td style=\"text-align: right;\">0</td><td style=\"text-align: right;\">0</td></tr>\n",
       "<tr><td style=\"text-align: right;\">0</td><td style=\"text-align: right;\">0</td><td style=\"text-align: right;\">0</td><td style=\"text-align: right;\">0</td><td style=\"text-align: right;\">0</td><td style=\"text-align: right;\">0</td><td style=\"text-align: right;\">0</td><td style=\"text-align: right;\">0</td><td style=\"text-align: right;\"> 2</td><td style=\"text-align: right;\">0</td><td style=\"text-align: right;\">0</td><td style=\"text-align: right;\">1</td><td style=\"text-align: right;\">0</td><td style=\"text-align: right;\">0</td><td style=\"text-align: right;\">2</td><td style=\"text-align: right;\"> 21</td><td style=\"text-align: right;\">0</td><td style=\"text-align: right;\">0</td><td style=\"text-align: right;\">240</td><td style=\"text-align: right;\">0</td><td style=\"text-align: right;\">0</td></tr>\n",
       "<tr><td style=\"text-align: right;\">0</td><td style=\"text-align: right;\">0</td><td style=\"text-align: right;\">0</td><td style=\"text-align: right;\">0</td><td style=\"text-align: right;\">0</td><td style=\"text-align: right;\">0</td><td style=\"text-align: right;\">0</td><td style=\"text-align: right;\">0</td><td style=\"text-align: right;\"> 1</td><td style=\"text-align: right;\">0</td><td style=\"text-align: right;\">0</td><td style=\"text-align: right;\">1</td><td style=\"text-align: right;\">0</td><td style=\"text-align: right;\">0</td><td style=\"text-align: right;\">2</td><td style=\"text-align: right;\"> 65</td><td style=\"text-align: right;\">0</td><td style=\"text-align: right;\">0</td><td style=\"text-align: right;\">234</td><td style=\"text-align: right;\">0</td><td style=\"text-align: right;\">0</td></tr>\n",
       "<tr><td style=\"text-align: right;\">0</td><td style=\"text-align: right;\">0</td><td style=\"text-align: right;\">0</td><td style=\"text-align: right;\">0</td><td style=\"text-align: right;\">0</td><td style=\"text-align: right;\">0</td><td style=\"text-align: right;\">0</td><td style=\"text-align: right;\">0</td><td style=\"text-align: right;\"> 1</td><td style=\"text-align: right;\">0</td><td style=\"text-align: right;\">0</td><td style=\"text-align: right;\">4</td><td style=\"text-align: right;\">0</td><td style=\"text-align: right;\">0</td><td style=\"text-align: right;\">2</td><td style=\"text-align: right;\">168</td><td style=\"text-align: right;\">0</td><td style=\"text-align: right;\">0</td><td style=\"text-align: right;\">254</td><td style=\"text-align: right;\">0</td><td style=\"text-align: right;\">0</td></tr>\n",
       "<tr><td style=\"text-align: right;\">0</td><td style=\"text-align: right;\">0</td><td style=\"text-align: right;\">0</td><td style=\"text-align: right;\">0</td><td style=\"text-align: right;\">0</td><td style=\"text-align: right;\">0</td><td style=\"text-align: right;\">0</td><td style=\"text-align: right;\">0</td><td style=\"text-align: right;\"> 4</td><td style=\"text-align: right;\">0</td><td style=\"text-align: right;\">0</td><td style=\"text-align: right;\">1</td><td style=\"text-align: right;\">0</td><td style=\"text-align: right;\">0</td><td style=\"text-align: right;\">2</td><td style=\"text-align: right;\">125</td><td style=\"text-align: right;\">0</td><td style=\"text-align: right;\">0</td><td style=\"text-align: right;\">234</td><td style=\"text-align: right;\">0</td><td style=\"text-align: right;\">0</td></tr>\n",
       "<tr><td style=\"text-align: right;\">0</td><td style=\"text-align: right;\">0</td><td style=\"text-align: right;\">0</td><td style=\"text-align: right;\">0</td><td style=\"text-align: right;\">0</td><td style=\"text-align: right;\">0</td><td style=\"text-align: right;\">0</td><td style=\"text-align: right;\">0</td><td style=\"text-align: right;\"> 4</td><td style=\"text-align: right;\">0</td><td style=\"text-align: right;\">0</td><td style=\"text-align: right;\">1</td><td style=\"text-align: right;\">0</td><td style=\"text-align: right;\">0</td><td style=\"text-align: right;\">5</td><td style=\"text-align: right;\">225</td><td style=\"text-align: right;\">0</td><td style=\"text-align: right;\">0</td><td style=\"text-align: right;\">150</td><td style=\"text-align: right;\">0</td><td style=\"text-align: right;\">0</td></tr>\n",
       "<tr><td style=\"text-align: right;\">0</td><td style=\"text-align: right;\">0</td><td style=\"text-align: right;\">0</td><td style=\"text-align: right;\">0</td><td style=\"text-align: right;\">0</td><td style=\"text-align: right;\">0</td><td style=\"text-align: right;\">0</td><td style=\"text-align: right;\">0</td><td style=\"text-align: right;\"> 0</td><td style=\"text-align: right;\">0</td><td style=\"text-align: right;\">0</td><td style=\"text-align: right;\">0</td><td style=\"text-align: right;\">0</td><td style=\"text-align: right;\">0</td><td style=\"text-align: right;\">0</td><td style=\"text-align: right;\">125</td><td style=\"text-align: right;\">0</td><td style=\"text-align: right;\">0</td><td style=\"text-align: right;\">205</td><td style=\"text-align: right;\">0</td><td style=\"text-align: right;\">0</td></tr>\n",
       "<tr><td style=\"text-align: right;\">0</td><td style=\"text-align: right;\">0</td><td style=\"text-align: right;\">0</td><td style=\"text-align: right;\">0</td><td style=\"text-align: right;\">0</td><td style=\"text-align: right;\">0</td><td style=\"text-align: right;\">0</td><td style=\"text-align: right;\">0</td><td style=\"text-align: right;\"> 1</td><td style=\"text-align: right;\">0</td><td style=\"text-align: right;\">0</td><td style=\"text-align: right;\">0</td><td style=\"text-align: right;\">0</td><td style=\"text-align: right;\">0</td><td style=\"text-align: right;\">3</td><td style=\"text-align: right;\">123</td><td style=\"text-align: right;\">0</td><td style=\"text-align: right;\">0</td><td style=\"text-align: right;\">213</td><td style=\"text-align: right;\">0</td><td style=\"text-align: right;\">0</td></tr>\n",
       "<tr><td style=\"text-align: right;\">0</td><td style=\"text-align: right;\">0</td><td style=\"text-align: right;\">0</td><td style=\"text-align: right;\">0</td><td style=\"text-align: right;\">0</td><td style=\"text-align: right;\">0</td><td style=\"text-align: right;\">0</td><td style=\"text-align: right;\">0</td><td style=\"text-align: right;\"> 3</td><td style=\"text-align: right;\">0</td><td style=\"text-align: right;\">0</td><td style=\"text-align: right;\">0</td><td style=\"text-align: right;\">0</td><td style=\"text-align: right;\">0</td><td style=\"text-align: right;\">0</td><td style=\"text-align: right;\">119</td><td style=\"text-align: right;\">0</td><td style=\"text-align: right;\">0</td><td style=\"text-align: right;\">199</td><td style=\"text-align: right;\">0</td><td style=\"text-align: right;\">0</td></tr>\n",
       "<tr><td style=\"text-align: right;\">0</td><td style=\"text-align: right;\">0</td><td style=\"text-align: right;\">0</td><td style=\"text-align: right;\">0</td><td style=\"text-align: right;\">0</td><td style=\"text-align: right;\">0</td><td style=\"text-align: right;\">0</td><td style=\"text-align: right;\">0</td><td style=\"text-align: right;\"> 0</td><td style=\"text-align: right;\">0</td><td style=\"text-align: right;\">0</td><td style=\"text-align: right;\">1</td><td style=\"text-align: right;\">0</td><td style=\"text-align: right;\">0</td><td style=\"text-align: right;\">0</td><td style=\"text-align: right;\"> 17</td><td style=\"text-align: right;\">0</td><td style=\"text-align: right;\">0</td><td style=\"text-align: right;\">503</td><td style=\"text-align: right;\">0</td><td style=\"text-align: right;\">0</td></tr>\n",
       "<tr><td style=\"text-align: right;\">0</td><td style=\"text-align: right;\">0</td><td style=\"text-align: right;\">0</td><td style=\"text-align: right;\">0</td><td style=\"text-align: right;\">0</td><td style=\"text-align: right;\">0</td><td style=\"text-align: right;\">0</td><td style=\"text-align: right;\">0</td><td style=\"text-align: right;\"> 0</td><td style=\"text-align: right;\">0</td><td style=\"text-align: right;\">0</td><td style=\"text-align: right;\">0</td><td style=\"text-align: right;\">0</td><td style=\"text-align: right;\">0</td><td style=\"text-align: right;\">1</td><td style=\"text-align: right;\"> 23</td><td style=\"text-align: right;\">0</td><td style=\"text-align: right;\">0</td><td style=\"text-align: right;\">306</td><td style=\"text-align: right;\">0</td><td style=\"text-align: right;\">0</td></tr>\n",
       "<tr><td style=\"text-align: right;\">0</td><td style=\"text-align: right;\">0</td><td style=\"text-align: right;\">0</td><td style=\"text-align: right;\">0</td><td style=\"text-align: right;\">0</td><td style=\"text-align: right;\">0</td><td style=\"text-align: right;\">0</td><td style=\"text-align: right;\">0</td><td style=\"text-align: right;\"> 0</td><td style=\"text-align: right;\">0</td><td style=\"text-align: right;\">0</td><td style=\"text-align: right;\">1</td><td style=\"text-align: right;\">0</td><td style=\"text-align: right;\">0</td><td style=\"text-align: right;\">3</td><td style=\"text-align: right;\">232</td><td style=\"text-align: right;\">0</td><td style=\"text-align: right;\">0</td><td style=\"text-align: right;\">191</td><td style=\"text-align: right;\">0</td><td style=\"text-align: right;\">0</td></tr>\n",
       "<tr><td style=\"text-align: right;\">0</td><td style=\"text-align: right;\">0</td><td style=\"text-align: right;\">0</td><td style=\"text-align: right;\">0</td><td style=\"text-align: right;\">0</td><td style=\"text-align: right;\">0</td><td style=\"text-align: right;\">0</td><td style=\"text-align: right;\">0</td><td style=\"text-align: right;\"> 1</td><td style=\"text-align: right;\">0</td><td style=\"text-align: right;\">0</td><td style=\"text-align: right;\">1</td><td style=\"text-align: right;\">0</td><td style=\"text-align: right;\">0</td><td style=\"text-align: right;\">0</td><td style=\"text-align: right;\">160</td><td style=\"text-align: right;\">0</td><td style=\"text-align: right;\">0</td><td style=\"text-align: right;\">219</td><td style=\"text-align: right;\">0</td><td style=\"text-align: right;\">0</td></tr>\n",
       "<tr><td style=\"text-align: right;\">0</td><td style=\"text-align: right;\">0</td><td style=\"text-align: right;\">0</td><td style=\"text-align: right;\">0</td><td style=\"text-align: right;\">0</td><td style=\"text-align: right;\">0</td><td style=\"text-align: right;\">0</td><td style=\"text-align: right;\">0</td><td style=\"text-align: right;\"> 0</td><td style=\"text-align: right;\">0</td><td style=\"text-align: right;\">0</td><td style=\"text-align: right;\">1</td><td style=\"text-align: right;\">0</td><td style=\"text-align: right;\">0</td><td style=\"text-align: right;\">0</td><td style=\"text-align: right;\"> 64</td><td style=\"text-align: right;\">0</td><td style=\"text-align: right;\">0</td><td style=\"text-align: right;\">201</td><td style=\"text-align: right;\">0</td><td style=\"text-align: right;\">0</td></tr>\n",
       "<tr><td style=\"text-align: right;\">0</td><td style=\"text-align: right;\">0</td><td style=\"text-align: right;\">0</td><td style=\"text-align: right;\">0</td><td style=\"text-align: right;\">0</td><td style=\"text-align: right;\">0</td><td style=\"text-align: right;\">0</td><td style=\"text-align: right;\">0</td><td style=\"text-align: right;\"> 2</td><td style=\"text-align: right;\">0</td><td style=\"text-align: right;\">0</td><td style=\"text-align: right;\">2</td><td style=\"text-align: right;\">0</td><td style=\"text-align: right;\">0</td><td style=\"text-align: right;\">3</td><td style=\"text-align: right;\">114</td><td style=\"text-align: right;\">0</td><td style=\"text-align: right;\">0</td><td style=\"text-align: right;\">202</td><td style=\"text-align: right;\">0</td><td style=\"text-align: right;\">0</td></tr>\n",
       "<tr><td style=\"text-align: right;\">0</td><td style=\"text-align: right;\">0</td><td style=\"text-align: right;\">0</td><td style=\"text-align: right;\">0</td><td style=\"text-align: right;\">0</td><td style=\"text-align: right;\">0</td><td style=\"text-align: right;\">0</td><td style=\"text-align: right;\">0</td><td style=\"text-align: right;\"> 1</td><td style=\"text-align: right;\">0</td><td style=\"text-align: right;\">0</td><td style=\"text-align: right;\">2</td><td style=\"text-align: right;\">0</td><td style=\"text-align: right;\">0</td><td style=\"text-align: right;\">0</td><td style=\"text-align: right;\"> 16</td><td style=\"text-align: right;\">0</td><td style=\"text-align: right;\">0</td><td style=\"text-align: right;\">369</td><td style=\"text-align: right;\">0</td><td style=\"text-align: right;\">0</td></tr>\n",
       "<tr><td style=\"text-align: right;\">0</td><td style=\"text-align: right;\">0</td><td style=\"text-align: right;\">0</td><td style=\"text-align: right;\">0</td><td style=\"text-align: right;\">0</td><td style=\"text-align: right;\">0</td><td style=\"text-align: right;\">0</td><td style=\"text-align: right;\">0</td><td style=\"text-align: right;\"> 0</td><td style=\"text-align: right;\">0</td><td style=\"text-align: right;\">0</td><td style=\"text-align: right;\">1</td><td style=\"text-align: right;\">0</td><td style=\"text-align: right;\">0</td><td style=\"text-align: right;\">0</td><td style=\"text-align: right;\"> 37</td><td style=\"text-align: right;\">0</td><td style=\"text-align: right;\">0</td><td style=\"text-align: right;\">271</td><td style=\"text-align: right;\">0</td><td style=\"text-align: right;\">0</td></tr>\n",
       "<tr><td style=\"text-align: right;\">0</td><td style=\"text-align: right;\">0</td><td style=\"text-align: right;\">0</td><td style=\"text-align: right;\">0</td><td style=\"text-align: right;\">0</td><td style=\"text-align: right;\">0</td><td style=\"text-align: right;\">0</td><td style=\"text-align: right;\">0</td><td style=\"text-align: right;\">18</td><td style=\"text-align: right;\">0</td><td style=\"text-align: right;\">0</td><td style=\"text-align: right;\">1</td><td style=\"text-align: right;\">0</td><td style=\"text-align: right;\">0</td><td style=\"text-align: right;\">0</td><td style=\"text-align: right;\"> 53</td><td style=\"text-align: right;\">0</td><td style=\"text-align: right;\">0</td><td style=\"text-align: right;\">277</td><td style=\"text-align: right;\">0</td><td style=\"text-align: right;\">0</td></tr>\n",
       "<tr><td style=\"text-align: right;\">0</td><td style=\"text-align: right;\">0</td><td style=\"text-align: right;\">0</td><td style=\"text-align: right;\">0</td><td style=\"text-align: right;\">0</td><td style=\"text-align: right;\">0</td><td style=\"text-align: right;\">0</td><td style=\"text-align: right;\">0</td><td style=\"text-align: right;\"> 0</td><td style=\"text-align: right;\">0</td><td style=\"text-align: right;\">0</td><td style=\"text-align: right;\">1</td><td style=\"text-align: right;\">0</td><td style=\"text-align: right;\">0</td><td style=\"text-align: right;\">2</td><td style=\"text-align: right;\">129</td><td style=\"text-align: right;\">0</td><td style=\"text-align: right;\">0</td><td style=\"text-align: right;\">243</td><td style=\"text-align: right;\">0</td><td style=\"text-align: right;\">0</td></tr>\n",
       "</tbody>\n",
       "</table>"
      ],
      "text/plain": [
       "<IPython.core.display.HTML object>"
      ]
     },
     "metadata": {},
     "output_type": "display_data"
    }
   ],
   "source": [
    "metrics.confusion_matrix(t_test, t_pred)\n",
    "matrix = tabulate(metrics.confusion_matrix(t_test, t_pred),\n",
    "                           tablefmt = 'html')\n",
    "from IPython.display import HTML, display\n",
    "display(HTML(matrix)) #18 & 21"
   ]
  },
  {
   "cell_type": "markdown",
   "id": "e19847be",
   "metadata": {},
   "source": [
    "In overall, the result for this model are not promising, the F-score, accuracy score and the mAP have a insignificant value. Therefore, this model it is not viable to use for predictions. Additionally, the confusion matrix shows how the model captures the majority of records as False Positives. Just the descriptive variables 18 and 21 has correctly find a percentage of True Positives. Showing that the model is very confused of how to classify the target"
   ]
  },
  {
   "cell_type": "markdown",
   "id": "a18e0581",
   "metadata": {},
   "source": [
    "### Model 3 : KNN <a id='m3'></a>\n",
    "In another hand, there similarity-based methods that may fit better for the type of prediction that this project is looking for. The most common model is the KNN which is known to consider  the neighbors of the observation and based on that information the algorithm infer a classification for the target value, in this case one of the 21 areas of Los Angeles.\n",
    "\n",
    "The initial parameters are to select among three possible number of features [10,20,27], with a range from 1 to 5 number of neighbors and measuring the distance with Euclidean and Manhattan methods. "
   ]
  },
  {
   "cell_type": "code",
   "execution_count": 172,
   "id": "fd5e0d4f",
   "metadata": {
    "scrolled": true
   },
   "outputs": [],
   "source": [
    "from sklearn.model_selection import RepeatedKFold\n",
    "from sklearn.pipeline import Pipeline\n",
    "from sklearn.neighbors import KNeighborsClassifier\n",
    "from sklearn.model_selection import RepeatedStratifiedKFold, GridSearchCV\n",
    "from sklearn.feature_selection import SelectKBest, f_classif, mutual_info_classif\n",
    "\n",
    "params_pipe_KNN = {'fselector__score_func': [f_classif, mutual_info_classif],\n",
    "                   'fselector__k': [10, 20, data.shape[1]],\n",
    "                   'knn__n_neighbors': [1, 2, 3, 4, 5],\n",
    "                   'knn__p': [1, 2]}\n",
    " \n",
    "pipe_KNN = Pipeline([('fselector', SelectKBest()), \n",
    "                     ('knn', KNeighborsClassifier())])\n",
    "\n",
    "gs_pipe_KNN = GridSearchCV(estimator=pipe_KNN, \n",
    "                           param_grid=params_pipe_KNN, \n",
    "                           cv=cv_method,\n",
    "                           scoring='accuracy',\n",
    "                           verbose=1) \n"
   ]
  },
  {
   "cell_type": "markdown",
   "id": "e2021e2a",
   "metadata": {},
   "source": [
    "#### Model Fitting\n",
    "This algorithm  test 60 possible combination. It took around 20 to complete the process"
   ]
  },
  {
   "cell_type": "code",
   "execution_count": 182,
   "id": "d8f1ed37",
   "metadata": {},
   "outputs": [
    {
     "name": "stdout",
     "output_type": "stream",
     "text": [
      "Fitting 10 folds for each of 60 candidates, totalling 600 fits\n",
      "CPU times: total: 16min 42s\n",
      "Wall time: 15min 34s\n"
     ]
    },
    {
     "data": {
      "text/plain": [
       "GridSearchCV(cv=RepeatedStratifiedKFold(n_repeats=1, n_splits=10, random_state=999),\n",
       "             estimator=Pipeline(steps=[('fselector', SelectKBest()),\n",
       "                                       ('knn', KNeighborsClassifier())]),\n",
       "             param_grid={'fselector__k': [10, 20, 27],\n",
       "                         'fselector__score_func': [<function f_classif at 0x0000024395A045E0>,\n",
       "                                                   <function mutual_info_classif at 0x0000024395D62700>],\n",
       "                         'knn__n_neighbors': [1, 2, 3, 4, 5],\n",
       "                         'knn__p': [1, 2]},\n",
       "             scoring='accuracy', verbose=1)"
      ]
     },
     "execution_count": 182,
     "metadata": {},
     "output_type": "execute_result"
    }
   ],
   "source": [
    "%%time\n",
    "gs_pipe_KNN.fit(d_train, t_train)"
   ]
  },
  {
   "cell_type": "code",
   "execution_count": 184,
   "id": "814da2f1",
   "metadata": {},
   "outputs": [
    {
     "data": {
      "text/plain": [
       "10"
      ]
     },
     "execution_count": 184,
     "metadata": {},
     "output_type": "execute_result"
    }
   ],
   "source": [
    "gs_pipe_KNN.best_estimator_[0].k"
   ]
  },
  {
   "cell_type": "code",
   "execution_count": 185,
   "id": "17615dfe",
   "metadata": {},
   "outputs": [
    {
     "data": {
      "text/plain": [
       "Pipeline(steps=[('fselector',\n",
       "                 SelectKBest(score_func=<function mutual_info_classif at 0x0000024395D62700>)),\n",
       "                ('knn', KNeighborsClassifier(n_neighbors=3, p=1))])"
      ]
     },
     "execution_count": 185,
     "metadata": {},
     "output_type": "execute_result"
    }
   ],
   "source": [
    "gs_pipe_KNN.best_estimator_"
   ]
  },
  {
   "cell_type": "markdown",
   "id": "5e3b1b23",
   "metadata": {},
   "source": [
    "#### Metrics"
   ]
  },
  {
   "cell_type": "markdown",
   "id": "4375827c",
   "metadata": {},
   "source": [
    "F-SCORE"
   ]
  },
  {
   "cell_type": "code",
   "execution_count": 186,
   "id": "52aa111c",
   "metadata": {},
   "outputs": [
    {
     "data": {
      "text/plain": [
       "0.18905698640010504"
      ]
     },
     "execution_count": 186,
     "metadata": {},
     "output_type": "execute_result"
    }
   ],
   "source": [
    "gs_pipe_KNN.best_score_"
   ]
  },
  {
   "cell_type": "markdown",
   "id": "1f08b9c4",
   "metadata": {},
   "source": [
    "ACCURACY SCORE"
   ]
  },
  {
   "cell_type": "code",
   "execution_count": 187,
   "id": "fdf91ca7",
   "metadata": {},
   "outputs": [
    {
     "data": {
      "text/plain": [
       "0.13191489361702127"
      ]
     },
     "execution_count": 187,
     "metadata": {},
     "output_type": "execute_result"
    }
   ],
   "source": [
    "t_pred = gs_pipe_KNN.predict(d_test)\n",
    "metrics.accuracy_score(t_test, t_pred)"
   ]
  },
  {
   "cell_type": "markdown",
   "id": "27cfa8de",
   "metadata": {},
   "source": [
    "CONFUSION MATRIX"
   ]
  },
  {
   "cell_type": "code",
   "execution_count": 188,
   "id": "cedf46e2",
   "metadata": {},
   "outputs": [
    {
     "data": {
      "text/html": [
       "<table>\n",
       "<tbody>\n",
       "<tr><td style=\"text-align: right;\">204</td><td style=\"text-align: right;\">53</td><td style=\"text-align: right;\">43</td><td style=\"text-align: right;\">30</td><td style=\"text-align: right;\">13</td><td style=\"text-align: right;\">36</td><td style=\"text-align: right;\">33</td><td style=\"text-align: right;\">21</td><td style=\"text-align: right;\">24</td><td style=\"text-align: right;\"> 7</td><td style=\"text-align: right;\">12</td><td style=\"text-align: right;\"> 21</td><td style=\"text-align: right;\">12</td><td style=\"text-align: right;\"> 9</td><td style=\"text-align: right;\"> 3</td><td style=\"text-align: right;\"> 2</td><td style=\"text-align: right;\"> 2</td><td style=\"text-align: right;\">10</td><td style=\"text-align: right;\"> 2</td><td style=\"text-align: right;\"> 8</td><td style=\"text-align: right;\"> 6</td></tr>\n",
       "<tr><td style=\"text-align: right;\"> 81</td><td style=\"text-align: right;\">42</td><td style=\"text-align: right;\">33</td><td style=\"text-align: right;\">26</td><td style=\"text-align: right;\">10</td><td style=\"text-align: right;\">39</td><td style=\"text-align: right;\">15</td><td style=\"text-align: right;\">16</td><td style=\"text-align: right;\"> 6</td><td style=\"text-align: right;\"> 6</td><td style=\"text-align: right;\">12</td><td style=\"text-align: right;\"> 20</td><td style=\"text-align: right;\"> 8</td><td style=\"text-align: right;\"> 8</td><td style=\"text-align: right;\"> 4</td><td style=\"text-align: right;\"> 3</td><td style=\"text-align: right;\"> 2</td><td style=\"text-align: right;\"> 1</td><td style=\"text-align: right;\"> 0</td><td style=\"text-align: right;\">14</td><td style=\"text-align: right;\"> 1</td></tr>\n",
       "<tr><td style=\"text-align: right;\"> 93</td><td style=\"text-align: right;\">41</td><td style=\"text-align: right;\">92</td><td style=\"text-align: right;\">33</td><td style=\"text-align: right;\">15</td><td style=\"text-align: right;\">23</td><td style=\"text-align: right;\">24</td><td style=\"text-align: right;\">21</td><td style=\"text-align: right;\"> 9</td><td style=\"text-align: right;\"> 7</td><td style=\"text-align: right;\"> 9</td><td style=\"text-align: right;\"> 42</td><td style=\"text-align: right;\">19</td><td style=\"text-align: right;\"> 7</td><td style=\"text-align: right;\"> 3</td><td style=\"text-align: right;\"> 2</td><td style=\"text-align: right;\"> 1</td><td style=\"text-align: right;\"> 2</td><td style=\"text-align: right;\"> 1</td><td style=\"text-align: right;\"> 4</td><td style=\"text-align: right;\"> 0</td></tr>\n",
       "<tr><td style=\"text-align: right;\"> 55</td><td style=\"text-align: right;\">38</td><td style=\"text-align: right;\">22</td><td style=\"text-align: right;\">52</td><td style=\"text-align: right;\"> 6</td><td style=\"text-align: right;\"> 9</td><td style=\"text-align: right;\">14</td><td style=\"text-align: right;\"> 9</td><td style=\"text-align: right;\"> 7</td><td style=\"text-align: right;\"> 3</td><td style=\"text-align: right;\">10</td><td style=\"text-align: right;\"> 17</td><td style=\"text-align: right;\"> 6</td><td style=\"text-align: right;\"> 3</td><td style=\"text-align: right;\"> 5</td><td style=\"text-align: right;\"> 1</td><td style=\"text-align: right;\"> 2</td><td style=\"text-align: right;\"> 3</td><td style=\"text-align: right;\"> 1</td><td style=\"text-align: right;\"> 1</td><td style=\"text-align: right;\"> 2</td></tr>\n",
       "<tr><td style=\"text-align: right;\"> 36</td><td style=\"text-align: right;\">31</td><td style=\"text-align: right;\">34</td><td style=\"text-align: right;\">27</td><td style=\"text-align: right;\">58</td><td style=\"text-align: right;\">17</td><td style=\"text-align: right;\"> 6</td><td style=\"text-align: right;\">17</td><td style=\"text-align: right;\"> 3</td><td style=\"text-align: right;\"> 5</td><td style=\"text-align: right;\"> 5</td><td style=\"text-align: right;\"> 26</td><td style=\"text-align: right;\"> 4</td><td style=\"text-align: right;\"> 6</td><td style=\"text-align: right;\"> 3</td><td style=\"text-align: right;\"> 1</td><td style=\"text-align: right;\"> 1</td><td style=\"text-align: right;\">18</td><td style=\"text-align: right;\"> 2</td><td style=\"text-align: right;\"> 2</td><td style=\"text-align: right;\"> 1</td></tr>\n",
       "<tr><td style=\"text-align: right;\"> 83</td><td style=\"text-align: right;\">44</td><td style=\"text-align: right;\">37</td><td style=\"text-align: right;\">25</td><td style=\"text-align: right;\">18</td><td style=\"text-align: right;\">57</td><td style=\"text-align: right;\">32</td><td style=\"text-align: right;\">29</td><td style=\"text-align: right;\">16</td><td style=\"text-align: right;\">12</td><td style=\"text-align: right;\">22</td><td style=\"text-align: right;\">  8</td><td style=\"text-align: right;\"> 5</td><td style=\"text-align: right;\">10</td><td style=\"text-align: right;\"> 9</td><td style=\"text-align: right;\"> 8</td><td style=\"text-align: right;\"> 2</td><td style=\"text-align: right;\"> 4</td><td style=\"text-align: right;\"> 0</td><td style=\"text-align: right;\"> 5</td><td style=\"text-align: right;\"> 3</td></tr>\n",
       "<tr><td style=\"text-align: right;\"> 83</td><td style=\"text-align: right;\">46</td><td style=\"text-align: right;\">37</td><td style=\"text-align: right;\">17</td><td style=\"text-align: right;\"> 9</td><td style=\"text-align: right;\">41</td><td style=\"text-align: right;\">36</td><td style=\"text-align: right;\">25</td><td style=\"text-align: right;\"> 6</td><td style=\"text-align: right;\"> 7</td><td style=\"text-align: right;\">12</td><td style=\"text-align: right;\">  8</td><td style=\"text-align: right;\"> 4</td><td style=\"text-align: right;\"> 9</td><td style=\"text-align: right;\"> 6</td><td style=\"text-align: right;\"> 0</td><td style=\"text-align: right;\"> 2</td><td style=\"text-align: right;\"> 1</td><td style=\"text-align: right;\"> 4</td><td style=\"text-align: right;\"> 8</td><td style=\"text-align: right;\"> 5</td></tr>\n",
       "<tr><td style=\"text-align: right;\"> 57</td><td style=\"text-align: right;\">36</td><td style=\"text-align: right;\">30</td><td style=\"text-align: right;\">15</td><td style=\"text-align: right;\"> 9</td><td style=\"text-align: right;\">58</td><td style=\"text-align: right;\">35</td><td style=\"text-align: right;\">44</td><td style=\"text-align: right;\">18</td><td style=\"text-align: right;\">19</td><td style=\"text-align: right;\"> 8</td><td style=\"text-align: right;\">  9</td><td style=\"text-align: right;\"> 6</td><td style=\"text-align: right;\">15</td><td style=\"text-align: right;\"> 6</td><td style=\"text-align: right;\"> 2</td><td style=\"text-align: right;\"> 6</td><td style=\"text-align: right;\"> 3</td><td style=\"text-align: right;\"> 1</td><td style=\"text-align: right;\"> 5</td><td style=\"text-align: right;\"> 3</td></tr>\n",
       "<tr><td style=\"text-align: right;\"> 51</td><td style=\"text-align: right;\">22</td><td style=\"text-align: right;\">22</td><td style=\"text-align: right;\">11</td><td style=\"text-align: right;\">16</td><td style=\"text-align: right;\">40</td><td style=\"text-align: right;\">27</td><td style=\"text-align: right;\">20</td><td style=\"text-align: right;\">37</td><td style=\"text-align: right;\">17</td><td style=\"text-align: right;\">10</td><td style=\"text-align: right;\">  8</td><td style=\"text-align: right;\"> 6</td><td style=\"text-align: right;\"> 5</td><td style=\"text-align: right;\">15</td><td style=\"text-align: right;\"> 3</td><td style=\"text-align: right;\"> 7</td><td style=\"text-align: right;\"> 1</td><td style=\"text-align: right;\"> 7</td><td style=\"text-align: right;\"> 1</td><td style=\"text-align: right;\"> 4</td></tr>\n",
       "<tr><td style=\"text-align: right;\"> 26</td><td style=\"text-align: right;\">27</td><td style=\"text-align: right;\">34</td><td style=\"text-align: right;\">20</td><td style=\"text-align: right;\"> 9</td><td style=\"text-align: right;\">46</td><td style=\"text-align: right;\">21</td><td style=\"text-align: right;\">30</td><td style=\"text-align: right;\">24</td><td style=\"text-align: right;\">34</td><td style=\"text-align: right;\">10</td><td style=\"text-align: right;\"> 10</td><td style=\"text-align: right;\"> 0</td><td style=\"text-align: right;\"> 7</td><td style=\"text-align: right;\"> 9</td><td style=\"text-align: right;\">14</td><td style=\"text-align: right;\"> 4</td><td style=\"text-align: right;\"> 2</td><td style=\"text-align: right;\"> 6</td><td style=\"text-align: right;\"> 4</td><td style=\"text-align: right;\"> 3</td></tr>\n",
       "<tr><td style=\"text-align: right;\"> 62</td><td style=\"text-align: right;\">34</td><td style=\"text-align: right;\">30</td><td style=\"text-align: right;\">25</td><td style=\"text-align: right;\"> 7</td><td style=\"text-align: right;\">41</td><td style=\"text-align: right;\">25</td><td style=\"text-align: right;\">14</td><td style=\"text-align: right;\">13</td><td style=\"text-align: right;\"> 9</td><td style=\"text-align: right;\">21</td><td style=\"text-align: right;\">  9</td><td style=\"text-align: right;\"> 7</td><td style=\"text-align: right;\"> 5</td><td style=\"text-align: right;\"> 7</td><td style=\"text-align: right;\"> 2</td><td style=\"text-align: right;\"> 4</td><td style=\"text-align: right;\"> 2</td><td style=\"text-align: right;\"> 0</td><td style=\"text-align: right;\"> 2</td><td style=\"text-align: right;\"> 2</td></tr>\n",
       "<tr><td style=\"text-align: right;\"> 82</td><td style=\"text-align: right;\">59</td><td style=\"text-align: right;\">96</td><td style=\"text-align: right;\">27</td><td style=\"text-align: right;\">28</td><td style=\"text-align: right;\">19</td><td style=\"text-align: right;\">23</td><td style=\"text-align: right;\"> 3</td><td style=\"text-align: right;\"> 8</td><td style=\"text-align: right;\"> 3</td><td style=\"text-align: right;\"> 6</td><td style=\"text-align: right;\">102</td><td style=\"text-align: right;\">19</td><td style=\"text-align: right;\"> 5</td><td style=\"text-align: right;\"> 1</td><td style=\"text-align: right;\"> 5</td><td style=\"text-align: right;\"> 0</td><td style=\"text-align: right;\">29</td><td style=\"text-align: right;\"> 0</td><td style=\"text-align: right;\"> 5</td><td style=\"text-align: right;\"> 1</td></tr>\n",
       "<tr><td style=\"text-align: right;\"> 65</td><td style=\"text-align: right;\">41</td><td style=\"text-align: right;\">44</td><td style=\"text-align: right;\">35</td><td style=\"text-align: right;\">14</td><td style=\"text-align: right;\">14</td><td style=\"text-align: right;\">13</td><td style=\"text-align: right;\"> 4</td><td style=\"text-align: right;\"> 4</td><td style=\"text-align: right;\"> 4</td><td style=\"text-align: right;\">11</td><td style=\"text-align: right;\"> 22</td><td style=\"text-align: right;\">34</td><td style=\"text-align: right;\"> 4</td><td style=\"text-align: right;\"> 1</td><td style=\"text-align: right;\"> 3</td><td style=\"text-align: right;\"> 0</td><td style=\"text-align: right;\">10</td><td style=\"text-align: right;\"> 3</td><td style=\"text-align: right;\"> 3</td><td style=\"text-align: right;\"> 1</td></tr>\n",
       "<tr><td style=\"text-align: right;\"> 71</td><td style=\"text-align: right;\">30</td><td style=\"text-align: right;\">46</td><td style=\"text-align: right;\">17</td><td style=\"text-align: right;\">15</td><td style=\"text-align: right;\">42</td><td style=\"text-align: right;\">48</td><td style=\"text-align: right;\">36</td><td style=\"text-align: right;\">14</td><td style=\"text-align: right;\">12</td><td style=\"text-align: right;\">13</td><td style=\"text-align: right;\"> 12</td><td style=\"text-align: right;\"> 8</td><td style=\"text-align: right;\">39</td><td style=\"text-align: right;\"> 7</td><td style=\"text-align: right;\"> 3</td><td style=\"text-align: right;\"> 3</td><td style=\"text-align: right;\"> 3</td><td style=\"text-align: right;\"> 0</td><td style=\"text-align: right;\"> 5</td><td style=\"text-align: right;\"> 3</td></tr>\n",
       "<tr><td style=\"text-align: right;\"> 47</td><td style=\"text-align: right;\">40</td><td style=\"text-align: right;\">26</td><td style=\"text-align: right;\">16</td><td style=\"text-align: right;\">10</td><td style=\"text-align: right;\">55</td><td style=\"text-align: right;\">34</td><td style=\"text-align: right;\">23</td><td style=\"text-align: right;\">35</td><td style=\"text-align: right;\">19</td><td style=\"text-align: right;\">15</td><td style=\"text-align: right;\">  5</td><td style=\"text-align: right;\"> 7</td><td style=\"text-align: right;\"> 9</td><td style=\"text-align: right;\">20</td><td style=\"text-align: right;\"> 5</td><td style=\"text-align: right;\"> 2</td><td style=\"text-align: right;\"> 1</td><td style=\"text-align: right;\"> 6</td><td style=\"text-align: right;\"> 2</td><td style=\"text-align: right;\"> 4</td></tr>\n",
       "<tr><td style=\"text-align: right;\"> 24</td><td style=\"text-align: right;\">21</td><td style=\"text-align: right;\">20</td><td style=\"text-align: right;\">14</td><td style=\"text-align: right;\"> 6</td><td style=\"text-align: right;\">25</td><td style=\"text-align: right;\">21</td><td style=\"text-align: right;\">10</td><td style=\"text-align: right;\">25</td><td style=\"text-align: right;\">19</td><td style=\"text-align: right;\">12</td><td style=\"text-align: right;\">  6</td><td style=\"text-align: right;\"> 5</td><td style=\"text-align: right;\"> 4</td><td style=\"text-align: right;\">16</td><td style=\"text-align: right;\">21</td><td style=\"text-align: right;\"> 6</td><td style=\"text-align: right;\"> 1</td><td style=\"text-align: right;\"> 8</td><td style=\"text-align: right;\"> 1</td><td style=\"text-align: right;\"> 1</td></tr>\n",
       "<tr><td style=\"text-align: right;\"> 32</td><td style=\"text-align: right;\">24</td><td style=\"text-align: right;\">19</td><td style=\"text-align: right;\">17</td><td style=\"text-align: right;\">11</td><td style=\"text-align: right;\">36</td><td style=\"text-align: right;\">25</td><td style=\"text-align: right;\">25</td><td style=\"text-align: right;\">35</td><td style=\"text-align: right;\">25</td><td style=\"text-align: right;\">10</td><td style=\"text-align: right;\">  7</td><td style=\"text-align: right;\"> 4</td><td style=\"text-align: right;\"> 6</td><td style=\"text-align: right;\">10</td><td style=\"text-align: right;\">12</td><td style=\"text-align: right;\"> 9</td><td style=\"text-align: right;\"> 2</td><td style=\"text-align: right;\"> 8</td><td style=\"text-align: right;\"> 0</td><td style=\"text-align: right;\"> 6</td></tr>\n",
       "<tr><td style=\"text-align: right;\"> 64</td><td style=\"text-align: right;\">38</td><td style=\"text-align: right;\">65</td><td style=\"text-align: right;\">21</td><td style=\"text-align: right;\">20</td><td style=\"text-align: right;\">12</td><td style=\"text-align: right;\">15</td><td style=\"text-align: right;\"> 4</td><td style=\"text-align: right;\"> 3</td><td style=\"text-align: right;\"> 4</td><td style=\"text-align: right;\"> 3</td><td style=\"text-align: right;\"> 69</td><td style=\"text-align: right;\">15</td><td style=\"text-align: right;\"> 5</td><td style=\"text-align: right;\"> 3</td><td style=\"text-align: right;\"> 2</td><td style=\"text-align: right;\"> 0</td><td style=\"text-align: right;\">38</td><td style=\"text-align: right;\"> 2</td><td style=\"text-align: right;\"> 5</td><td style=\"text-align: right;\"> 0</td></tr>\n",
       "<tr><td style=\"text-align: right;\"> 34</td><td style=\"text-align: right;\">28</td><td style=\"text-align: right;\">19</td><td style=\"text-align: right;\">19</td><td style=\"text-align: right;\">10</td><td style=\"text-align: right;\">21</td><td style=\"text-align: right;\">16</td><td style=\"text-align: right;\">10</td><td style=\"text-align: right;\">32</td><td style=\"text-align: right;\">17</td><td style=\"text-align: right;\"> 8</td><td style=\"text-align: right;\">  8</td><td style=\"text-align: right;\"> 6</td><td style=\"text-align: right;\"> 5</td><td style=\"text-align: right;\">15</td><td style=\"text-align: right;\">20</td><td style=\"text-align: right;\">14</td><td style=\"text-align: right;\"> 2</td><td style=\"text-align: right;\">16</td><td style=\"text-align: right;\"> 6</td><td style=\"text-align: right;\"> 3</td></tr>\n",
       "<tr><td style=\"text-align: right;\"> 64</td><td style=\"text-align: right;\">55</td><td style=\"text-align: right;\">43</td><td style=\"text-align: right;\">17</td><td style=\"text-align: right;\">10</td><td style=\"text-align: right;\">34</td><td style=\"text-align: right;\">19</td><td style=\"text-align: right;\">16</td><td style=\"text-align: right;\">11</td><td style=\"text-align: right;\"> 6</td><td style=\"text-align: right;\">14</td><td style=\"text-align: right;\"> 14</td><td style=\"text-align: right;\">15</td><td style=\"text-align: right;\"> 5</td><td style=\"text-align: right;\"> 6</td><td style=\"text-align: right;\"> 2</td><td style=\"text-align: right;\"> 2</td><td style=\"text-align: right;\"> 3</td><td style=\"text-align: right;\"> 0</td><td style=\"text-align: right;\">12</td><td style=\"text-align: right;\"> 1</td></tr>\n",
       "<tr><td style=\"text-align: right;\"> 47</td><td style=\"text-align: right;\">28</td><td style=\"text-align: right;\">17</td><td style=\"text-align: right;\">29</td><td style=\"text-align: right;\">11</td><td style=\"text-align: right;\">36</td><td style=\"text-align: right;\">20</td><td style=\"text-align: right;\">27</td><td style=\"text-align: right;\">19</td><td style=\"text-align: right;\">23</td><td style=\"text-align: right;\"> 8</td><td style=\"text-align: right;\"> 10</td><td style=\"text-align: right;\"> 2</td><td style=\"text-align: right;\"> 7</td><td style=\"text-align: right;\"> 8</td><td style=\"text-align: right;\"> 6</td><td style=\"text-align: right;\">11</td><td style=\"text-align: right;\"> 1</td><td style=\"text-align: right;\"> 7</td><td style=\"text-align: right;\"> 3</td><td style=\"text-align: right;\">55</td></tr>\n",
       "</tbody>\n",
       "</table>"
      ],
      "text/plain": [
       "<IPython.core.display.HTML object>"
      ]
     },
     "metadata": {},
     "output_type": "display_data"
    }
   ],
   "source": [
    "metrics.confusion_matrix(t_test, t_pred)\n",
    "matrix = tabulate(metrics.confusion_matrix(t_test, t_pred),\n",
    "                           tablefmt = 'html')\n",
    "from IPython.display import HTML, display\n",
    "display(HTML(matrix))"
   ]
  },
  {
   "cell_type": "markdown",
   "id": "c6a97671",
   "metadata": {},
   "source": [
    "Although the F-score is lower compare to the previous model. The average accuracy of the model is close to the 20% which is better than the models based on information algorithms. The confusion matrix shows a significant count of True Positive against the False Negative and True Negative. This model may need more parameters to improve its accuracy. Considering the catalog of useful model from Sklearn, it is possible to apply the similar algorithms as the Nearest Centroid which change the paradigm of the algorithm to center the neighbors and calculate the distance from the center to the observation as a classification method.\n",
    "\n",
    "###### Nearest Centroid"
   ]
  },
  {
   "cell_type": "code",
   "execution_count": 191,
   "id": "1fbbd964",
   "metadata": {},
   "outputs": [],
   "source": [
    "from sklearn.neighbors import NearestCentroid\n",
    "KNN_centroid = NearestCentroid()\n",
    "\n",
    "params_KNN_centroid = {'metric': ['euclidean','manhattan','haversine','cosine'],\n",
    "                      'shrink_threshold':[0.1,0.2,0.3,0.4,0.5,0.7,0.9]}\n",
    "\n",
    "gs_KNN_centroid = GridSearchCV(estimator=KNN_centroid, \n",
    "                     param_grid=params_KNN_centroid, \n",
    "                     cv=cv_method,\n",
    "                     verbose=1, \n",
    "                     scoring='accuracy',\n",
    "                     return_train_score=True)"
   ]
  },
  {
   "cell_type": "markdown",
   "id": "ab592961",
   "metadata": {},
   "source": [
    "#### Model Fitting"
   ]
  },
  {
   "cell_type": "code",
   "execution_count": 192,
   "id": "c26a62e1",
   "metadata": {},
   "outputs": [
    {
     "name": "stdout",
     "output_type": "stream",
     "text": [
      "Fitting 10 folds for each of 28 candidates, totalling 280 fits\n",
      "CPU times: total: 3.45 s\n",
      "Wall time: 5.39 s\n"
     ]
    },
    {
     "data": {
      "text/plain": [
       "GridSearchCV(cv=RepeatedStratifiedKFold(n_repeats=1, n_splits=10, random_state=999),\n",
       "             estimator=NearestCentroid(),\n",
       "             param_grid={'metric': ['euclidean', 'manhattan', 'haversine',\n",
       "                                    'cosine'],\n",
       "                         'shrink_threshold': [0.1, 0.2, 0.3, 0.4, 0.5, 0.7,\n",
       "                                              0.9]},\n",
       "             return_train_score=True, scoring='accuracy', verbose=1)"
      ]
     },
     "execution_count": 192,
     "metadata": {},
     "output_type": "execute_result"
    }
   ],
   "source": [
    "%%time\n",
    "gs_KNN_centroid.fit(d_train, t_train)"
   ]
  },
  {
   "cell_type": "code",
   "execution_count": 193,
   "id": "068b1654",
   "metadata": {},
   "outputs": [
    {
     "data": {
      "text/plain": [
       "NearestCentroid(shrink_threshold=0.4)"
      ]
     },
     "execution_count": 193,
     "metadata": {},
     "output_type": "execute_result"
    }
   ],
   "source": [
    "gs_KNN_centroid.best_estimator_"
   ]
  },
  {
   "cell_type": "markdown",
   "id": "757daa25",
   "metadata": {},
   "source": [
    "#### Metrics"
   ]
  },
  {
   "cell_type": "markdown",
   "id": "e4d6977b",
   "metadata": {},
   "source": [
    "F-SCORE"
   ]
  },
  {
   "cell_type": "code",
   "execution_count": 194,
   "id": "7823a958",
   "metadata": {},
   "outputs": [
    {
     "data": {
      "text/plain": [
       "0.11069337169279445"
      ]
     },
     "execution_count": 194,
     "metadata": {},
     "output_type": "execute_result"
    }
   ],
   "source": [
    "gs_KNN_centroid.best_score_"
   ]
  },
  {
   "cell_type": "markdown",
   "id": "c4cf8f81",
   "metadata": {},
   "source": [
    "ACCURACY SCORE"
   ]
  },
  {
   "cell_type": "code",
   "execution_count": 195,
   "id": "17eb569f",
   "metadata": {},
   "outputs": [
    {
     "data": {
      "text/plain": [
       "0.1102514506769826"
      ]
     },
     "execution_count": 195,
     "metadata": {},
     "output_type": "execute_result"
    }
   ],
   "source": [
    "t_pred = gs_KNN_centroid.predict(d_test)\n",
    "metrics.accuracy_score(t_test, t_pred)"
   ]
  },
  {
   "cell_type": "markdown",
   "id": "18922833",
   "metadata": {},
   "source": [
    "CONFUSION MATRIX"
   ]
  },
  {
   "cell_type": "code",
   "execution_count": 196,
   "id": "620bcdee",
   "metadata": {},
   "outputs": [
    {
     "data": {
      "text/html": [
       "<table>\n",
       "<tbody>\n",
       "<tr><td style=\"text-align: right;\">26</td><td style=\"text-align: right;\">0</td><td style=\"text-align: right;\">3</td><td style=\"text-align: right;\">186</td><td style=\"text-align: right;\">0</td><td style=\"text-align: right;\">0</td><td style=\"text-align: right;\">4</td><td style=\"text-align: right;\">137</td><td style=\"text-align: right;\">0</td><td style=\"text-align: right;\">40</td><td style=\"text-align: right;\">0</td><td style=\"text-align: right;\">126</td><td style=\"text-align: right;\"> 3</td><td style=\"text-align: right;\">0</td><td style=\"text-align: right;\">0</td><td style=\"text-align: right;\">0</td><td style=\"text-align: right;\">3</td><td style=\"text-align: right;\">0</td><td style=\"text-align: right;\">0</td><td style=\"text-align: right;\">20</td><td style=\"text-align: right;\"> 3</td></tr>\n",
       "<tr><td style=\"text-align: right;\"> 4</td><td style=\"text-align: right;\">0</td><td style=\"text-align: right;\">3</td><td style=\"text-align: right;\">177</td><td style=\"text-align: right;\">0</td><td style=\"text-align: right;\">0</td><td style=\"text-align: right;\">2</td><td style=\"text-align: right;\"> 63</td><td style=\"text-align: right;\">0</td><td style=\"text-align: right;\">29</td><td style=\"text-align: right;\">0</td><td style=\"text-align: right;\"> 42</td><td style=\"text-align: right;\">10</td><td style=\"text-align: right;\">0</td><td style=\"text-align: right;\">0</td><td style=\"text-align: right;\">0</td><td style=\"text-align: right;\">0</td><td style=\"text-align: right;\">0</td><td style=\"text-align: right;\">0</td><td style=\"text-align: right;\">14</td><td style=\"text-align: right;\"> 3</td></tr>\n",
       "<tr><td style=\"text-align: right;\"> 5</td><td style=\"text-align: right;\">0</td><td style=\"text-align: right;\">4</td><td style=\"text-align: right;\">179</td><td style=\"text-align: right;\">0</td><td style=\"text-align: right;\">0</td><td style=\"text-align: right;\">1</td><td style=\"text-align: right;\"> 41</td><td style=\"text-align: right;\">0</td><td style=\"text-align: right;\">26</td><td style=\"text-align: right;\">0</td><td style=\"text-align: right;\">168</td><td style=\"text-align: right;\"> 8</td><td style=\"text-align: right;\">1</td><td style=\"text-align: right;\">0</td><td style=\"text-align: right;\">0</td><td style=\"text-align: right;\">0</td><td style=\"text-align: right;\">0</td><td style=\"text-align: right;\">0</td><td style=\"text-align: right;\">12</td><td style=\"text-align: right;\"> 3</td></tr>\n",
       "<tr><td style=\"text-align: right;\"> 7</td><td style=\"text-align: right;\">0</td><td style=\"text-align: right;\">0</td><td style=\"text-align: right;\">202</td><td style=\"text-align: right;\">0</td><td style=\"text-align: right;\">0</td><td style=\"text-align: right;\">1</td><td style=\"text-align: right;\"> 19</td><td style=\"text-align: right;\">0</td><td style=\"text-align: right;\"> 7</td><td style=\"text-align: right;\">0</td><td style=\"text-align: right;\"> 14</td><td style=\"text-align: right;\">10</td><td style=\"text-align: right;\">0</td><td style=\"text-align: right;\">0</td><td style=\"text-align: right;\">0</td><td style=\"text-align: right;\">0</td><td style=\"text-align: right;\">0</td><td style=\"text-align: right;\">0</td><td style=\"text-align: right;\"> 4</td><td style=\"text-align: right;\"> 2</td></tr>\n",
       "<tr><td style=\"text-align: right;\"> 1</td><td style=\"text-align: right;\">0</td><td style=\"text-align: right;\">1</td><td style=\"text-align: right;\">161</td><td style=\"text-align: right;\">0</td><td style=\"text-align: right;\">0</td><td style=\"text-align: right;\">2</td><td style=\"text-align: right;\"> 65</td><td style=\"text-align: right;\">0</td><td style=\"text-align: right;\">15</td><td style=\"text-align: right;\">0</td><td style=\"text-align: right;\"> 46</td><td style=\"text-align: right;\"> 7</td><td style=\"text-align: right;\">0</td><td style=\"text-align: right;\">0</td><td style=\"text-align: right;\">0</td><td style=\"text-align: right;\">0</td><td style=\"text-align: right;\">0</td><td style=\"text-align: right;\">0</td><td style=\"text-align: right;\"> 5</td><td style=\"text-align: right;\"> 0</td></tr>\n",
       "<tr><td style=\"text-align: right;\"> 5</td><td style=\"text-align: right;\">0</td><td style=\"text-align: right;\">2</td><td style=\"text-align: right;\">123</td><td style=\"text-align: right;\">0</td><td style=\"text-align: right;\">0</td><td style=\"text-align: right;\">2</td><td style=\"text-align: right;\">163</td><td style=\"text-align: right;\">0</td><td style=\"text-align: right;\">43</td><td style=\"text-align: right;\">0</td><td style=\"text-align: right;\"> 74</td><td style=\"text-align: right;\"> 1</td><td style=\"text-align: right;\">0</td><td style=\"text-align: right;\">0</td><td style=\"text-align: right;\">0</td><td style=\"text-align: right;\">1</td><td style=\"text-align: right;\">0</td><td style=\"text-align: right;\">0</td><td style=\"text-align: right;\">10</td><td style=\"text-align: right;\"> 5</td></tr>\n",
       "<tr><td style=\"text-align: right;\"> 8</td><td style=\"text-align: right;\">0</td><td style=\"text-align: right;\">2</td><td style=\"text-align: right;\"> 91</td><td style=\"text-align: right;\">0</td><td style=\"text-align: right;\">0</td><td style=\"text-align: right;\">2</td><td style=\"text-align: right;\">116</td><td style=\"text-align: right;\">0</td><td style=\"text-align: right;\">42</td><td style=\"text-align: right;\">0</td><td style=\"text-align: right;\"> 75</td><td style=\"text-align: right;\"> 3</td><td style=\"text-align: right;\">0</td><td style=\"text-align: right;\">0</td><td style=\"text-align: right;\">0</td><td style=\"text-align: right;\">2</td><td style=\"text-align: right;\">0</td><td style=\"text-align: right;\">0</td><td style=\"text-align: right;\">25</td><td style=\"text-align: right;\"> 0</td></tr>\n",
       "<tr><td style=\"text-align: right;\"> 7</td><td style=\"text-align: right;\">0</td><td style=\"text-align: right;\">3</td><td style=\"text-align: right;\"> 45</td><td style=\"text-align: right;\">0</td><td style=\"text-align: right;\">0</td><td style=\"text-align: right;\">3</td><td style=\"text-align: right;\">212</td><td style=\"text-align: right;\">0</td><td style=\"text-align: right;\">67</td><td style=\"text-align: right;\">0</td><td style=\"text-align: right;\"> 27</td><td style=\"text-align: right;\"> 0</td><td style=\"text-align: right;\">0</td><td style=\"text-align: right;\">0</td><td style=\"text-align: right;\">0</td><td style=\"text-align: right;\">0</td><td style=\"text-align: right;\">0</td><td style=\"text-align: right;\">0</td><td style=\"text-align: right;\">17</td><td style=\"text-align: right;\"> 4</td></tr>\n",
       "<tr><td style=\"text-align: right;\"> 1</td><td style=\"text-align: right;\">0</td><td style=\"text-align: right;\">2</td><td style=\"text-align: right;\">105</td><td style=\"text-align: right;\">0</td><td style=\"text-align: right;\">0</td><td style=\"text-align: right;\">1</td><td style=\"text-align: right;\">114</td><td style=\"text-align: right;\">0</td><td style=\"text-align: right;\">63</td><td style=\"text-align: right;\">0</td><td style=\"text-align: right;\"> 29</td><td style=\"text-align: right;\"> 4</td><td style=\"text-align: right;\">0</td><td style=\"text-align: right;\">0</td><td style=\"text-align: right;\">0</td><td style=\"text-align: right;\">0</td><td style=\"text-align: right;\">0</td><td style=\"text-align: right;\">0</td><td style=\"text-align: right;\"> 9</td><td style=\"text-align: right;\"> 2</td></tr>\n",
       "<tr><td style=\"text-align: right;\"> 2</td><td style=\"text-align: right;\">0</td><td style=\"text-align: right;\">1</td><td style=\"text-align: right;\">118</td><td style=\"text-align: right;\">0</td><td style=\"text-align: right;\">0</td><td style=\"text-align: right;\">2</td><td style=\"text-align: right;\">113</td><td style=\"text-align: right;\">0</td><td style=\"text-align: right;\">59</td><td style=\"text-align: right;\">0</td><td style=\"text-align: right;\"> 32</td><td style=\"text-align: right;\"> 3</td><td style=\"text-align: right;\">0</td><td style=\"text-align: right;\">0</td><td style=\"text-align: right;\">0</td><td style=\"text-align: right;\">0</td><td style=\"text-align: right;\">0</td><td style=\"text-align: right;\">0</td><td style=\"text-align: right;\"> 8</td><td style=\"text-align: right;\"> 2</td></tr>\n",
       "<tr><td style=\"text-align: right;\"> 6</td><td style=\"text-align: right;\">0</td><td style=\"text-align: right;\">0</td><td style=\"text-align: right;\">121</td><td style=\"text-align: right;\">0</td><td style=\"text-align: right;\">0</td><td style=\"text-align: right;\">1</td><td style=\"text-align: right;\">117</td><td style=\"text-align: right;\">0</td><td style=\"text-align: right;\">35</td><td style=\"text-align: right;\">0</td><td style=\"text-align: right;\"> 24</td><td style=\"text-align: right;\"> 6</td><td style=\"text-align: right;\">0</td><td style=\"text-align: right;\">0</td><td style=\"text-align: right;\">0</td><td style=\"text-align: right;\">0</td><td style=\"text-align: right;\">0</td><td style=\"text-align: right;\">0</td><td style=\"text-align: right;\">10</td><td style=\"text-align: right;\"> 1</td></tr>\n",
       "<tr><td style=\"text-align: right;\"> 0</td><td style=\"text-align: right;\">0</td><td style=\"text-align: right;\">6</td><td style=\"text-align: right;\">233</td><td style=\"text-align: right;\">0</td><td style=\"text-align: right;\">0</td><td style=\"text-align: right;\">0</td><td style=\"text-align: right;\"> 16</td><td style=\"text-align: right;\">0</td><td style=\"text-align: right;\"> 6</td><td style=\"text-align: right;\">0</td><td style=\"text-align: right;\">237</td><td style=\"text-align: right;\">19</td><td style=\"text-align: right;\">0</td><td style=\"text-align: right;\">0</td><td style=\"text-align: right;\">0</td><td style=\"text-align: right;\">1</td><td style=\"text-align: right;\">0</td><td style=\"text-align: right;\">0</td><td style=\"text-align: right;\"> 0</td><td style=\"text-align: right;\"> 3</td></tr>\n",
       "<tr><td style=\"text-align: right;\"> 5</td><td style=\"text-align: right;\">0</td><td style=\"text-align: right;\">1</td><td style=\"text-align: right;\">200</td><td style=\"text-align: right;\">0</td><td style=\"text-align: right;\">0</td><td style=\"text-align: right;\">3</td><td style=\"text-align: right;\"> 18</td><td style=\"text-align: right;\">0</td><td style=\"text-align: right;\">15</td><td style=\"text-align: right;\">0</td><td style=\"text-align: right;\"> 68</td><td style=\"text-align: right;\">18</td><td style=\"text-align: right;\">0</td><td style=\"text-align: right;\">0</td><td style=\"text-align: right;\">0</td><td style=\"text-align: right;\">0</td><td style=\"text-align: right;\">0</td><td style=\"text-align: right;\">0</td><td style=\"text-align: right;\"> 2</td><td style=\"text-align: right;\"> 0</td></tr>\n",
       "<tr><td style=\"text-align: right;\"> 4</td><td style=\"text-align: right;\">0</td><td style=\"text-align: right;\">1</td><td style=\"text-align: right;\"> 76</td><td style=\"text-align: right;\">0</td><td style=\"text-align: right;\">0</td><td style=\"text-align: right;\">5</td><td style=\"text-align: right;\">218</td><td style=\"text-align: right;\">0</td><td style=\"text-align: right;\">52</td><td style=\"text-align: right;\">0</td><td style=\"text-align: right;\"> 53</td><td style=\"text-align: right;\"> 0</td><td style=\"text-align: right;\">0</td><td style=\"text-align: right;\">0</td><td style=\"text-align: right;\">0</td><td style=\"text-align: right;\">0</td><td style=\"text-align: right;\">0</td><td style=\"text-align: right;\">0</td><td style=\"text-align: right;\">16</td><td style=\"text-align: right;\"> 2</td></tr>\n",
       "<tr><td style=\"text-align: right;\"> 2</td><td style=\"text-align: right;\">0</td><td style=\"text-align: right;\">2</td><td style=\"text-align: right;\">121</td><td style=\"text-align: right;\">0</td><td style=\"text-align: right;\">0</td><td style=\"text-align: right;\">2</td><td style=\"text-align: right;\">151</td><td style=\"text-align: right;\">0</td><td style=\"text-align: right;\">49</td><td style=\"text-align: right;\">0</td><td style=\"text-align: right;\"> 38</td><td style=\"text-align: right;\"> 8</td><td style=\"text-align: right;\">0</td><td style=\"text-align: right;\">0</td><td style=\"text-align: right;\">0</td><td style=\"text-align: right;\">0</td><td style=\"text-align: right;\">0</td><td style=\"text-align: right;\">0</td><td style=\"text-align: right;\"> 8</td><td style=\"text-align: right;\"> 0</td></tr>\n",
       "<tr><td style=\"text-align: right;\"> 0</td><td style=\"text-align: right;\">0</td><td style=\"text-align: right;\">0</td><td style=\"text-align: right;\">146</td><td style=\"text-align: right;\">0</td><td style=\"text-align: right;\">0</td><td style=\"text-align: right;\">0</td><td style=\"text-align: right;\"> 62</td><td style=\"text-align: right;\">0</td><td style=\"text-align: right;\">28</td><td style=\"text-align: right;\">0</td><td style=\"text-align: right;\"> 20</td><td style=\"text-align: right;\"> 3</td><td style=\"text-align: right;\">0</td><td style=\"text-align: right;\">0</td><td style=\"text-align: right;\">0</td><td style=\"text-align: right;\">1</td><td style=\"text-align: right;\">0</td><td style=\"text-align: right;\">0</td><td style=\"text-align: right;\"> 6</td><td style=\"text-align: right;\"> 0</td></tr>\n",
       "<tr><td style=\"text-align: right;\"> 4</td><td style=\"text-align: right;\">0</td><td style=\"text-align: right;\">0</td><td style=\"text-align: right;\">125</td><td style=\"text-align: right;\">0</td><td style=\"text-align: right;\">0</td><td style=\"text-align: right;\">1</td><td style=\"text-align: right;\">107</td><td style=\"text-align: right;\">0</td><td style=\"text-align: right;\">43</td><td style=\"text-align: right;\">0</td><td style=\"text-align: right;\"> 25</td><td style=\"text-align: right;\"> 2</td><td style=\"text-align: right;\">0</td><td style=\"text-align: right;\">0</td><td style=\"text-align: right;\">0</td><td style=\"text-align: right;\">2</td><td style=\"text-align: right;\">0</td><td style=\"text-align: right;\">0</td><td style=\"text-align: right;\"> 9</td><td style=\"text-align: right;\"> 5</td></tr>\n",
       "<tr><td style=\"text-align: right;\"> 1</td><td style=\"text-align: right;\">0</td><td style=\"text-align: right;\">1</td><td style=\"text-align: right;\">183</td><td style=\"text-align: right;\">0</td><td style=\"text-align: right;\">0</td><td style=\"text-align: right;\">0</td><td style=\"text-align: right;\"> 15</td><td style=\"text-align: right;\">0</td><td style=\"text-align: right;\"> 6</td><td style=\"text-align: right;\">0</td><td style=\"text-align: right;\">165</td><td style=\"text-align: right;\">11</td><td style=\"text-align: right;\">0</td><td style=\"text-align: right;\">0</td><td style=\"text-align: right;\">0</td><td style=\"text-align: right;\">0</td><td style=\"text-align: right;\">0</td><td style=\"text-align: right;\">0</td><td style=\"text-align: right;\"> 3</td><td style=\"text-align: right;\"> 3</td></tr>\n",
       "<tr><td style=\"text-align: right;\"> 5</td><td style=\"text-align: right;\">0</td><td style=\"text-align: right;\">1</td><td style=\"text-align: right;\">210</td><td style=\"text-align: right;\">0</td><td style=\"text-align: right;\">0</td><td style=\"text-align: right;\">0</td><td style=\"text-align: right;\"> 35</td><td style=\"text-align: right;\">0</td><td style=\"text-align: right;\">11</td><td style=\"text-align: right;\">0</td><td style=\"text-align: right;\"> 21</td><td style=\"text-align: right;\">12</td><td style=\"text-align: right;\">0</td><td style=\"text-align: right;\">0</td><td style=\"text-align: right;\">0</td><td style=\"text-align: right;\">2</td><td style=\"text-align: right;\">0</td><td style=\"text-align: right;\">0</td><td style=\"text-align: right;\"> 9</td><td style=\"text-align: right;\"> 3</td></tr>\n",
       "<tr><td style=\"text-align: right;\"> 9</td><td style=\"text-align: right;\">0</td><td style=\"text-align: right;\">1</td><td style=\"text-align: right;\">152</td><td style=\"text-align: right;\">0</td><td style=\"text-align: right;\">0</td><td style=\"text-align: right;\">2</td><td style=\"text-align: right;\"> 46</td><td style=\"text-align: right;\">0</td><td style=\"text-align: right;\">33</td><td style=\"text-align: right;\">0</td><td style=\"text-align: right;\"> 53</td><td style=\"text-align: right;\"> 6</td><td style=\"text-align: right;\">0</td><td style=\"text-align: right;\">0</td><td style=\"text-align: right;\">0</td><td style=\"text-align: right;\">0</td><td style=\"text-align: right;\">0</td><td style=\"text-align: right;\">0</td><td style=\"text-align: right;\">41</td><td style=\"text-align: right;\"> 6</td></tr>\n",
       "<tr><td style=\"text-align: right;\"> 1</td><td style=\"text-align: right;\">0</td><td style=\"text-align: right;\">1</td><td style=\"text-align: right;\"> 90</td><td style=\"text-align: right;\">0</td><td style=\"text-align: right;\">0</td><td style=\"text-align: right;\">3</td><td style=\"text-align: right;\">125</td><td style=\"text-align: right;\">0</td><td style=\"text-align: right;\">47</td><td style=\"text-align: right;\">0</td><td style=\"text-align: right;\"> 39</td><td style=\"text-align: right;\"> 3</td><td style=\"text-align: right;\">0</td><td style=\"text-align: right;\">0</td><td style=\"text-align: right;\">0</td><td style=\"text-align: right;\">3</td><td style=\"text-align: right;\">0</td><td style=\"text-align: right;\">0</td><td style=\"text-align: right;\">11</td><td style=\"text-align: right;\">52</td></tr>\n",
       "</tbody>\n",
       "</table>"
      ],
      "text/plain": [
       "<IPython.core.display.HTML object>"
      ]
     },
     "metadata": {},
     "output_type": "display_data"
    }
   ],
   "source": [
    "metrics.confusion_matrix(t_test, t_pred)\n",
    "matrix = tabulate(metrics.confusion_matrix(t_test, t_pred),\n",
    "                           tablefmt = 'html')\n",
    "from IPython.display import HTML, display\n",
    "display(HTML(matrix))"
   ]
  },
  {
   "cell_type": "markdown",
   "id": "2034df03",
   "metadata": {},
   "source": [
    "The results of this algorithm does not show a strong model for this type of dataset. This is because, the precision score is lower compare to the original KNN algorithm and the F-score seems to significantly slow as well. \n",
    "\n",
    "The previous model experiments proposes that decision tree, random forest and the K-near neighbor algorithms are able to predict target features with certain level of confidence and precision. However, before the project can do a pair comparison among the three models, there is a final algorithm that could show certain level of accuracy, the Neural Network Algorithm.b"
   ]
  },
  {
   "cell_type": "markdown",
   "id": "ce3cdf41",
   "metadata": {},
   "source": [
    "### Model Fitting and Tunning for Neural Network  <a id='mftnn'></a>\n",
    "Finally, NN or Neural Network is an algorithm that tries to simulate neural work from human to be applied to predictive models. This algorithm is able to identify relationships and patterns across the feature variables. Once, NN identifies this, it used as an input to learn trough certain amount of layers that at the same time has certain amount of neurons in it, which are the possible relationships. Layer-to-layer, the algorithm does calculation to try to predict the target value.\n",
    "\n",
    "Initially, the Neural Network algorithm can be settled with initial variations to identify which solver method, activation method and learning rate method is better for the type of the data from the LAPD. Once, this run provides results, it is possible to observe which parameter are more convenient for the model.\n",
    "\n",
    "The parameters to tune are the following :\n",
    "    * The activation of the model by applying relu or logistic method\n",
    "    * the type of solver between stochastic gradient decent (SGD) and Adaptive Moment Estimation (ADAM)\n",
    "    * Select between a constant or an adaptive learning method"
   ]
  },
  {
   "cell_type": "code",
   "execution_count": 197,
   "id": "7dae5063",
   "metadata": {},
   "outputs": [],
   "source": [
    "from sklearn.neural_network import MLPClassifier\n",
    "\n",
    "MLP = MLPClassifier(random_state= 999)\n",
    "\n",
    "params_MLP = {'activation': ['relu','logistic'],\n",
    "              'early_stopping': [True],\n",
    "              'solver': ['sgd', 'adam'],\n",
    "              'learning_rate': ['constant','adaptive'],\n",
    "              'random_state' : [999]}\n",
    "\n",
    "gs_MLP = GridSearchCV(estimator=MLP, \n",
    "                     param_grid=params_MLP, \n",
    "                     cv=cv_method,\n",
    "                     verbose=1, \n",
    "                     scoring='accuracy',\n",
    "                     return_train_score=True)"
   ]
  },
  {
   "cell_type": "markdown",
   "id": "091e81f4",
   "metadata": {},
   "source": [
    "#### Model Fitting\n",
    "This algorithm  test 80 possible combination and 5 minutes."
   ]
  },
  {
   "cell_type": "code",
   "execution_count": 199,
   "id": "3de663f1",
   "metadata": {},
   "outputs": [
    {
     "name": "stdout",
     "output_type": "stream",
     "text": [
      "Fitting 10 folds for each of 8 candidates, totalling 80 fits\n",
      "CPU times: total: 1min 10s\n",
      "Wall time: 4min 30s\n"
     ]
    },
    {
     "data": {
      "text/plain": [
       "GridSearchCV(cv=RepeatedStratifiedKFold(n_repeats=1, n_splits=10, random_state=999),\n",
       "             estimator=MLPClassifier(random_state=999),\n",
       "             param_grid={'activation': ['relu', 'logistic'],\n",
       "                         'early_stopping': [True],\n",
       "                         'learning_rate': ['constant', 'adaptive'],\n",
       "                         'random_state': [999], 'solver': ['sgd', 'adam']},\n",
       "             return_train_score=True, scoring='accuracy', verbose=1)"
      ]
     },
     "execution_count": 199,
     "metadata": {},
     "output_type": "execute_result"
    }
   ],
   "source": [
    "%%time\n",
    "gs_MLP.fit(d_train, t_train)"
   ]
  },
  {
   "cell_type": "markdown",
   "id": "41d96aff",
   "metadata": {},
   "source": [
    "From the initial result run of neural network algorithm, it is possible to identify best parameter for a predictive model with the current data."
   ]
  },
  {
   "cell_type": "code",
   "execution_count": 200,
   "id": "f52bb9d6",
   "metadata": {},
   "outputs": [
    {
     "data": {
      "text/plain": [
       "{'activation': 'relu',\n",
       " 'early_stopping': True,\n",
       " 'learning_rate': 'constant',\n",
       " 'random_state': 999,\n",
       " 'solver': 'adam'}"
      ]
     },
     "execution_count": 200,
     "metadata": {},
     "output_type": "execute_result"
    }
   ],
   "source": [
    "gs_MLP.best_params_"
   ]
  },
  {
   "cell_type": "code",
   "execution_count": 201,
   "id": "7f23327a",
   "metadata": {
    "scrolled": true
   },
   "outputs": [
    {
     "data": {
      "text/plain": [
       "0.1202533679057139"
      ]
     },
     "execution_count": 201,
     "metadata": {},
     "output_type": "execute_result"
    }
   ],
   "source": [
    "gs_MLP.best_score_"
   ]
  },
  {
   "cell_type": "markdown",
   "id": "828a711b",
   "metadata": {},
   "source": [
    "Setting this parameters, it is possible to modify other parameters that definitely have an effect on the module performance. For instance the batch size and the learning rate are flexible parameter that can fluctuated across a large range of number in order to identify the best combination of them."
   ]
  },
  {
   "cell_type": "markdown",
   "id": "1d39e544",
   "metadata": {},
   "source": [
    "BATCH SIZE VARIATION\n",
    "\n",
    "Initially, the batch size with change between 250, 500 and 700 to see how much effect has on the model and which size of batches is more convenient."
   ]
  },
  {
   "cell_type": "code",
   "execution_count": 202,
   "id": "208b0385",
   "metadata": {},
   "outputs": [],
   "source": [
    "MLP_BATCH = MLPClassifier(random_state= 999)\n",
    "\n",
    "params_MLP_BATCH = {'activation': ['relu'],\n",
    "              'early_stopping': [False],\n",
    "              'solver': ['adam'],\n",
    "                 'batch_size': [250, 500, 750],\n",
    "                 'learning_rate_init': [0.001],\n",
    "              'learning_rate': ['constant'],\n",
    "              'random_state' : [999]}\n",
    "\n",
    "gs_MLP_BATCH = GridSearchCV(estimator=MLP_BATCH, \n",
    "                     param_grid=params_MLP_BATCH,\n",
    "                     cv=cv_method,\n",
    "                     verbose=1, \n",
    "                     scoring='accuracy',\n",
    "                     return_train_score=True)"
   ]
  },
  {
   "cell_type": "markdown",
   "id": "e5f86493",
   "metadata": {},
   "source": [
    "#### Model Fitting\n",
    "This algorithm  test 30 fits in less than  6 minutes."
   ]
  },
  {
   "cell_type": "code",
   "execution_count": 203,
   "id": "bcb2d170",
   "metadata": {
    "scrolled": true
   },
   "outputs": [
    {
     "name": "stdout",
     "output_type": "stream",
     "text": [
      "Fitting 10 folds for each of 3 candidates, totalling 30 fits\n",
      "CPU times: total: 1min 32s\n",
      "Wall time: 5min 52s\n"
     ]
    },
    {
     "data": {
      "text/plain": [
       "GridSearchCV(cv=RepeatedStratifiedKFold(n_repeats=1, n_splits=10, random_state=999),\n",
       "             estimator=MLPClassifier(random_state=999),\n",
       "             param_grid={'activation': ['relu'], 'batch_size': [250, 500, 750],\n",
       "                         'early_stopping': [False],\n",
       "                         'learning_rate': ['constant'],\n",
       "                         'learning_rate_init': [0.001], 'random_state': [999],\n",
       "                         'solver': ['adam']},\n",
       "             return_train_score=True, scoring='accuracy', verbose=1)"
      ]
     },
     "execution_count": 203,
     "metadata": {},
     "output_type": "execute_result"
    }
   ],
   "source": [
    "%%time\n",
    "gs_MLP_BATCH.fit(d_train, t_train)"
   ]
  },
  {
   "cell_type": "code",
   "execution_count": 205,
   "id": "af104d1b",
   "metadata": {},
   "outputs": [
    {
     "data": {
      "text/plain": [
       "MLPClassifier(batch_size=250, random_state=999)"
      ]
     },
     "execution_count": 205,
     "metadata": {},
     "output_type": "execute_result"
    }
   ],
   "source": [
    "gs_MLP_BATCH.best_estimator_"
   ]
  },
  {
   "cell_type": "code",
   "execution_count": 206,
   "id": "03e07cb9",
   "metadata": {},
   "outputs": [
    {
     "data": {
      "text/plain": [
       "0.1400386847195358"
      ]
     },
     "execution_count": 206,
     "metadata": {},
     "output_type": "execute_result"
    }
   ],
   "source": [
    "t_pred = gs_MLP_BATCH.predict(d_test)\n",
    "metrics.accuracy_score(t_test, t_pred)"
   ]
  },
  {
   "cell_type": "markdown",
   "id": "c3e0393e",
   "metadata": {},
   "source": [
    "LEARNING RATE VARIATION\n",
    "\n",
    "Then, the constant learning rate of the NN varied from 0.005 to 0.05 to determine which is the best speed of learning for this model."
   ]
  },
  {
   "cell_type": "code",
   "execution_count": 207,
   "id": "02311cd6",
   "metadata": {},
   "outputs": [],
   "source": [
    "MLP_LR= MLPClassifier(random_state= 999)\n",
    "params_MLP_LR = {'activation': ['relu'],\n",
    "              'early_stopping': [False],\n",
    "              'solver': ['adam'],\n",
    "                 'batch_size': [250],\n",
    "                 'learning_rate_init': [0.005,0.01,0.05],\n",
    "              'learning_rate': ['constant'],\n",
    "              'random_state' : [999]}\n",
    "\n",
    "\n",
    "gs_MLP_LR = GridSearchCV(estimator=MLP_LR,\n",
    "                         param_grid=params_MLP_LR,\n",
    "                     cv=cv_method,\n",
    "                     verbose=1, \n",
    "                     scoring='accuracy',\n",
    "                     return_train_score=True)"
   ]
  },
  {
   "cell_type": "markdown",
   "id": "331f428f",
   "metadata": {},
   "source": [
    "#### Model Fitting\n",
    "This algorithm  test 30 fits in less than  10 minutes."
   ]
  },
  {
   "cell_type": "code",
   "execution_count": 208,
   "id": "cc5fadd5",
   "metadata": {},
   "outputs": [
    {
     "name": "stdout",
     "output_type": "stream",
     "text": [
      "Fitting 10 folds for each of 3 candidates, totalling 30 fits\n",
      "CPU times: total: 1min 16s\n",
      "Wall time: 6min 31s\n"
     ]
    },
    {
     "data": {
      "text/plain": [
       "GridSearchCV(cv=RepeatedStratifiedKFold(n_repeats=1, n_splits=10, random_state=999),\n",
       "             estimator=MLPClassifier(random_state=999),\n",
       "             param_grid={'activation': ['relu'], 'batch_size': [250],\n",
       "                         'early_stopping': [False],\n",
       "                         'learning_rate': ['constant'],\n",
       "                         'learning_rate_init': [0.005, 0.01, 0.05],\n",
       "                         'random_state': [999], 'solver': ['adam']},\n",
       "             return_train_score=True, scoring='accuracy', verbose=1)"
      ]
     },
     "execution_count": 208,
     "metadata": {},
     "output_type": "execute_result"
    }
   ],
   "source": [
    "%%time\n",
    "gs_MLP_LR.fit(d_train, t_train)"
   ]
  },
  {
   "cell_type": "code",
   "execution_count": 211,
   "id": "8b398ba2",
   "metadata": {},
   "outputs": [
    {
     "data": {
      "text/plain": [
       "MLPClassifier(batch_size=250, learning_rate_init=0.01, random_state=999)"
      ]
     },
     "execution_count": 211,
     "metadata": {},
     "output_type": "execute_result"
    }
   ],
   "source": [
    "gs_MLP_LR.best_estimator_"
   ]
  },
  {
   "cell_type": "code",
   "execution_count": 212,
   "id": "4149c3ea",
   "metadata": {},
   "outputs": [
    {
     "data": {
      "text/plain": [
       "0.36002578981302386"
      ]
     },
     "execution_count": 212,
     "metadata": {},
     "output_type": "execute_result"
    }
   ],
   "source": [
    "t_pred = gs_MLP_LR.predict(d_test)"
   ]
  },
  {
   "cell_type": "markdown",
   "id": "b794e5bd",
   "metadata": {},
   "source": [
    "#### Final NN Model \n",
    "The previous experiments has shown that the fittest Neural Network model is the one with following parameters:\n",
    "* Activation relu\n",
    "* Batch size of 250 observations\n",
    "* Constant Learning rate at 0.01\n",
    "* Adaptive solver method (ADAM)"
   ]
  },
  {
   "cell_type": "markdown",
   "id": "a6d9373c",
   "metadata": {},
   "source": [
    "#### Metrics"
   ]
  },
  {
   "cell_type": "markdown",
   "id": "a24a49a6",
   "metadata": {},
   "source": [
    "F-SCORE"
   ]
  },
  {
   "cell_type": "code",
   "execution_count": 214,
   "id": "471ec812",
   "metadata": {},
   "outputs": [
    {
     "data": {
      "text/plain": [
       "0.3437415745092829"
      ]
     },
     "execution_count": 214,
     "metadata": {},
     "output_type": "execute_result"
    }
   ],
   "source": [
    "gs_MLP_LR.best_score_"
   ]
  },
  {
   "cell_type": "markdown",
   "id": "1ff9c5c2",
   "metadata": {},
   "source": [
    "ACCURACY SCORE"
   ]
  },
  {
   "cell_type": "code",
   "execution_count": 216,
   "id": "b2844e15",
   "metadata": {},
   "outputs": [
    {
     "data": {
      "text/plain": [
       "0.36002578981302386"
      ]
     },
     "execution_count": 216,
     "metadata": {},
     "output_type": "execute_result"
    }
   ],
   "source": [
    "t_pred = gs_MLP_LR.predict(d_test)\n",
    "metrics.accuracy_score(t_test, t_pred)"
   ]
  },
  {
   "cell_type": "markdown",
   "id": "56b9e0b2",
   "metadata": {},
   "source": [
    "CONFUSION MATRIX"
   ]
  },
  {
   "cell_type": "code",
   "execution_count": 217,
   "id": "9b78a4a4",
   "metadata": {},
   "outputs": [
    {
     "data": {
      "text/html": [
       "<table>\n",
       "<tbody>\n",
       "<tr><td style=\"text-align: right;\">248</td><td style=\"text-align: right;\">20</td><td style=\"text-align: right;\">  1</td><td style=\"text-align: right;\">  2</td><td style=\"text-align: right;\"> 7</td><td style=\"text-align: right;\">  0</td><td style=\"text-align: right;\"> 1</td><td style=\"text-align: right;\"> 0</td><td style=\"text-align: right;\"> 0</td><td style=\"text-align: right;\">  0</td><td style=\"text-align: right;\">102</td><td style=\"text-align: right;\">  4</td><td style=\"text-align: right;\">79</td><td style=\"text-align: right;\">  0</td><td style=\"text-align: right;\">  0</td><td style=\"text-align: right;\"> 0</td><td style=\"text-align: right;\">  0</td><td style=\"text-align: right;\"> 83</td><td style=\"text-align: right;\">  0</td><td style=\"text-align: right;\"> 4</td><td style=\"text-align: right;\">  0</td></tr>\n",
       "<tr><td style=\"text-align: right;\"> 34</td><td style=\"text-align: right;\">48</td><td style=\"text-align: right;\">  7</td><td style=\"text-align: right;\">  0</td><td style=\"text-align: right;\">34</td><td style=\"text-align: right;\"> 12</td><td style=\"text-align: right;\"> 1</td><td style=\"text-align: right;\"> 0</td><td style=\"text-align: right;\"> 0</td><td style=\"text-align: right;\">  0</td><td style=\"text-align: right;\"> 34</td><td style=\"text-align: right;\"> 77</td><td style=\"text-align: right;\">30</td><td style=\"text-align: right;\">  1</td><td style=\"text-align: right;\">  0</td><td style=\"text-align: right;\"> 1</td><td style=\"text-align: right;\">  0</td><td style=\"text-align: right;\"> 42</td><td style=\"text-align: right;\">  0</td><td style=\"text-align: right;\">26</td><td style=\"text-align: right;\">  0</td></tr>\n",
       "<tr><td style=\"text-align: right;\">  9</td><td style=\"text-align: right;\">16</td><td style=\"text-align: right;\">132</td><td style=\"text-align: right;\">  0</td><td style=\"text-align: right;\"> 8</td><td style=\"text-align: right;\"> 40</td><td style=\"text-align: right;\">16</td><td style=\"text-align: right;\"> 0</td><td style=\"text-align: right;\"> 0</td><td style=\"text-align: right;\">  0</td><td style=\"text-align: right;\">  3</td><td style=\"text-align: right;\">159</td><td style=\"text-align: right;\"> 8</td><td style=\"text-align: right;\">  2</td><td style=\"text-align: right;\">  8</td><td style=\"text-align: right;\">19</td><td style=\"text-align: right;\">  1</td><td style=\"text-align: right;\">  2</td><td style=\"text-align: right;\">  1</td><td style=\"text-align: right;\">24</td><td style=\"text-align: right;\">  0</td></tr>\n",
       "<tr><td style=\"text-align: right;\"> 29</td><td style=\"text-align: right;\"> 0</td><td style=\"text-align: right;\">  0</td><td style=\"text-align: right;\">205</td><td style=\"text-align: right;\"> 0</td><td style=\"text-align: right;\">  0</td><td style=\"text-align: right;\"> 0</td><td style=\"text-align: right;\"> 0</td><td style=\"text-align: right;\"> 0</td><td style=\"text-align: right;\">  0</td><td style=\"text-align: right;\"> 19</td><td style=\"text-align: right;\">  1</td><td style=\"text-align: right;\"> 7</td><td style=\"text-align: right;\">  0</td><td style=\"text-align: right;\">  0</td><td style=\"text-align: right;\"> 0</td><td style=\"text-align: right;\">  0</td><td style=\"text-align: right;\">  5</td><td style=\"text-align: right;\">  0</td><td style=\"text-align: right;\"> 0</td><td style=\"text-align: right;\">  0</td></tr>\n",
       "<tr><td style=\"text-align: right;\"> 25</td><td style=\"text-align: right;\">32</td><td style=\"text-align: right;\"> 11</td><td style=\"text-align: right;\">  0</td><td style=\"text-align: right;\">33</td><td style=\"text-align: right;\"> 20</td><td style=\"text-align: right;\"> 1</td><td style=\"text-align: right;\"> 0</td><td style=\"text-align: right;\"> 0</td><td style=\"text-align: right;\">  0</td><td style=\"text-align: right;\"> 31</td><td style=\"text-align: right;\"> 81</td><td style=\"text-align: right;\">30</td><td style=\"text-align: right;\">  0</td><td style=\"text-align: right;\">  0</td><td style=\"text-align: right;\"> 0</td><td style=\"text-align: right;\">  1</td><td style=\"text-align: right;\"> 29</td><td style=\"text-align: right;\">  0</td><td style=\"text-align: right;\"> 9</td><td style=\"text-align: right;\">  0</td></tr>\n",
       "<tr><td style=\"text-align: right;\">  0</td><td style=\"text-align: right;\"> 3</td><td style=\"text-align: right;\"> 97</td><td style=\"text-align: right;\">  0</td><td style=\"text-align: right;\"> 0</td><td style=\"text-align: right;\">152</td><td style=\"text-align: right;\">46</td><td style=\"text-align: right;\"> 2</td><td style=\"text-align: right;\"> 0</td><td style=\"text-align: right;\">  0</td><td style=\"text-align: right;\">  1</td><td style=\"text-align: right;\"> 58</td><td style=\"text-align: right;\"> 0</td><td style=\"text-align: right;\">  8</td><td style=\"text-align: right;\"> 33</td><td style=\"text-align: right;\">14</td><td style=\"text-align: right;\">  0</td><td style=\"text-align: right;\">  1</td><td style=\"text-align: right;\">  0</td><td style=\"text-align: right;\">14</td><td style=\"text-align: right;\">  0</td></tr>\n",
       "<tr><td style=\"text-align: right;\">  0</td><td style=\"text-align: right;\"> 0</td><td style=\"text-align: right;\"> 83</td><td style=\"text-align: right;\">  0</td><td style=\"text-align: right;\"> 1</td><td style=\"text-align: right;\"> 70</td><td style=\"text-align: right;\">50</td><td style=\"text-align: right;\"> 0</td><td style=\"text-align: right;\"> 0</td><td style=\"text-align: right;\">  0</td><td style=\"text-align: right;\">  0</td><td style=\"text-align: right;\"> 18</td><td style=\"text-align: right;\"> 0</td><td style=\"text-align: right;\"> 21</td><td style=\"text-align: right;\"> 79</td><td style=\"text-align: right;\">30</td><td style=\"text-align: right;\">  0</td><td style=\"text-align: right;\">  0</td><td style=\"text-align: right;\">  0</td><td style=\"text-align: right;\">14</td><td style=\"text-align: right;\">  0</td></tr>\n",
       "<tr><td style=\"text-align: right;\">  0</td><td style=\"text-align: right;\"> 0</td><td style=\"text-align: right;\">  2</td><td style=\"text-align: right;\">  1</td><td style=\"text-align: right;\"> 0</td><td style=\"text-align: right;\">  0</td><td style=\"text-align: right;\"> 3</td><td style=\"text-align: right;\">97</td><td style=\"text-align: right;\">47</td><td style=\"text-align: right;\"> 21</td><td style=\"text-align: right;\">  0</td><td style=\"text-align: right;\">  0</td><td style=\"text-align: right;\"> 0</td><td style=\"text-align: right;\">114</td><td style=\"text-align: right;\"> 36</td><td style=\"text-align: right;\">14</td><td style=\"text-align: right;\"> 18</td><td style=\"text-align: right;\">  0</td><td style=\"text-align: right;\"> 28</td><td style=\"text-align: right;\"> 0</td><td style=\"text-align: right;\">  4</td></tr>\n",
       "<tr><td style=\"text-align: right;\">  0</td><td style=\"text-align: right;\"> 0</td><td style=\"text-align: right;\">  0</td><td style=\"text-align: right;\">  0</td><td style=\"text-align: right;\"> 0</td><td style=\"text-align: right;\">  0</td><td style=\"text-align: right;\"> 1</td><td style=\"text-align: right;\">64</td><td style=\"text-align: right;\">86</td><td style=\"text-align: right;\">  1</td><td style=\"text-align: right;\">  0</td><td style=\"text-align: right;\">  0</td><td style=\"text-align: right;\"> 0</td><td style=\"text-align: right;\"> 84</td><td style=\"text-align: right;\">  1</td><td style=\"text-align: right;\"> 2</td><td style=\"text-align: right;\">  2</td><td style=\"text-align: right;\">  0</td><td style=\"text-align: right;\"> 89</td><td style=\"text-align: right;\"> 0</td><td style=\"text-align: right;\">  0</td></tr>\n",
       "<tr><td style=\"text-align: right;\">  0</td><td style=\"text-align: right;\"> 0</td><td style=\"text-align: right;\">  0</td><td style=\"text-align: right;\">  0</td><td style=\"text-align: right;\"> 0</td><td style=\"text-align: right;\">  0</td><td style=\"text-align: right;\"> 0</td><td style=\"text-align: right;\">14</td><td style=\"text-align: right;\">14</td><td style=\"text-align: right;\">110</td><td style=\"text-align: right;\">  0</td><td style=\"text-align: right;\">  0</td><td style=\"text-align: right;\"> 0</td><td style=\"text-align: right;\">  3</td><td style=\"text-align: right;\">  0</td><td style=\"text-align: right;\"> 0</td><td style=\"text-align: right;\">133</td><td style=\"text-align: right;\">  0</td><td style=\"text-align: right;\"> 39</td><td style=\"text-align: right;\"> 0</td><td style=\"text-align: right;\"> 27</td></tr>\n",
       "<tr><td style=\"text-align: right;\"> 60</td><td style=\"text-align: right;\"> 8</td><td style=\"text-align: right;\"> 10</td><td style=\"text-align: right;\"> 68</td><td style=\"text-align: right;\">21</td><td style=\"text-align: right;\"> 21</td><td style=\"text-align: right;\"> 0</td><td style=\"text-align: right;\"> 0</td><td style=\"text-align: right;\"> 0</td><td style=\"text-align: right;\">  0</td><td style=\"text-align: right;\"> 72</td><td style=\"text-align: right;\"> 22</td><td style=\"text-align: right;\">12</td><td style=\"text-align: right;\">  0</td><td style=\"text-align: right;\">  0</td><td style=\"text-align: right;\"> 0</td><td style=\"text-align: right;\">  0</td><td style=\"text-align: right;\"> 17</td><td style=\"text-align: right;\">  0</td><td style=\"text-align: right;\">10</td><td style=\"text-align: right;\">  0</td></tr>\n",
       "<tr><td style=\"text-align: right;\">  6</td><td style=\"text-align: right;\">28</td><td style=\"text-align: right;\"> 73</td><td style=\"text-align: right;\">  0</td><td style=\"text-align: right;\">23</td><td style=\"text-align: right;\"> 12</td><td style=\"text-align: right;\"> 4</td><td style=\"text-align: right;\"> 0</td><td style=\"text-align: right;\"> 0</td><td style=\"text-align: right;\">  0</td><td style=\"text-align: right;\">  3</td><td style=\"text-align: right;\">291</td><td style=\"text-align: right;\">28</td><td style=\"text-align: right;\">  0</td><td style=\"text-align: right;\">  0</td><td style=\"text-align: right;\"> 3</td><td style=\"text-align: right;\">  0</td><td style=\"text-align: right;\"> 42</td><td style=\"text-align: right;\">  0</td><td style=\"text-align: right;\"> 8</td><td style=\"text-align: right;\">  0</td></tr>\n",
       "<tr><td style=\"text-align: right;\"> 49</td><td style=\"text-align: right;\">35</td><td style=\"text-align: right;\">  0</td><td style=\"text-align: right;\">  0</td><td style=\"text-align: right;\">22</td><td style=\"text-align: right;\">  2</td><td style=\"text-align: right;\"> 0</td><td style=\"text-align: right;\"> 0</td><td style=\"text-align: right;\"> 0</td><td style=\"text-align: right;\">  0</td><td style=\"text-align: right;\"> 25</td><td style=\"text-align: right;\"> 28</td><td style=\"text-align: right;\">91</td><td style=\"text-align: right;\">  0</td><td style=\"text-align: right;\">  0</td><td style=\"text-align: right;\"> 0</td><td style=\"text-align: right;\">  0</td><td style=\"text-align: right;\"> 78</td><td style=\"text-align: right;\">  0</td><td style=\"text-align: right;\"> 0</td><td style=\"text-align: right;\">  0</td></tr>\n",
       "<tr><td style=\"text-align: right;\">  0</td><td style=\"text-align: right;\"> 0</td><td style=\"text-align: right;\">  8</td><td style=\"text-align: right;\">  0</td><td style=\"text-align: right;\"> 0</td><td style=\"text-align: right;\">  1</td><td style=\"text-align: right;\">10</td><td style=\"text-align: right;\">87</td><td style=\"text-align: right;\">40</td><td style=\"text-align: right;\">  3</td><td style=\"text-align: right;\">  1</td><td style=\"text-align: right;\">  0</td><td style=\"text-align: right;\"> 0</td><td style=\"text-align: right;\">165</td><td style=\"text-align: right;\"> 51</td><td style=\"text-align: right;\">14</td><td style=\"text-align: right;\">  0</td><td style=\"text-align: right;\">  0</td><td style=\"text-align: right;\"> 47</td><td style=\"text-align: right;\"> 0</td><td style=\"text-align: right;\">  0</td></tr>\n",
       "<tr><td style=\"text-align: right;\">  0</td><td style=\"text-align: right;\"> 0</td><td style=\"text-align: right;\"> 11</td><td style=\"text-align: right;\">  0</td><td style=\"text-align: right;\"> 0</td><td style=\"text-align: right;\"> 13</td><td style=\"text-align: right;\">27</td><td style=\"text-align: right;\">13</td><td style=\"text-align: right;\">18</td><td style=\"text-align: right;\">  0</td><td style=\"text-align: right;\">  0</td><td style=\"text-align: right;\">  0</td><td style=\"text-align: right;\"> 0</td><td style=\"text-align: right;\"> 76</td><td style=\"text-align: right;\">142</td><td style=\"text-align: right;\">58</td><td style=\"text-align: right;\">  0</td><td style=\"text-align: right;\">  1</td><td style=\"text-align: right;\"> 22</td><td style=\"text-align: right;\"> 0</td><td style=\"text-align: right;\">  0</td></tr>\n",
       "<tr><td style=\"text-align: right;\">  0</td><td style=\"text-align: right;\"> 1</td><td style=\"text-align: right;\"> 14</td><td style=\"text-align: right;\">  0</td><td style=\"text-align: right;\"> 3</td><td style=\"text-align: right;\"> 30</td><td style=\"text-align: right;\">20</td><td style=\"text-align: right;\"> 6</td><td style=\"text-align: right;\">11</td><td style=\"text-align: right;\">  0</td><td style=\"text-align: right;\">  3</td><td style=\"text-align: right;\">  7</td><td style=\"text-align: right;\"> 1</td><td style=\"text-align: right;\"> 20</td><td style=\"text-align: right;\"> 44</td><td style=\"text-align: right;\">40</td><td style=\"text-align: right;\">  0</td><td style=\"text-align: right;\">  0</td><td style=\"text-align: right;\"> 61</td><td style=\"text-align: right;\"> 5</td><td style=\"text-align: right;\">  0</td></tr>\n",
       "<tr><td style=\"text-align: right;\">  0</td><td style=\"text-align: right;\"> 0</td><td style=\"text-align: right;\">  0</td><td style=\"text-align: right;\">  0</td><td style=\"text-align: right;\"> 0</td><td style=\"text-align: right;\">  0</td><td style=\"text-align: right;\"> 0</td><td style=\"text-align: right;\">11</td><td style=\"text-align: right;\"> 9</td><td style=\"text-align: right;\"> 70</td><td style=\"text-align: right;\">  0</td><td style=\"text-align: right;\">  1</td><td style=\"text-align: right;\"> 0</td><td style=\"text-align: right;\">  2</td><td style=\"text-align: right;\">  0</td><td style=\"text-align: right;\"> 0</td><td style=\"text-align: right;\">106</td><td style=\"text-align: right;\">  0</td><td style=\"text-align: right;\"> 25</td><td style=\"text-align: right;\"> 0</td><td style=\"text-align: right;\"> 99</td></tr>\n",
       "<tr><td style=\"text-align: right;\"> 35</td><td style=\"text-align: right;\">29</td><td style=\"text-align: right;\">  1</td><td style=\"text-align: right;\">  4</td><td style=\"text-align: right;\">27</td><td style=\"text-align: right;\">  2</td><td style=\"text-align: right;\"> 0</td><td style=\"text-align: right;\"> 0</td><td style=\"text-align: right;\"> 1</td><td style=\"text-align: right;\">  0</td><td style=\"text-align: right;\"> 23</td><td style=\"text-align: right;\"> 85</td><td style=\"text-align: right;\">45</td><td style=\"text-align: right;\">  1</td><td style=\"text-align: right;\">  0</td><td style=\"text-align: right;\"> 0</td><td style=\"text-align: right;\">  0</td><td style=\"text-align: right;\">128</td><td style=\"text-align: right;\">  1</td><td style=\"text-align: right;\"> 6</td><td style=\"text-align: right;\">  0</td></tr>\n",
       "<tr><td style=\"text-align: right;\">  0</td><td style=\"text-align: right;\"> 0</td><td style=\"text-align: right;\">  0</td><td style=\"text-align: right;\">  1</td><td style=\"text-align: right;\"> 0</td><td style=\"text-align: right;\">  0</td><td style=\"text-align: right;\"> 0</td><td style=\"text-align: right;\">19</td><td style=\"text-align: right;\">48</td><td style=\"text-align: right;\">  9</td><td style=\"text-align: right;\">  0</td><td style=\"text-align: right;\">  0</td><td style=\"text-align: right;\"> 0</td><td style=\"text-align: right;\"> 25</td><td style=\"text-align: right;\">  1</td><td style=\"text-align: right;\"> 6</td><td style=\"text-align: right;\">  3</td><td style=\"text-align: right;\">  0</td><td style=\"text-align: right;\">197</td><td style=\"text-align: right;\"> 0</td><td style=\"text-align: right;\">  0</td></tr>\n",
       "<tr><td style=\"text-align: right;\">  3</td><td style=\"text-align: right;\">17</td><td style=\"text-align: right;\"> 53</td><td style=\"text-align: right;\">  0</td><td style=\"text-align: right;\">13</td><td style=\"text-align: right;\"> 60</td><td style=\"text-align: right;\"> 6</td><td style=\"text-align: right;\"> 0</td><td style=\"text-align: right;\"> 0</td><td style=\"text-align: right;\">  0</td><td style=\"text-align: right;\">  7</td><td style=\"text-align: right;\">123</td><td style=\"text-align: right;\"> 8</td><td style=\"text-align: right;\">  1</td><td style=\"text-align: right;\">  1</td><td style=\"text-align: right;\"> 0</td><td style=\"text-align: right;\">  0</td><td style=\"text-align: right;\">  1</td><td style=\"text-align: right;\">  0</td><td style=\"text-align: right;\">56</td><td style=\"text-align: right;\">  0</td></tr>\n",
       "<tr><td style=\"text-align: right;\">  0</td><td style=\"text-align: right;\"> 0</td><td style=\"text-align: right;\">  0</td><td style=\"text-align: right;\">  0</td><td style=\"text-align: right;\"> 0</td><td style=\"text-align: right;\">  0</td><td style=\"text-align: right;\"> 0</td><td style=\"text-align: right;\"> 0</td><td style=\"text-align: right;\"> 0</td><td style=\"text-align: right;\">  7</td><td style=\"text-align: right;\">  1</td><td style=\"text-align: right;\">  0</td><td style=\"text-align: right;\"> 0</td><td style=\"text-align: right;\">  0</td><td style=\"text-align: right;\">  0</td><td style=\"text-align: right;\"> 0</td><td style=\"text-align: right;\"> 24</td><td style=\"text-align: right;\">  0</td><td style=\"text-align: right;\">  0</td><td style=\"text-align: right;\"> 0</td><td style=\"text-align: right;\">343</td></tr>\n",
       "</tbody>\n",
       "</table>"
      ],
      "text/plain": [
       "<IPython.core.display.HTML object>"
      ]
     },
     "metadata": {},
     "output_type": "display_data"
    }
   ],
   "source": [
    "metrics.confusion_matrix(t_test, t_pred)\n",
    "matrix = tabulate(metrics.confusion_matrix(t_test, t_pred),\n",
    "                           tablefmt = 'html')\n",
    "from IPython.display import HTML, display\n",
    "display(HTML(matrix))"
   ]
  },
  {
   "cell_type": "markdown",
   "id": "89e1c4e3",
   "metadata": {},
   "source": [
    "The NN algorithm seems to have a accuracy score of 0.36 which is lower than the decision tree but higher than the other models. The parameters selected shows how the model improved from the initial setting to this final sets. This means, that it could improve more if the range of parameters change. However, it does not show enough evidence to be better than the decision tree model."
   ]
  },
  {
   "cell_type": "markdown",
   "id": "b6e34b96",
   "metadata": {},
   "source": [
    "### Model Comparison  <a id='mc'></a>\n",
    "\n",
    "The model comparison is part of the model evaluation. This stage of the data science projects cycle presents the performance of different models and it evaluates this values against each to compare which model is the fittest.  There are 4 candidate model to be compared : Decision Tree (DT), Random Forest(RF), K- Near Neighbors (KNN) the final Neural Network model (NN). The other models applied were discarded because their performance is lower than the mentioned candidates.\n",
    "\n",
    "The model comparison is comparing cross-validation results between these 4 models having the accuracy score as point of reference for the comparison."
   ]
  },
  {
   "cell_type": "markdown",
   "id": "6ed9bbeb",
   "metadata": {},
   "source": [
    "#### Cross-Validation"
   ]
  },
  {
   "cell_type": "code",
   "execution_count": 224,
   "id": "ead1e013",
   "metadata": {},
   "outputs": [
    {
     "name": "stdout",
     "output_type": "stream",
     "text": [
      "f DT : {cv_results_DT.mean().round(3)}\n",
      "f DT : {cv_results_RF.mean().round(3)}\n",
      "f DT : {cv_results_KNN.mean().round(3)}\n",
      "f DT : {cv_results_MLP_LR.mean().round(3)}\n",
      "CPU times: total: 31.2 ms\n",
      "Wall time: 49.4 s\n"
     ]
    }
   ],
   "source": [
    "%%time\n",
    "from sklearn.model_selection import cross_val_score\n",
    "\n",
    "cv_method_ttest = RepeatedStratifiedKFold(n_splits=10, \n",
    "                                          n_repeats=1, \n",
    "                                          random_state=999)\n",
    "\n",
    "# Decision Tree\n",
    "cv_results_DT = cross_val_score(estimator=gs_pipe_DT_fs.best_estimator_,\n",
    "                                 X=data,\n",
    "                                 y=target, \n",
    "                                 cv=cv_method_ttest, \n",
    "                                 n_jobs=-2,\n",
    "                                 scoring='accuracy')\n",
    "print('f DT : {cv_results_DT.mean().round(3)}')\n",
    "\n",
    "# Random Forest\n",
    "cv_results_RF = cross_val_score(estimator=gs_pipe_RF_fs.best_estimator_,\n",
    "                                X=data,\n",
    "                                y=target, \n",
    "                                cv=cv_method_ttest, \n",
    "                                n_jobs=-2,\n",
    "                                scoring='accuracy')\n",
    "print('f DT : {cv_results_RF.mean().round(3)}')\n",
    "\n",
    "# KNN\n",
    "cv_results_KNN = cross_val_score(estimator=gs_pipe_KNN.best_estimator_,\n",
    "                                X=data,\n",
    "                                y=target, \n",
    "                                cv=cv_method_ttest, \n",
    "                                n_jobs=-2,\n",
    "                                scoring='accuracy')\n",
    "print('f DT : {cv_results_KNN.mean().round(3)}')\n",
    "\n",
    "# MLP_LR\n",
    "cv_results_MLP_LR = cross_val_score(estimator=gs_MLP_LR.best_estimator_,\n",
    "                                X=data,\n",
    "                                y=target, \n",
    "                                cv=cv_method_ttest, \n",
    "                                n_jobs=-2,\n",
    "                                scoring='accuracy')\n",
    "\n",
    "print('f DT : {cv_results_MLP_LR.mean().round(3)}')\n",
    "\n"
   ]
  },
  {
   "cell_type": "code",
   "execution_count": 228,
   "id": "99f2279b",
   "metadata": {},
   "outputs": [
    {
     "name": "stdout",
     "output_type": "stream",
     "text": [
      "DT :  0.986\n",
      "RF :  0.974\n",
      "KNN :  0.148\n",
      "MLP_LR :  0.368\n"
     ]
    }
   ],
   "source": [
    "print('DT : ',cv_results_DT.mean().round(3))\n",
    "print('RF : ',cv_results_RF.mean().round(3))\n",
    "print('KNN : ',cv_results_KNN.mean().round(3))\n",
    "print('MLP_LR : ',cv_results_MLP_LR.mean().round(3))"
   ]
  },
  {
   "cell_type": "markdown",
   "id": "82c9da15",
   "metadata": {},
   "source": [
    "In coherence with previous analysis of metrics for each model, it is observable  how in average the KNN and NN algorithms do not show a significant performance. However, the information-based algorithms have perform better with similar mean accuracy score, which shows a that possible the decision tree algorithm is doing better than the random forest algorithm. As an evidence of these, the next step is to execute a Pair T-test comparison between the mean accuracy score."
   ]
  },
  {
   "cell_type": "markdown",
   "id": "f709cd10",
   "metadata": {},
   "source": [
    "#### Pair T-test"
   ]
  },
  {
   "cell_type": "markdown",
   "id": "95f11e54",
   "metadata": {},
   "source": [
    "The Pair  T-test states the null hypothesis that the mean of both models are statistically equal (H0: μ1 = μ2) and the alternative hypothesis is the contrary (H1: μ1 ≠ μ2)."
   ]
  },
  {
   "cell_type": "code",
   "execution_count": 236,
   "id": "1dd317c1",
   "metadata": {},
   "outputs": [
    {
     "name": "stdout",
     "output_type": "stream",
     "text": [
      "Ttest_relResult(statistic=409.02794328819067, pvalue=1.588541092969237e-20)\n",
      "Ttest_relResult(statistic=93.08419476804596, pvalue=9.663686706204715e-15)\n",
      "Ttest_relResult(statistic=12.779141270558965, pvalue=4.497891631877257e-07)\n"
     ]
    }
   ],
   "source": [
    "from scipy import stats\n",
    "\n",
    "# DT and KNN\n",
    "print(stats.ttest_rel(cv_results_DT, cv_results_KNN))\n",
    "# DT and NN\n",
    "print(stats.ttest_rel(cv_results_DT,cv_results_MLP_LR))\n",
    "\n",
    "# TO check equality between DT and RF\n",
    "print(stats.ttest_rel(cv_results_DT, cv_results_RF))\n",
    "\n",
    "# PLOTS "
   ]
  },
  {
   "cell_type": "markdown",
   "id": "c26a15d7",
   "metadata": {},
   "source": [
    "The t-test shows that any p-value is greater than the level of significance (0.05). Therefore, it rejects the null hypothesis that means accuracy of theses models are statistically equal. In particular, this rejects that average accuracy score between decision tree and random forest models are different. \n",
    "\n",
    "The result of this test shows enough evidence that indicate that the decision tree model for this special case is the fittest model."
   ]
  },
  {
   "cell_type": "markdown",
   "id": "bbcad8e8",
   "metadata": {},
   "source": [
    "## Limitations  <a id='l'></a>\n",
    "\n",
    "In overall the limitations of this project are related to the type of descriptive variables involved andthe size of the systems for the modelling. However, these limitations do not stop the project of experimenting with the current dataset and modelling tools available.\n",
    "\n",
    "Firstly, The current descriptive variables may are not able to describe the area of crime for classification. It seems that the features are correlated with the area of crime in LA but not all them are significantly for a classification task. For example the hours during the crime was issued is time variable that has an extra level of complexity and this can have effect on the modelling process. Additionally, LAPD should collect more informative features about the 21 areas.\n",
    "\n",
    "Despite the size of the data normally provides extra information for a better model, it has also disadvantages. One of them, is that processing large dataset requires time and  operation resources from the system to run a variety of possible tunning combinations. For the scope of this project, this is a limitation using a local computer for modelling.\n",
    "\n",
    "Finally, it is not clear limitation but multinomial target have an extra level of complexity in the model evaluation section. This is because, they do not offer many visualizations to understand the results of the metric and possible plots required a high level of programming proficiency."
   ]
  },
  {
   "cell_type": "markdown",
   "id": "71f0107f",
   "metadata": {},
   "source": [
    "## Summary & Conclusions  <a id='sic'></a>\n",
    "### Project Summary  <a id='ps'></a>\n",
    "\n",
    "In summary, Los Angeles Police Department criminal records is a dataset with more than 600,000 observations from 2020. This is a vast dataset that contains over 21 descriptive features describing each of the  crime incidents in the city from 2020. One of the goals of the Police Department is to guarantee citizen safety. Hence, it important to work on technology tools able to predict where a crime incidents across the city. For this reason, the scope of this project was focused on the research and experiment of machine learning models. This is because, a ML model is able to classify or predict target variable, in this case, an area that is in risk of a crime. \n",
    "\n",
    "This project was concluded in two phases, the first phase contributed to understand the characteristics of the data collected.  The second phase experimented with a range of machine learning algorithm to propose a the fittest model with the current data. This summary will describe the general points of both phases.\n",
    "\n",
    "First, Phase 1 prepared the data to be processed in ML models and it also described variables and values of the LAPD database. Initially, the data was cleaned of noisy values and tidied by removing missing values and renaming incorrect values. Then, descriptive tools were applied to identify important findings related with area descriptions and  victims demographic in the 21 areas of Los Angeles. For instance, There are areas where female population is more affected than male population. Another evidence exposed by the data explains that the area 1 of Los Angeles has a high frequency of crimes compared to the other 20 areas. From this type of analysis, the project were able to continue to next phase where all this data was processed into different machine learning models.\n",
    "\n",
    "Secondly, Phase 2 experimented with different algorithms including Neural Network  to determine which one fits better with the current variables. The sample data was split into training and testing following the ML procedures. After that, 4 different algorithms were tunned with their possible characteristics. This is because, tunning the algorithm improves the model to try to get the fittest model with the current knowledge and data. Finally, the 4 models were compared to identify which one performs better. For instance, the information-based algorithms worked better than other algorithm paradigms for this specific data. As a conclusion of this phase, one model performed better but it requires further development in order to be able to determine the area of crime for LAPD.\n"
   ]
  },
  {
   "cell_type": "markdown",
   "id": "4ebe4c65",
   "metadata": {},
   "source": [
    "### Findings  <a id='fffff'></a>\n",
    "\n",
    "This project generates a variety of results regarding the type of data used and the possible machine learning methods that can be applied. This a summary of this findings :\n",
    "\n",
    "* The data collected form the LAPD contains information about the type of crime and victim demography. This is include, the areas where the crime was issued. However, this project present that there are areas more affected than others among the 21 divided areas of LA.\n",
    "\n",
    "* Continuing with the data description, the mean of age fluctuates between 35 and 45 and there are areas where male population is less affected than female population.\n",
    "\n",
    "* As a result of selecting the best features, there are two important findings to consider. Firstly, in the case of F-score selection method, seems that a larger number of P will provide a better performance compare to low number of features. Secondly, in the mutual information method, the results appeared to be coherent from one change of p to the other. However, it does not share the same ranking of features.\n",
    "\n",
    "* In terms of the machine learning research, the three models were tested to create a predictive model for the LAPD. The decision tree algorithm has high accuracy and f-score which means it can capture data and predict the area of crime properly. The Naive Bayes model is not viable to use for predictions due to its insignificant F-score, accuracy score and mAP. Finally,  Although F-score of the KNN model is lower compared to previous models, the average accuracy of the model is close to 20% which is better than models based on information algorithms.\n",
    "\n",
    "* In addition to the previous findings, the Neural Network algorithm is another algorithm that was tested to create a predictive model for the LAPD. The Neural Network algorithm tries to simulate neural work from humans and applies it to predictive models. However, the NN algorithm seems to have an accuracy score of 0.36 which is lower than the decision tree but higher than the other models.\n",
    "\n",
    "* It is possible that the perfomance of the models woudl be better, if there more variable that describe the area of crim. For example, LAPD can collect information about industries in the area, type of communities, population size in between others. This type of variable can feed the models with more information about the area where the crime happened to predict future incidents."
   ]
  },
  {
   "cell_type": "markdown",
   "id": "503348f7",
   "metadata": {},
   "source": [
    "### Conslusion  <a id='c'></a>\n",
    "LAPD requires a Machine Learning model that can use feature variables of time, space and descriptive variables to forecast areas that are more vulnerable to crime occurrences. The decision tree algorithm has high accuracy and f-score which means it can capture data and predict the area of crime properly. The Naive Bayes, KNN and NN are model with a low performance but they could improve if the quality of the variable improve by adding descriptive features related to the area of crime. However, approach is beneficial for the LAPD to reduce the level of crimes and guarantee the safety within the community of Los Angeles by knowing where to assign police force in the different areas of the city."
   ]
  },
  {
   "cell_type": "markdown",
   "id": "66bf2836",
   "metadata": {},
   "source": [
    "## References  <a id='r'></a>\n",
    "\n",
    "• Z. M. Wawrzyniak et al., \"Data-driven models in machine learning for crime prediction,\" 2018 26th International Conference on Systems Engineering (ICSEng), Sydney, NSW, Australia, 2018, pp. 1-8, doi: 10.1109/ICSENG.2018.8638230.\n",
    "\n",
    "• M. Raja Suguna, R. Beaulah Jeyavathana, and K. V. Kanimozhi (2022). Comparative analysis of crime predictions using machine learning algorithms with geospatial features\", AIP Conference Proceedings 2393, 020004\n",
    "\n",
    "• O. Llaha, \"Crime Analysis and Prediction using Machine Learning,\" 2020 43rd International Convention on Information, Communication and Electronic Technology (MIPRO), Opatija, Croatia, 2020, pp. 496-501\n",
    "\n",
    "• Bshayer S. Aldossari, Futun M. Alqahtani, Noura S. Alshahrani, Manar M. Alhammam, Razan M. Alzamanan, Nida Aslam, and Irfanullah. 2020. A Comparative Study of Decision Tree and Naive Bayes Machine Learning Model for Crime Category Prediction in Chicago. In Proceedings of 2020 the 6th International Conference on Computing and Data Engineering (ICCDE 2020). Association for Computing Machinery, New York, NY, USA, 34–38.\n",
    "\n",
    "• Xu Zhang, Lin Liu, Minxuan Lan, Guangwen Song, Luzi Xiao, Jianguo Chen (2022). Interpretable machine learning models for crime prediction, Computers, Environment and Urban Systems, Volume 94,2022,101789, ISSN 0198-9715\n",
    "\n",
    "• Jenga, K., Catal, C. & Kar, G(2023). Machine learning in crime prediction. J Ambient Intell Human Comput 14, 2887–2913 (2023).\n",
    "\n",
    "• Shah, N., Nandish, B., & Manan, S. (2021). Crime forecasting: a machine learning and computer vision approach to crime prediction and prevention. Visual Computing for Industry Biomedicine, and Art, 4(1)\n",
    "\n",
    "• S. S. Kshatri, D. Singh, B. Narain, S. Bhatia, M. T. Quasim and G. R. Sinha. (2021), \"An Empirical Analysis of Machine Learning Algorithms for Crime Prediction Using Stacked Generalization: An Ensemble Approach,\" in IEEE Access, vol. 9, pp. 67488-67500, 2021\n",
    "\n",
    "• Ahishakiye, Emmanuel & Opiyo, Elisha & Wario, Ruth & Niyonzima, Ivan. (2017). A Performance Analysis of Business Intelligence Techniques on Crime Prediction. International Journal of Computer and Information Technology. 06. 84 - 90.\n",
    "\n",
    "• Kumari, Pratibha & Gahalot, Akanksha & Uprant, & Dhiman, Suraina & Chouhan, Lokesh. (2020). Crime Prediction and Analysis. 1-6. 10.1109/IDEA49133.2020.9170731.\n",
    "\n",
    "• Kiani, R., Mahdavi, S., & Keshavarzi, A. (2015). Analysis and Prediction of Crimes by Clustering and Classification. International Journal of Advanced Research in Artificial Intelligence, 4(8).\n",
    "\n",
    "• Khan, M., Ali, A., & Alharbi, Y. (2022). Predicting and Preventing Crime: A Crime Prediction Model Using San Francisco Crime Data by Classification Techniques. Complexity (New York, N.Y.), 2022, 1–13.\n",
    "\n",
    "• Jangra M, Kalsi S (2019) Crime analysis for multistate network using naïve Bayes classifier. Int J Comput Sci Mob Comput 8(6):134–143"
   ]
  }
 ],
 "metadata": {
  "kernelspec": {
   "display_name": "Python 3 (ipykernel)",
   "language": "python",
   "name": "python3"
  },
  "language_info": {
   "codemirror_mode": {
    "name": "ipython",
    "version": 3
   },
   "file_extension": ".py",
   "mimetype": "text/x-python",
   "name": "python",
   "nbconvert_exporter": "python",
   "pygments_lexer": "ipython3",
   "version": "3.9.7"
  },
  "varInspector": {
   "cols": {
    "lenName": 16,
    "lenType": 16,
    "lenVar": 40
   },
   "kernels_config": {
    "python": {
     "delete_cmd_postfix": "",
     "delete_cmd_prefix": "del ",
     "library": "var_list.py",
     "varRefreshCmd": "print(var_dic_list())"
    },
    "r": {
     "delete_cmd_postfix": ") ",
     "delete_cmd_prefix": "rm(",
     "library": "var_list.r",
     "varRefreshCmd": "cat(var_dic_list()) "
    }
   },
   "types_to_exclude": [
    "module",
    "function",
    "builtin_function_or_method",
    "instance",
    "_Feature"
   ],
   "window_display": false
  }
 },
 "nbformat": 4,
 "nbformat_minor": 5
}
