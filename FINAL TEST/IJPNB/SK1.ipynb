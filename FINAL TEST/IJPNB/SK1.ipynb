{
 "cells": [
  {
   "cell_type": "markdown",
   "metadata": {},
   "source": [
    "# SK Part 1: Basic Modeling"
   ]
  },
  {
   "cell_type": "markdown",
   "metadata": {},
   "source": [
    "This tutorial's topic is basic model fitting using a train-test-split approach (also known as \"hold-out sampling\").\n",
    "\n",
    "## Learning Objectives\n",
    "\n",
    "- Illustrate three examples of supervised machine learning: \n",
    "    - Binary classification\n",
    "    - Regression\n",
    "    - Multinomial (a.k.a. multiclass) classification (as an exercise with solutions provided)\n",
    "- Split the data into a training set and a test set\n",
    "- Fit and evaluate a nearest neighbor model\n",
    "- Fit and evaluate a decision-tree model\n",
    "- Fit and evaluate a Gaussian Naive Bayes model"
   ]
  },
  {
   "cell_type": "markdown",
   "metadata": {},
   "source": [
    "## Table of Contents\n",
    "\n",
    "* [Supervised Learning Tasks](#1)\n",
    "  - [Three Common Types of Supervised Learning Tasks](#1.1)\n",
    "  - [Other Types of Supervised Learning Tasks](#1.2)\n",
    "  - [Overview of Examples](#1.3)\n",
    "* [Binary Classification Example: Breast Cancer Wisconsin Data](#2)\n",
    "  - [Preparing Data for Modeling](#2.4)\n",
    "  - [Splitting Data into Training and Test Sets](#2.5)\n",
    "  - [Fitting a Nearest Neighbor Classifier](#2.6)\n",
    "  - [Fitting a Decision Tree Classifier](#2.7)\n",
    "  - [Fitting a Gaussian Naive Bayes Classifier](#2.8)\n",
    "* [Regression Example: Boston Housing Data](#3)\n",
    "  - [Reading and Splitting Data](#3.1)\n",
    "  - [Fitting and Evaluating a Regressor](#3.2)\n",
    "* [Exercises](#4)\n",
    "  - [Problems](#4.1)  \n",
    "  - [Possible Solutions](#4.2)"
   ]
  },
  {
   "cell_type": "markdown",
   "metadata": {},
   "source": [
    "## Supervised Learning Tasks <a class=\"anchor\" id=\"1\"></a>\n",
    "\n",
    "In line with our textbook's notation, supervised learning is a machine learning task which uses a set of descriptive features $D$ to predict a target feature $t$. Note that `Scikit-Learn` documentation and many machine learning books use $X$ and $y$ to denote input dataset and target feature respectively."
   ]
  },
  {
   "cell_type": "markdown",
   "metadata": {},
   "source": [
    "### Three Common Types of Supervised Learning Tasks <a class=\"anchor\" id=\"1.1\"></a>\n",
    "\n",
    "The three common types of target feature $t$ are as follows:\n",
    "\n",
    "1. **Continuous targets**. For example, house prices; loan amounts.\n",
    "2. **Binary targets**. For instance, whether a patient has Type 2 diabetes or not; whether a loan will default or not.\n",
    "3. **Multinomial (a.k.a. multiclass) targets**. For example, five-level Likert items such as \"very poor\", \"poor\", \"average\", \"good\" and \"very good\".\n",
    "\n",
    "Let's get familiar with some terminology. When the target feature is continuous, we coin it as a \"regression problem\". The predictive model is then called a \"regressor\". If the target feature is binary or multinomial, we say it is a \"classification problem\". In fact, binary is a special case of multinomial targets (it has only two classes). The model built is called a \"classifier\"."
   ]
  },
  {
   "cell_type": "markdown",
   "metadata": {},
   "source": [
    "### Other Types of Supervised Learning Tasks <a class=\"anchor\" id=\"1.2\"></a>\n",
    "\n",
    "Before we proceed further, it is worth to mention other types of target features that we shall not cover:\n",
    "\n",
    "* **Count targets**, such as number of road accidents in Victoria.\n",
    "* **Multilabel targets**. Suppose we conduct a survey asking RMIT students \"why do you love Melbourne\". Possible answers include \"coffee\", \"nice weather\", \"nice food\", or \"friendly people\". The answers to the survey are an example of \"multilabel\" target variables. The labels are not mutually exclusive as the survey participants could select more than one answer, for example (\"coffee\", \"nice weather\"), (\"coffee\"), (\"nice food\", \"friendly people\"), or \"all above\".\n",
    "* **Proportional targets**, which are continuous, but strictly between 0 and 1, or equivalently between 0% and 100%. For example, loan default probability, or probability of a customer buying a certain product."
   ]
  },
  {
   "cell_type": "markdown",
   "metadata": {},
   "source": [
    "### Overview of Examples <a class=\"anchor\" id=\"1.3\"></a>\n",
    "\n",
    "To reiterate, we shall focus on continuous, binary, and multinomial targets in this and upcoming tutorials using the sample datasets below:\n",
    "\n",
    "1. [Breast Cancer Wisconsin Data](https://archive.ics.uci.edu/ml/datasets/Breast+Cancer+Wisconsin+%28Diagnostic%29). The target feature is binary, i.e., if a cancer diagnosis is \"malignant\" or \"benign\".\n",
    "2. [Boston Housing Data](https://archive.ics.uci.edu/ml/machine-learning-databases/housing/). The target feature is continuous, which is the house prices in Boston in 1970's.\n",
    "3. [Wine Data](https://archive.ics.uci.edu/ml/machine-learning-databases/wine/wine.data). The target feature is multinomial. It consists of three classes of wines in a particular region in Italy.\n",
    "\n",
    "These datasets can be loaded from `sklearn`. Let's go through Breast Cancer Data and Boston Housing Data. We shall leave Wine Data as an exercise (with possible solutions)."
   ]
  },
  {
   "cell_type": "markdown",
   "metadata": {},
   "source": [
    "## Binary Classification Example: Breast Cancer Wisconsin Data <a class=\"anchor\" id=\"2\"></a>\n",
    "\n",
    "This dataset contains 569 observations and has 30 input features. The target feature has two classes: 212 \"malignant\" (M) and 357 \"benign\" (B). "
   ]
  },
  {
   "cell_type": "markdown",
   "metadata": {},
   "source": [
    "### Preparing Data for Modeling <a class=\"anchor\" id=\"2.4\"></a>\n",
    "\n",
    "We first load the data from `sklearn` as follows."
   ]
  },
  {
   "cell_type": "code",
   "execution_count": 1,
   "metadata": {},
   "outputs": [],
   "source": [
    "import warnings\n",
    "warnings.filterwarnings(\"ignore\")\n",
    "\n",
    "import pandas as pd\n",
    "import numpy as np\n",
    "from sklearn.datasets import load_breast_cancer\n",
    "from sklearn import preprocessing\n",
    "\n",
    "df = load_breast_cancer()\n",
    "\n",
    "Data, target = df.data, df.target"
   ]
  },
  {
   "cell_type": "markdown",
   "metadata": {},
   "source": [
    "Let's scale each descriptive feature to be between 0 and 1 before fitting any classifiers."
   ]
  },
  {
   "cell_type": "code",
   "execution_count": 2,
   "metadata": {},
   "outputs": [],
   "source": [
    "Data = preprocessing.MinMaxScaler().fit_transform(Data)"
   ]
  },
  {
   "cell_type": "markdown",
   "metadata": {},
   "source": [
    "The target feature is already encoded. Let's check."
   ]
  },
  {
   "cell_type": "code",
   "execution_count": 3,
   "metadata": {},
   "outputs": [
    {
     "data": {
      "text/plain": [
       "(array([0, 1]), array([212, 357], dtype=int64))"
      ]
     },
     "execution_count": 3,
     "metadata": {},
     "output_type": "execute_result"
    }
   ],
   "source": [
    "np.unique(target, return_counts = True)"
   ]
  },
  {
   "cell_type": "markdown",
   "metadata": {},
   "source": [
    "However, we would like \"malignant\" to be the positive class (1) and \"benign\" to be the negative class (0). So we use the \"where\" function as below to reverse the labels."
   ]
  },
  {
   "cell_type": "code",
   "execution_count": 4,
   "metadata": {},
   "outputs": [],
   "source": [
    "target = np.where(target==0, 1, 0)"
   ]
  },
  {
   "cell_type": "markdown",
   "metadata": {},
   "source": [
    "Let's check to make sure the labels are now reversed."
   ]
  },
  {
   "cell_type": "code",
   "execution_count": 5,
   "metadata": {},
   "outputs": [
    {
     "data": {
      "text/plain": [
       "(array([0, 1]), array([357, 212], dtype=int64))"
      ]
     },
     "execution_count": 5,
     "metadata": {},
     "output_type": "execute_result"
    }
   ],
   "source": [
    "np.unique(target, return_counts = True)"
   ]
  },
  {
   "cell_type": "markdown",
   "metadata": {},
   "source": [
    "### Spliting Data into Training and Test Sets <a class=\"anchor\" id=\"2.5\"></a>\n",
    "\n",
    "We split the descriptive features and the target feature into a training set and a test set by a ratio of 70:30. That is, we use 70 % of the data to build a classifier and evaluate its performance on the test set. \n",
    "\n",
    "To split data, we use `train_test_split` function from `sklearn`.\n",
    "\n",
    "In a classification problem, we might have an uneven proportion of classes. In the breast cancer example, the target has 212 \"M\" and 357 \"B\" classes. Therefore, when splitting the data into training and test sets, it is possible that the class proportions in these split sets might be different from the original one. So, in order to ensure the proportion is not deviating from the ratio of 212/357 when splitting the data, we set the `stratify` option in `train_test_split` function to the `target` array.\n",
    "\n",
    "Furthermore, in order to be able to replicate our analysis later on, we set the `random_state` option to 999.\n",
    "\n",
    "Finally, in order to ensure the data is split randomly, we set the `shuffle` option to \"True\" (which, by the way, is \"True\" by default)."
   ]
  },
  {
   "cell_type": "code",
   "execution_count": 6,
   "metadata": {},
   "outputs": [],
   "source": [
    "from sklearn.model_selection import train_test_split\n",
    "\n",
    "# The \"\\\" character below allows us to split the line across multiple lines\n",
    "D_train, D_test, t_train, t_test = \\\n",
    "    train_test_split(Data, target, test_size = 0.3, \n",
    "                     stratify=target, shuffle=True, random_state=999)"
   ]
  },
  {
   "cell_type": "markdown",
   "metadata": {},
   "source": [
    "### Fitting a Nearest Neighbor Classifier <a class=\"anchor\" id=\"2.6\"></a>"
   ]
  },
  {
   "cell_type": "markdown",
   "metadata": {},
   "source": [
    "Let's try a nearest neighbor classifier with 2 neighbors using the Euclidean distance."
   ]
  },
  {
   "cell_type": "code",
   "execution_count": 7,
   "metadata": {},
   "outputs": [],
   "source": [
    "from sklearn.neighbors import KNeighborsClassifier\n",
    "\n",
    "knn_classifier = KNeighborsClassifier(n_neighbors=2, p=2)"
   ]
  },
  {
   "cell_type": "markdown",
   "metadata": {},
   "source": [
    "We can now go ahead and fit the classifier on the train data and evaluate its performance on the test data. Let's first fit the nearest neighbor classifier on the training set. "
   ]
  },
  {
   "cell_type": "code",
   "execution_count": 8,
   "metadata": {},
   "outputs": [],
   "source": [
    "# we put a \";\" at the end to supress the line's output\n",
    "knn_classifier.fit(D_train, t_train);"
   ]
  },
  {
   "cell_type": "markdown",
   "metadata": {},
   "source": [
    "Done! We have created a nearest neighbor classifier. We shall use accuracy to evaluate this classifer using the test set. The accuracy metric is defined as:\n",
    "\n",
    "$$\\text{Accuracy} = \\frac{\\text{Number of correct predicted labels}}{\\text{Number of total observations}}$$"
   ]
  },
  {
   "cell_type": "markdown",
   "metadata": {},
   "source": [
    "In order to evaluate the performance of our classifier on the test data, we use the `score` method and set `X = D_test` and `y = t_test`."
   ]
  },
  {
   "cell_type": "code",
   "execution_count": 9,
   "metadata": {},
   "outputs": [
    {
     "data": {
      "text/plain": [
       "0.9707602339181286"
      ]
     },
     "execution_count": 9,
     "metadata": {},
     "output_type": "execute_result"
    }
   ],
   "source": [
    "knn_classifier.score(X=D_test, y=t_test)"
   ]
  },
  {
   "cell_type": "markdown",
   "metadata": {},
   "source": [
    "The nearest neighbor classifier scores an accuracy rate of 97\\% in this particular case on the test data. That is impressive."
   ]
  },
  {
   "cell_type": "markdown",
   "metadata": {},
   "source": [
    "### Fitting a Decision Tree Classifier <a class=\"anchor\" id=\"2.7\"></a>\n",
    "\n",
    "Let's say we want to fit a decision tree with a maximum depth of 4 (`max_depth = 4`) using information gain for split criterion (`criterion = 'entropy'`). For reproducibility, we set `random_state = 999`."
   ]
  },
  {
   "cell_type": "code",
   "execution_count": 9,
   "metadata": {},
   "outputs": [],
   "source": [
    "from sklearn.tree import DecisionTreeClassifier\n",
    "\n",
    "dt_classifier = DecisionTreeClassifier(max_depth=4,\n",
    "                                       criterion='entropy',\n",
    "                                       random_state = 999)"
   ]
  },
  {
   "cell_type": "markdown",
   "metadata": {},
   "source": [
    "Now let's fit the decision tree on the training set. "
   ]
  },
  {
   "cell_type": "code",
   "execution_count": 10,
   "metadata": {},
   "outputs": [],
   "source": [
    "dt_classifier.fit(D_train, t_train);"
   ]
  },
  {
   "cell_type": "code",
   "execution_count": 11,
   "metadata": {},
   "outputs": [
    {
     "data": {
      "text/plain": [
       "0.9415204678362573"
      ]
     },
     "execution_count": 11,
     "metadata": {},
     "output_type": "execute_result"
    }
   ],
   "source": [
    "dt_classifier.score(D_test, t_test)"
   ]
  },
  {
   "cell_type": "markdown",
   "metadata": {},
   "source": [
    "The decision tree predicts the correct labels on the test set with an accuracy rate of 94%. However, there are other performance metrics, such as precision, recall, and F1 score, to assess model performance from different angles. We shall revisit model evaluation in tutorial **SK Part 4: Evaluation**."
   ]
  },
  {
   "cell_type": "markdown",
   "metadata": {},
   "source": [
    "### Fitting a Gaussian Naive Bayes Classifier <a class=\"anchor\" id=\"2.8\"></a>"
   ]
  },
  {
   "cell_type": "markdown",
   "metadata": {},
   "source": [
    "One last model we would like to fit to the breast cancer dataset is the Gaussian Naive Bayes classifier with a variance smoothing value of $10^{-3}$."
   ]
  },
  {
   "cell_type": "code",
   "execution_count": 13,
   "metadata": {},
   "outputs": [
    {
     "data": {
      "text/plain": [
       "0.9532163742690059"
      ]
     },
     "execution_count": 13,
     "metadata": {},
     "output_type": "execute_result"
    }
   ],
   "source": [
    "from sklearn.naive_bayes import GaussianNB\n",
    "\n",
    "nb_classifier = GaussianNB(var_smoothing=10**(-3))\n",
    "nb_classifier.fit(D_train, t_train)\n",
    "nb_classifier.score(D_test, t_test)"
   ]
  },
  {
   "cell_type": "markdown",
   "metadata": {},
   "source": [
    "We observe that the accuracy of the Gaussian Naive Bayes and decision tree classifiers are slightly lower compared to that of the nearest neighbor classifier. \n",
    "\n",
    "We would have to perform multiple runs in a cross-validation setting and then conduct a \"paired t-test\" in order to determine if this difference is statistically significant or not. \n",
    "\n",
    "We shall cover this important topic in the **SK Part 5** tutorial."
   ]
  },
  {
   "cell_type": "markdown",
   "metadata": {},
   "source": [
    "## Regression Example: Boston Housing Data <a class=\"anchor\" id=\"3\"></a>\n",
    "\n",
    "### Reading and Spliting Data <a class=\"anchor\" id=\"3.1\"></a>\n",
    "\n",
    "The Boston Housing Data is available within `sklearn` datasets. Let's load the dataset and use 70 % of the data for training and the remaining 30 % for testing. The goal is to build a decision tree regressor to predict median value of owner-occupied homes in thousand dollars (labeled as `MEDV`) in Boston in 1970's. The input data has been cleaned; in particular, `CHAS` (Charles River dummy variable = 1 if tract bounds river; 0 otherwise) is already encoded. To display more information, you can print `housing_df.DESCR`."
   ]
  },
  {
   "cell_type": "code",
   "execution_count": 14,
   "metadata": {},
   "outputs": [
    {
     "name": "stdout",
     "output_type": "stream",
     "text": [
      ".. _boston_dataset:\n",
      "\n",
      "Boston house prices dataset\n",
      "---------------------------\n",
      "\n",
      "**Data Set Characteristics:**  \n",
      "\n",
      "    :Number of Instances: 506 \n",
      "\n",
      "    :Number of Attributes: 13 numeric/categorical predictive. Median Value (attribute 14) is usually the target.\n",
      "\n",
      "    :Attribute Information (in order):\n",
      "        - CRIM     per capita crime rate by town\n",
      "        - ZN       proportion of residential land zoned for lots over 25,000 sq.ft.\n",
      "        - INDUS    proportion of non-retail business acres per town\n",
      "        - CHAS     Charles River dummy variable (= 1 if tract bounds river; 0 otherwise)\n",
      "        - NOX      nitric oxides concentration (parts per 10 million)\n",
      "        - RM       average number of rooms per dwelling\n",
      "        - AGE      proportion of owner-occupied units built prior to 1940\n",
      "        - DIS      weighted distances to five Boston employment centres\n",
      "        - RAD      index of accessibility to radial highways\n",
      "        - TAX      full-value property-tax rate per $10,000\n",
      "        - PTRATIO  pupil-teacher ratio by town\n",
      "        - B        1000(Bk - 0.63)^2 where Bk is the proportion of black people by town\n",
      "        - LSTAT    % lower status of the population\n",
      "        - MEDV     Median value of owner-occupied homes in $1000's\n",
      "\n",
      "    :Missing Attribute Values: None\n",
      "\n",
      "    :Creator: Harrison, D. and Rubinfeld, D.L.\n",
      "\n",
      "This is a copy of UCI ML housing dataset.\n",
      "https://archive.ics.uci.edu/ml/machine-learning-databases/housing/\n",
      "\n",
      "\n",
      "This dataset was taken from the StatLib library which is maintained at Carnegie Mellon University.\n",
      "\n",
      "The Boston house-price data of Harrison, D. and Rubinfeld, D.L. 'Hedonic\n",
      "prices and the demand for clean air', J. Environ. Economics & Management,\n",
      "vol.5, 81-102, 1978.   Used in Belsley, Kuh & Welsch, 'Regression diagnostics\n",
      "...', Wiley, 1980.   N.B. Various transformations are used in the table on\n",
      "pages 244-261 of the latter.\n",
      "\n",
      "The Boston house-price data has been used in many machine learning papers that address regression\n",
      "problems.   \n",
      "     \n",
      ".. topic:: References\n",
      "\n",
      "   - Belsley, Kuh & Welsch, 'Regression diagnostics: Identifying Influential Data and Sources of Collinearity', Wiley, 1980. 244-261.\n",
      "   - Quinlan,R. (1993). Combining Instance-Based and Model-Based Learning. In Proceedings on the Tenth International Conference of Machine Learning, 236-243, University of Massachusetts, Amherst. Morgan Kaufmann.\n",
      "\n"
     ]
    }
   ],
   "source": [
    "from sklearn.datasets import load_boston\n",
    "\n",
    "housing_data = load_boston()\n",
    "print(housing_data.DESCR)"
   ]
  },
  {
   "cell_type": "markdown",
   "metadata": {},
   "source": [
    "The `housing_data` object has two fields: `data` and `target`, both as Numpy arrays. To see the first few rows in the data and the target, we can use array slicing."
   ]
  },
  {
   "cell_type": "code",
   "execution_count": 15,
   "metadata": {},
   "outputs": [
    {
     "data": {
      "text/plain": [
       "array([[6.3200e-03, 1.8000e+01, 2.3100e+00, 0.0000e+00, 5.3800e-01,\n",
       "        6.5750e+00, 6.5200e+01, 4.0900e+00, 1.0000e+00, 2.9600e+02,\n",
       "        1.5300e+01, 3.9690e+02, 4.9800e+00],\n",
       "       [2.7310e-02, 0.0000e+00, 7.0700e+00, 0.0000e+00, 4.6900e-01,\n",
       "        6.4210e+00, 7.8900e+01, 4.9671e+00, 2.0000e+00, 2.4200e+02,\n",
       "        1.7800e+01, 3.9690e+02, 9.1400e+00],\n",
       "       [2.7290e-02, 0.0000e+00, 7.0700e+00, 0.0000e+00, 4.6900e-01,\n",
       "        7.1850e+00, 6.1100e+01, 4.9671e+00, 2.0000e+00, 2.4200e+02,\n",
       "        1.7800e+01, 3.9283e+02, 4.0300e+00]])"
      ]
     },
     "execution_count": 15,
     "metadata": {},
     "output_type": "execute_result"
    }
   ],
   "source": [
    "housing_data.data[:3,]"
   ]
  },
  {
   "cell_type": "code",
   "execution_count": 16,
   "metadata": {},
   "outputs": [
    {
     "data": {
      "text/plain": [
       "array([24. , 21.6, 34.7])"
      ]
     },
     "execution_count": 16,
     "metadata": {},
     "output_type": "execute_result"
    }
   ],
   "source": [
    "housing_data.target[:3,]"
   ]
  },
  {
   "cell_type": "markdown",
   "metadata": {},
   "source": [
    "Let's split both the data and the target into train and test respectively."
   ]
  },
  {
   "cell_type": "code",
   "execution_count": 17,
   "metadata": {},
   "outputs": [],
   "source": [
    "from sklearn.model_selection import train_test_split\n",
    "D_train, D_test, t_train, t_test = \\\n",
    "    train_test_split(housing_data.data, housing_data.target, test_size = 0.3,\n",
    "        shuffle=True, random_state=999)"
   ]
  },
  {
   "cell_type": "markdown",
   "metadata": {},
   "source": [
    "### Fitting and Evaluating a Regressor  <a class=\"anchor\" id=\"3.2\"></a>\n",
    "\n",
    "We create a decision tree regressor object (`DecisionTreeRegressor`) with a maximum depth of 4. Since it is a regression problem, we cannot build the model using accuracy. Instead, we build the regressor based on mean squared error (MSE) performance metric. The MSE is given as:\n",
    "\n",
    "$$\\text{MSE} = \\frac{1}{n} \\sum_{i=1}^{n}(\\hat{t}_{i} - t_{i})^2$$\n",
    "\n",
    "where\n",
    "\n",
    "* $n$ is the total number of observations in the dataset (it can be training or test).\n",
    "* $t_{i}$ is the actual target value for $i^{th}$ instance.\n",
    "* $\\hat{t}_{i}$ is the predicted target value for $i^{th}$ instance.\n",
    "\n",
    "A lower MSE value indicates a smaller difference between predicted and actual values on the average, and thus better prediction performance. "
   ]
  },
  {
   "cell_type": "code",
   "execution_count": 18,
   "metadata": {},
   "outputs": [
    {
     "data": {
      "text/plain": [
       "DecisionTreeRegressor(max_depth=4, random_state=999)"
      ]
     },
     "execution_count": 18,
     "metadata": {},
     "output_type": "execute_result"
    }
   ],
   "source": [
    "from sklearn.tree import DecisionTreeRegressor\n",
    "\n",
    "dt_regressor = DecisionTreeRegressor(max_depth = 4, random_state = 999)\n",
    "dt_regressor.fit(D_train, t_train)"
   ]
  },
  {
   "cell_type": "markdown",
   "metadata": {},
   "source": [
    "To compute MSE, we first need to predict on the test set."
   ]
  },
  {
   "cell_type": "code",
   "execution_count": 19,
   "metadata": {},
   "outputs": [],
   "source": [
    "t_pred = dt_regressor.predict(D_test)"
   ]
  },
  {
   "cell_type": "markdown",
   "metadata": {},
   "source": [
    "Next, we import `mean_squared_error` from `sklearn.metrics` module and compute MSE using the predicted and test target feature values."
   ]
  },
  {
   "cell_type": "code",
   "execution_count": 20,
   "metadata": {},
   "outputs": [
    {
     "data": {
      "text/plain": [
       "19.470852817784955"
      ]
     },
     "execution_count": 20,
     "metadata": {},
     "output_type": "execute_result"
    }
   ],
   "source": [
    "from sklearn.metrics import mean_squared_error\n",
    "\n",
    "mse = mean_squared_error(t_test, t_pred)\n",
    "mse"
   ]
  },
  {
   "cell_type": "markdown",
   "metadata": {},
   "source": [
    "It is more intuitive to examine the root of MSE, which is denoted by RMSE, rather than MSE itself as RMSE is in the same units as the target feature."
   ]
  },
  {
   "cell_type": "code",
   "execution_count": 21,
   "metadata": {},
   "outputs": [
    {
     "data": {
      "text/plain": [
       "4.412578930487811"
      ]
     },
     "execution_count": 21,
     "metadata": {},
     "output_type": "execute_result"
    }
   ],
   "source": [
    "np.sqrt(mse)"
   ]
  },
  {
   "cell_type": "markdown",
   "metadata": {},
   "source": [
    "We observe that our decision tree regressor achieves a RMSE value of 4.4 (thousand dollars) for the Boston housing dataset."
   ]
  },
  {
   "cell_type": "markdown",
   "metadata": {},
   "source": [
    "## Exercises <a class=\"anchor\" id=\"4\"></a>\n",
    "\n",
    "### Problems <a class=\"anchor\" id=\"4.1\"></a>\n",
    "\n",
    "1. On the breast cancer dataset, check if the accuracy score improves when we increase max depth from 4 to 5. **Note**: In upcoming tutorials, we shall demonstrate how to search for the optimal set of parameters such as max depth to improve model accuracy.\n",
    "\n",
    "2. Refresher questions for `Pandas` and `Matplotlib`: \n",
    "    - Read Wine Data dataset by calling `sklearn.datasets import load_wine`.\n",
    "    - Plot a bar chart for target wine classes.\n",
    "    - Calculate means of all numeric variables for each wine class. Are mean values very different among wine classes for some numeric variables?\n",
    "\n",
    "3. Build a decision tree classifier for Wine Data and calculate the accuracy score."
   ]
  },
  {
   "cell_type": "code",
   "execution_count": 20,
   "metadata": {},
   "outputs": [],
   "source": [
    "from sklearn.tree import DecisionTreeClassifier\n",
    "\n",
    "dt_classifier = DecisionTreeClassifier(max_depth=5,\n",
    "                                       criterion='entropy',\n",
    "                                       random_state = 999)"
   ]
  },
  {
   "cell_type": "code",
   "execution_count": 22,
   "metadata": {},
   "outputs": [
    {
     "data": {
      "text/plain": [
       "0.9590643274853801"
      ]
     },
     "execution_count": 22,
     "metadata": {},
     "output_type": "execute_result"
    }
   ],
   "source": [
    "dt_classifier.fit(D_train,t_train)\n",
    "dt_classifier.score(D_test, t_test)"
   ]
  },
  {
   "cell_type": "markdown",
   "metadata": {},
   "source": [
    "Improves accuracy by 1 percent\n"
   ]
  },
  {
   "cell_type": "code",
   "execution_count": 36,
   "metadata": {},
   "outputs": [
    {
     "name": "stdout",
     "output_type": "stream",
     "text": [
      ".. _wine_dataset:\n",
      "\n",
      "Wine recognition dataset\n",
      "------------------------\n",
      "\n",
      "**Data Set Characteristics:**\n",
      "\n",
      "    :Number of Instances: 178 (50 in each of three classes)\n",
      "    :Number of Attributes: 13 numeric, predictive attributes and the class\n",
      "    :Attribute Information:\n",
      " \t\t- Alcohol\n",
      " \t\t- Malic acid\n",
      " \t\t- Ash\n",
      "\t\t- Alcalinity of ash  \n",
      " \t\t- Magnesium\n",
      "\t\t- Total phenols\n",
      " \t\t- Flavanoids\n",
      " \t\t- Nonflavanoid phenols\n",
      " \t\t- Proanthocyanins\n",
      "\t\t- Color intensity\n",
      " \t\t- Hue\n",
      " \t\t- OD280/OD315 of diluted wines\n",
      " \t\t- Proline\n",
      "\n",
      "    - class:\n",
      "            - class_0\n",
      "            - class_1\n",
      "            - class_2\n",
      "\t\t\n",
      "    :Summary Statistics:\n",
      "    \n",
      "    ============================= ==== ===== ======= =====\n",
      "                                   Min   Max   Mean     SD\n",
      "    ============================= ==== ===== ======= =====\n",
      "    Alcohol:                      11.0  14.8    13.0   0.8\n",
      "    Malic Acid:                   0.74  5.80    2.34  1.12\n",
      "    Ash:                          1.36  3.23    2.36  0.27\n",
      "    Alcalinity of Ash:            10.6  30.0    19.5   3.3\n",
      "    Magnesium:                    70.0 162.0    99.7  14.3\n",
      "    Total Phenols:                0.98  3.88    2.29  0.63\n",
      "    Flavanoids:                   0.34  5.08    2.03  1.00\n",
      "    Nonflavanoid Phenols:         0.13  0.66    0.36  0.12\n",
      "    Proanthocyanins:              0.41  3.58    1.59  0.57\n",
      "    Colour Intensity:              1.3  13.0     5.1   2.3\n",
      "    Hue:                          0.48  1.71    0.96  0.23\n",
      "    OD280/OD315 of diluted wines: 1.27  4.00    2.61  0.71\n",
      "    Proline:                       278  1680     746   315\n",
      "    ============================= ==== ===== ======= =====\n",
      "\n",
      "    :Missing Attribute Values: None\n",
      "    :Class Distribution: class_0 (59), class_1 (71), class_2 (48)\n",
      "    :Creator: R.A. Fisher\n",
      "    :Donor: Michael Marshall (MARSHALL%PLU@io.arc.nasa.gov)\n",
      "    :Date: July, 1988\n",
      "\n",
      "This is a copy of UCI ML Wine recognition datasets.\n",
      "https://archive.ics.uci.edu/ml/machine-learning-databases/wine/wine.data\n",
      "\n",
      "The data is the results of a chemical analysis of wines grown in the same\n",
      "region in Italy by three different cultivators. There are thirteen different\n",
      "measurements taken for different constituents found in the three types of\n",
      "wine.\n",
      "\n",
      "Original Owners: \n",
      "\n",
      "Forina, M. et al, PARVUS - \n",
      "An Extendible Package for Data Exploration, Classification and Correlation. \n",
      "Institute of Pharmaceutical and Food Analysis and Technologies,\n",
      "Via Brigata Salerno, 16147 Genoa, Italy.\n",
      "\n",
      "Citation:\n",
      "\n",
      "Lichman, M. (2013). UCI Machine Learning Repository\n",
      "[https://archive.ics.uci.edu/ml]. Irvine, CA: University of California,\n",
      "School of Information and Computer Science. \n",
      "\n",
      ".. topic:: References\n",
      "\n",
      "  (1) S. Aeberhard, D. Coomans and O. de Vel, \n",
      "  Comparison of Classifiers in High Dimensional Settings, \n",
      "  Tech. Rep. no. 92-02, (1992), Dept. of Computer Science and Dept. of  \n",
      "  Mathematics and Statistics, James Cook University of North Queensland. \n",
      "  (Also submitted to Technometrics). \n",
      "\n",
      "  The data was used with many others for comparing various \n",
      "  classifiers. The classes are separable, though only RDA \n",
      "  has achieved 100% correct classification. \n",
      "  (RDA : 100%, QDA 99.4%, LDA 98.9%, 1NN 96.1% (z-transformed data)) \n",
      "  (All results using the leave-one-out technique) \n",
      "\n",
      "  (2) S. Aeberhard, D. Coomans and O. de Vel, \n",
      "  \"THE CLASSIFICATION PERFORMANCE OF RDA\" \n",
      "  Tech. Rep. no. 92-01, (1992), Dept. of Computer Science and Dept. of \n",
      "  Mathematics and Statistics, James Cook University of North Queensland. \n",
      "  (Also submitted to Journal of Chemometrics).\n",
      "\n"
     ]
    }
   ],
   "source": [
    "from sklearn.datasets import load_wine\n",
    "import matplotlib.pyplot as plt\n",
    "\n",
    "\n",
    "wine_dt = load_wine()\n",
    "wine_dt.data\n",
    "print(wine_dt.DESCR)"
   ]
  },
  {
   "cell_type": "markdown",
   "metadata": {},
   "source": [
    "###  Possible Solutions <a class=\"anchor\" id=\"4.2\"></a>\n",
    "\n",
    "**Problem 1**\n",
    "```\n",
    "# Load and split the data using stratification\n",
    "\n",
    "import numpy as np\n",
    "from sklearn.datasets import load_breast_cancer\n",
    "from sklearn.model_selection import train_test_split\n",
    "from sklearn.tree import DecisionTreeClassifier\n",
    "cancer_df = load_breast_cancer()\n",
    "Data, target = cancer_df.data, cancer_df.target\n",
    "\n",
    "D_train, D_test, t_train, t_test = \\\n",
    "    train_test_split(Data, target, \n",
    "        test_size = 0.3, stratify = target)\n",
    "\n",
    "# Calculate the counts for each label in test and training sets\n",
    "test_counts  = np.unique(t_test, return_counts = True)\n",
    "train_counts = np.unique(t_train, return_counts = True)\n",
    "\n",
    "print('The class proportions in test set are ' + \n",
    "    str(test_counts[1]/sum(test_counts[1])))\n",
    "print('The class proportions in test set are ' + \n",
    "    str(train_counts[1]/sum(train_counts[1])))\n",
    "\n",
    "decision_tree1 = DecisionTreeClassifier(max_depth = 4,\n",
    "                                        criterion = 'entropy',\n",
    "                                        random_state = 999)\n",
    "decision_tree2 = DecisionTreeClassifier(max_depth = 5,\n",
    "                                        criterion = 'entropy',\n",
    "                                        random_state = 999)\n",
    "decision_tree1.fit(D_train, t_train)\n",
    "decision_tree2.fit(D_train, t_train)\n",
    "\n",
    "print(decision_tree1.score(X = D_test, y = t_test))\n",
    "print(decision_tree2.score(X = D_test, y = t_test))\n",
    "```"
   ]
  },
  {
   "cell_type": "code",
   "execution_count": 38,
   "metadata": {},
   "outputs": [
    {
     "name": "stdout",
     "output_type": "stream",
     "text": [
      "The class proportions in test set are [0.37426901 0.62573099]\n",
      "The class proportions in test set are [0.3718593 0.6281407]\n",
      "0.9298245614035088\n",
      "0.9298245614035088\n"
     ]
    }
   ],
   "source": [
    "# Load and split the data using stratification\n",
    "\n",
    "import numpy as np\n",
    "from sklearn.datasets import load_breast_cancer\n",
    "from sklearn.model_selection import train_test_split\n",
    "from sklearn.tree import DecisionTreeClassifier\n",
    "cancer_df = load_breast_cancer()\n",
    "Data, target = cancer_df.data, cancer_df.target\n",
    "\n",
    "D_train, D_test, t_train, t_test = \\\n",
    "    train_test_split(Data, target, \n",
    "        test_size = 0.3, stratify = target)\n",
    "\n",
    "# Calculate the counts for each label in test and training sets\n",
    "test_counts  = np.unique(t_test, return_counts = True)\n",
    "train_counts = np.unique(t_train, return_counts = True)\n",
    "\n",
    "print('The class proportions in test set are ' + \n",
    "    str(test_counts[1]/sum(test_counts[1])))\n",
    "print('The class proportions in test set are ' + \n",
    "    str(train_counts[1]/sum(train_counts[1])))\n",
    "\n",
    "decision_tree1 = DecisionTreeClassifier(max_depth = 4,\n",
    "                                        criterion = 'entropy',\n",
    "                                        random_state = 999)\n",
    "decision_tree2 = DecisionTreeClassifier(max_depth = 5,\n",
    "                                        criterion = 'entropy',\n",
    "                                        random_state = 999)\n",
    "decision_tree1.fit(D_train, t_train)\n",
    "decision_tree2.fit(D_train, t_train)\n",
    "\n",
    "print(decision_tree1.score(X = D_test, y = t_test))\n",
    "print(decision_tree2.score(X = D_test, y = t_test))"
   ]
  },
  {
   "cell_type": "markdown",
   "metadata": {},
   "source": [
    "**Problems 2 and 3**\n",
    "```\n",
    "import numpy as np\n",
    "from sklearn.datasets import load_wine\n",
    "from sklearn.model_selection import train_test_split\n",
    "from sklearn.tree import DecisionTreeClassifier\n",
    "\n",
    "wine = load_wine()\n",
    "\n",
    "Data, target = wine.data, wine.target\n",
    "print(np.unique(wine.target, return_counts = True))\n",
    "\n",
    "# prepare for plotting\n",
    "import matplotlib.pyplot as plt\n",
    "%matplotlib inline \n",
    "%config InlineBackend.figure_format = 'retina'\n",
    "plt.style.use(\"ggplot\")\n",
    "\n",
    "# Draw the bar chart\n",
    "target_counts = np.unique(target, return_counts = True)\n",
    "plt.bar(target_counts[0], target_counts[1])\n",
    "plt.xlabel('Wine type')\n",
    "plt.ylabel('Counts')\n",
    "plt.show();\n",
    "\n",
    "# Get means of all numeric variables for each target\n",
    "import pandas as pd\n",
    "all_data = pd.DataFrame(wine.data)\n",
    "all_data['target'] = target\n",
    "pd.pivot_table(all_data, index=\"target\", aggfunc = np.mean)\n",
    "\n",
    "# Build and visualise the model.\n",
    "D_train, D_test, t_train, t_test = \\\n",
    "    train_test_split(Data, target, test_size = 0.3, stratify = target)\n",
    "\n",
    "decision_tree = DecisionTreeClassifier(max_depth = 4,\n",
    "                                       criterion = 'entropy',\n",
    "                                       random_state = 999)\n",
    "decision_tree.fit(D_train, t_train)\n",
    "print(decision_tree.score(X = D_test, y = t_test))\n",
    "```"
   ]
  },
  {
   "cell_type": "code",
   "execution_count": 41,
   "metadata": {
    "scrolled": true
   },
   "outputs": [
    {
     "name": "stdout",
     "output_type": "stream",
     "text": [
      "[0 0 0 0 0 0 0 0 0 0 0 0 0 0 0 0 0 0 0 0 0 0 0 0 0 0 0 0 0 0 0 0 0 0 0 0 0\n",
      " 0 0 0 0 0 0 0 0 0 0 0 0 0 0 0 0 0 0 0 0 0 0 1 1 1 1 1 1 1 1 1 1 1 1 1 1 1\n",
      " 1 1 1 1 1 1 1 1 1 1 1 1 1 1 1 1 1 1 1 1 1 1 1 1 1 1 1 1 1 1 1 1 1 1 1 1 1\n",
      " 1 1 1 1 1 1 1 1 1 1 1 1 1 1 1 1 1 1 1 2 2 2 2 2 2 2 2 2 2 2 2 2 2 2 2 2 2\n",
      " 2 2 2 2 2 2 2 2 2 2 2 2 2 2 2 2 2 2 2 2 2 2 2 2 2 2 2 2 2 2]\n"
     ]
    },
    {
     "data": {
      "image/png": "[encoded data removed]",
      "text/plain": [
       "<Figure size 432x288 with 1 Axes>"
      ]
     },
     "metadata": {
      "needs_background": "light"
     },
     "output_type": "display_data"
    }
   ],
   "source": [
    "print(wine_dt.target)\n",
    "target = wine_dt.target\n",
    "target_counts = np.unique(target, return_counts = True)\n",
    "\n",
    "plt.bar(target_counts[0], target_counts[1])\n",
    "plt.xlabel('Wine type')\n",
    "plt.ylabel('Counts')\n",
    "plt.show();"
   ]
  },
  {
   "cell_type": "code",
   "execution_count": 42,
   "metadata": {
    "scrolled": true
   },
   "outputs": [
    {
     "data": {
      "text/html": [
       "<div>\n",
       "<style scoped>\n",
       "    .dataframe tbody tr th:only-of-type {\n",
       "        vertical-align: middle;\n",
       "    }\n",
       "\n",
       "    .dataframe tbody tr th {\n",
       "        vertical-align: top;\n",
       "    }\n",
       "\n",
       "    .dataframe thead th {\n",
       "        text-align: right;\n",
       "    }\n",
       "</style>\n",
       "<table border=\"1\" class=\"dataframe\">\n",
       "  <thead>\n",
       "    <tr style=\"text-align: right;\">\n",
       "      <th></th>\n",
       "      <th>0</th>\n",
       "      <th>1</th>\n",
       "      <th>2</th>\n",
       "      <th>3</th>\n",
       "      <th>4</th>\n",
       "      <th>5</th>\n",
       "      <th>6</th>\n",
       "      <th>7</th>\n",
       "      <th>8</th>\n",
       "      <th>9</th>\n",
       "      <th>10</th>\n",
       "      <th>11</th>\n",
       "      <th>12</th>\n",
       "    </tr>\n",
       "    <tr>\n",
       "      <th>target</th>\n",
       "      <th></th>\n",
       "      <th></th>\n",
       "      <th></th>\n",
       "      <th></th>\n",
       "      <th></th>\n",
       "      <th></th>\n",
       "      <th></th>\n",
       "      <th></th>\n",
       "      <th></th>\n",
       "      <th></th>\n",
       "      <th></th>\n",
       "      <th></th>\n",
       "      <th></th>\n",
       "    </tr>\n",
       "  </thead>\n",
       "  <tbody>\n",
       "    <tr>\n",
       "      <th>0</th>\n",
       "      <td>13.744746</td>\n",
       "      <td>2.010678</td>\n",
       "      <td>2.455593</td>\n",
       "      <td>17.037288</td>\n",
       "      <td>106.338983</td>\n",
       "      <td>2.840169</td>\n",
       "      <td>2.982373</td>\n",
       "      <td>0.290000</td>\n",
       "      <td>1.899322</td>\n",
       "      <td>5.528305</td>\n",
       "      <td>1.062034</td>\n",
       "      <td>3.157797</td>\n",
       "      <td>1115.711864</td>\n",
       "    </tr>\n",
       "    <tr>\n",
       "      <th>1</th>\n",
       "      <td>12.278732</td>\n",
       "      <td>1.932676</td>\n",
       "      <td>2.244789</td>\n",
       "      <td>20.238028</td>\n",
       "      <td>94.549296</td>\n",
       "      <td>2.258873</td>\n",
       "      <td>2.080845</td>\n",
       "      <td>0.363662</td>\n",
       "      <td>1.630282</td>\n",
       "      <td>3.086620</td>\n",
       "      <td>1.056282</td>\n",
       "      <td>2.785352</td>\n",
       "      <td>519.507042</td>\n",
       "    </tr>\n",
       "    <tr>\n",
       "      <th>2</th>\n",
       "      <td>13.153750</td>\n",
       "      <td>3.333750</td>\n",
       "      <td>2.437083</td>\n",
       "      <td>21.416667</td>\n",
       "      <td>99.312500</td>\n",
       "      <td>1.678750</td>\n",
       "      <td>0.781458</td>\n",
       "      <td>0.447500</td>\n",
       "      <td>1.153542</td>\n",
       "      <td>7.396250</td>\n",
       "      <td>0.682708</td>\n",
       "      <td>1.683542</td>\n",
       "      <td>629.895833</td>\n",
       "    </tr>\n",
       "  </tbody>\n",
       "</table>\n",
       "</div>"
      ],
      "text/plain": [
       "                0         1         2          3           4         5  \\\n",
       "target                                                                   \n",
       "0       13.744746  2.010678  2.455593  17.037288  106.338983  2.840169   \n",
       "1       12.278732  1.932676  2.244789  20.238028   94.549296  2.258873   \n",
       "2       13.153750  3.333750  2.437083  21.416667   99.312500  1.678750   \n",
       "\n",
       "               6         7         8         9        10        11  \\\n",
       "target                                                               \n",
       "0       2.982373  0.290000  1.899322  5.528305  1.062034  3.157797   \n",
       "1       2.080845  0.363662  1.630282  3.086620  1.056282  2.785352   \n",
       "2       0.781458  0.447500  1.153542  7.396250  0.682708  1.683542   \n",
       "\n",
       "                 12  \n",
       "target               \n",
       "0       1115.711864  \n",
       "1        519.507042  \n",
       "2        629.895833  "
      ]
     },
     "execution_count": 42,
     "metadata": {},
     "output_type": "execute_result"
    }
   ],
   "source": [
    "# Get means of all numeric variables for each target\n",
    "import pandas as pd\n",
    "all_data = pd.DataFrame(wine_dt.data)\n",
    "all_data['target'] = target\n",
    "pd.pivot_table(all_data, index=\"target\", aggfunc = np.mean)"
   ]
  },
  {
   "cell_type": "code",
   "execution_count": 45,
   "metadata": {},
   "outputs": [
    {
     "name": "stdout",
     "output_type": "stream",
     "text": [
      "0.8888888888888888\n"
     ]
    }
   ],
   "source": [
    "# Build and visualise the model.\n",
    "D_train, D_test, t_train, t_test = \\\n",
    "    train_test_split(wine_dt.data, target, test_size = 0.3, stratify = target)\n",
    "\n",
    "decision_tree = DecisionTreeClassifier(max_depth = 4,\n",
    "                                       criterion = 'entropy',\n",
    "                                       random_state = 999)\n",
    "decision_tree.fit(D_train, t_train)\n",
    "print(decision_tree.score(X = D_test, y = t_test))"
   ]
  },
  {
   "cell_type": "markdown",
   "metadata": {},
   "source": [
    "***\n",
    "www.featureranking.com"
   ]
  }
 ],
 "metadata": {
  "kernelspec": {
   "display_name": "Python 3 (ipykernel)",
   "language": "python",
   "name": "python3"
  },
  "language_info": {
   "codemirror_mode": {
    "name": "ipython",
    "version": 3
   },
   "file_extension": ".py",
   "mimetype": "text/x-python",
   "name": "python",
   "nbconvert_exporter": "python",
   "pygments_lexer": "ipython3",
   "version": "3.9.7"
  },
  "varInspector": {
   "cols": {
    "lenName": 16,
    "lenType": 16,
    "lenVar": 40
   },
   "kernels_config": {
    "python": {
     "delete_cmd_postfix": "",
     "delete_cmd_prefix": "del ",
     "library": "var_list.py",
     "varRefreshCmd": "print(var_dic_list())"
    },
    "r": {
     "delete_cmd_postfix": ") ",
     "delete_cmd_prefix": "rm(",
     "library": "var_list.r",
     "varRefreshCmd": "cat(var_dic_list()) "
    }
   },
   "types_to_exclude": [
    "module",
    "function",
    "builtin_function_or_method",
    "instance",
    "_Feature"
   ],
   "window_display": false
  }
 },
 "nbformat": 4,
 "nbformat_minor": 4
}
