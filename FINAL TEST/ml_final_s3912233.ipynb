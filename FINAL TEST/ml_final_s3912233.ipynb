{
 "cells": [
  {
   "cell_type": "markdown",
   "id": "e7f35730",
   "metadata": {},
   "source": [
    "## Machine Learning Final Test Questions <a id='top'></a>"
   ]
  },
  {
   "cell_type": "markdown",
   "id": "d08c03a9",
   "metadata": {},
   "source": [
    "**<font color='red'>CODE OF CONDUCT</font>**\n",
    "\n",
    "- **Use of ChatGPT or similar AI tools is STRICTLY FORBIDDEN in our final test.**\n",
    "- This is a \"**limited open-computer**\" assessment.\n",
    "- **You must work on this assessment on your own and you must neither provide nor receive any help from anyone.**\n",
    "- **You must not share this questions notebook nor your solutions with anyone, neither before submission nor after.**\n",
    "- Please see Canvas for the full `Code of Conduct`.\n",
    "\n",
    "**<font color='red'>INSTRUCTIONS</font>** \n",
    "1. You **must not** delete any existing cells in this notebook and you **must not** modify any existing cell tags. If you accidentally delete a cell, you will need to go to the \"Edit\" menu option and select \"Undo Delete Cells\".\n",
    "1. In an answer cell, any direct action **required from you** will be indicated by UPPER CASE PYTHON COMMENTS starting with \"###\". \n",
    "1. In general, the value of \"999\" will denote a dummy placeholder.\n",
    "1. You **must not change even a single character** in an existing code cell that is **outside** of the \"ADD YOUR CODE BELOW/ ABOVE\" block.\n",
    "1. You **must not** have any additional print() statement outputs of your own for any question in your submission.\n",
    "1. You **must** run each and every one of your answer cells so that your answers are recorded correctly for marking purposes.\n",
    "1. Please keep in mind that, if you select \"*Restart & Clear Output*\" or \"*Restart & Run All*\" from the \"*Kernel*\" menu option, your answers for any multiple-choice questions will reset to \"**nothing selected**\".\n",
    "1. Please see Canvas for additional assessment instructions. \n",
    "1. **This assessment has 30 questions for a total of 30 points. Each question is worth 1 point.**\n",
    "1. Good luck!"
   ]
  },
  {
   "cell_type": "code",
   "execution_count": 1,
   "id": "ffe11de9",
   "metadata": {},
   "outputs": [],
   "source": [
    "###\n",
    "### PLEASE RUN THIS CELL SO THAT THE DROPDOWN ANSWER SELECTIONS BELOW WORK CORRECTLY\n",
    "###\n",
    "### WARNING!! If you restart your kernel, you will need to run this cell again.\n",
    "###\n",
    "\n",
    "import warnings\n",
    "warnings.filterwarnings(\"ignore\")\n",
    "\n",
    "from ipywidgets import interactive\n",
    "def function_mcq(selection): pass"
   ]
  },
  {
   "cell_type": "code",
   "execution_count": 2,
   "id": "d5835097",
   "metadata": {
    "tags": [
     "q0;shorttext;0"
    ]
   },
   "outputs": [
    {
     "name": "stdout",
     "output_type": "stream",
     "text": [
      "\n",
      "Name:Fabian Mauricio Caballero Osorio\n",
      "Student ID: s3912233\n",
      "\n"
     ]
    }
   ],
   "source": [
    "###\n",
    "### PLEASE FIRST WRITE YOUR FULL NAME AND STUDENT ID BELOW, \n",
    "### AND THEN EXECUTE THIS CODE CELL. \n",
    "###\n",
    "\n",
    "print(\"\"\"\n",
    "Name:Fabian Mauricio Caballero Osorio\n",
    "Student ID: s3912233\n",
    "\"\"\")"
   ]
  },
  {
   "cell_type": "markdown",
   "id": "5848a5b6",
   "metadata": {},
   "source": [
    "#### <font color='red'> Confusion matrix for Questions 1, 2, and 3 </font>\n",
    "\n",
    "| | Positive Prediction | Negative Prediction |\n",
    "|---|---|---|\n",
    "|Actual Positive | 1 | 4 |\n",
    "|Actual Negative | 2 | 8 |\n",
    "\n",
    "For these questions, please provide your answers using simple arithmetic, **NOT** scikit-learn or any other Python module."
   ]
  },
  {
   "cell_type": "markdown",
   "id": "94fd65c5",
   "metadata": {},
   "source": [
    "### <font color='red'>Question 1 </font> <a id='q1'></a>\n",
    "\n",
    "For the confusion matrix above, what is the False Negative Rate (FNR) metric? "
   ]
  },
  {
   "cell_type": "code",
   "execution_count": 3,
   "id": "6084c349",
   "metadata": {
    "tags": [
     "q1;codenum;1"
    ]
   },
   "outputs": [
    {
     "name": "stdout",
     "output_type": "stream",
     "text": [
      "The FNR value is 0.80\n"
     ]
    }
   ],
   "source": [
    "### ADD YOUR CODE BELOW\n",
    "\n",
    "tpr = 1/(1+4)\n",
    "\n",
    "fnr = 1- tpr\n",
    "\n",
    "### ADD YOUR CODE ABOVE\n",
    "\n",
    "print(f\"The FNR value is {fnr:.2f}\")"
   ]
  },
  {
   "cell_type": "markdown",
   "id": "3e1162be",
   "metadata": {},
   "source": [
    "### <font color='red'>Question 2 </font> <a id='q2'></a>\n",
    "\n",
    "For the confusion matrix above, what is the recall metric?"
   ]
  },
  {
   "cell_type": "code",
   "execution_count": 4,
   "id": "26a82ac9",
   "metadata": {
    "tags": [
     "q2;codenum;1"
    ]
   },
   "outputs": [
    {
     "name": "stdout",
     "output_type": "stream",
     "text": [
      "The recall value is 0.20\n"
     ]
    }
   ],
   "source": [
    "### ADD YOUR CODE BELOW\n",
    "\n",
    "\n",
    "recall = (1)/(1+4)\n",
    "\n",
    "### ADD YOUR CODE ABOVE\n",
    "\n",
    "print(f\"The recall value is {recall:.2f}\")"
   ]
  },
  {
   "cell_type": "markdown",
   "id": "bed37889",
   "metadata": {},
   "source": [
    "### <font color='red'>Question 3 </font> <a id='q3'></a>\n",
    "\n",
    "For the confusion matrix above, what is the precision metric?"
   ]
  },
  {
   "cell_type": "code",
   "execution_count": 5,
   "id": "396eef0b",
   "metadata": {
    "tags": [
     "q3;codenum;1"
    ]
   },
   "outputs": [
    {
     "name": "stdout",
     "output_type": "stream",
     "text": [
      "The precision value is 0.33\n"
     ]
    }
   ],
   "source": [
    "### ADD YOUR CODE BELOW\n",
    "\n",
    "\n",
    "precision = 1/(1+2)\n",
    "\n",
    "### ADD YOUR CODE ABOVE\n",
    "\n",
    "print(f\"The precision value is {precision:.2f}\")"
   ]
  },
  {
   "cell_type": "markdown",
   "id": "28181d4f",
   "metadata": {},
   "source": [
    "### <font color='red'>Question 4 </font> <a id='q4'></a>\n",
    "\n",
    "If there are many irrelevant descriptive features in a dataset, which one of the following learners would be preferred in general?"
   ]
  },
  {
   "cell_type": "code",
   "execution_count": 6,
   "id": "c4f47f42",
   "metadata": {},
   "outputs": [
    {
     "data": {
      "application/vnd.jupyter.widget-view+json": {
       "model_id": "0938b941ef23428984f0969ed4599320",
       "version_major": 2,
       "version_minor": 0
      },
      "text/plain": [
       "interactive(children=(Dropdown(description='selection', options=('nothing selected', 'Decision trees', 'K near…"
      ]
     },
     "metadata": {},
     "output_type": "display_data"
    }
   ],
   "source": [
    "### PLEASE RUN THIS CELL\n",
    "q4 = interactive(function_mcq, \n",
    "                 selection=['nothing selected', \n",
    "                            'Decision trees',\n",
    "                            'K nearest neighbours ',\n",
    "                            'Naive Bayes ',\n",
    "                            'Linear regression']); \n",
    "display(q4)"
   ]
  },
  {
   "cell_type": "code",
   "execution_count": 7,
   "id": "99abbde3",
   "metadata": {
    "tags": [
     "q4;shorttext;1"
    ]
   },
   "outputs": [
    {
     "name": "stdout",
     "output_type": "stream",
     "text": [
      "Decision trees\n"
     ]
    }
   ],
   "source": [
    "### PLEASE RUN THIS CELL AFTER YOUR SELECTION ABOVE\n",
    "print(f\"{q4.kwargs['selection']}\")"
   ]
  },
  {
   "cell_type": "markdown",
   "id": "f524211b",
   "metadata": {},
   "source": [
    "### <font color='red'>Question 5 </font> <a id='q5'></a>\n",
    "\n",
    "Which one of the following is typically not a data quality issue?"
   ]
  },
  {
   "cell_type": "code",
   "execution_count": 8,
   "id": "eba63fc6",
   "metadata": {},
   "outputs": [
    {
     "data": {
      "application/vnd.jupyter.widget-view+json": {
       "model_id": "20ed5cb8fffe4e61b0b852599a7d7433",
       "version_major": 2,
       "version_minor": 0
      },
      "text/plain": [
       "interactive(children=(Dropdown(description='selection', options=('nothing selected', 'Missing values ', 'A cat…"
      ]
     },
     "metadata": {},
     "output_type": "display_data"
    }
   ],
   "source": [
    "### PLEASE RUN THIS CELL\n",
    "q5 = interactive(function_mcq, \n",
    "                 selection=['nothing selected', \n",
    "                            'Missing values ',\n",
    "                            'A categorical feature with many many levels ',                            \n",
    "                            'Irregular cardinality ',\n",
    "                            'Outliers ']); \n",
    "display(q5)"
   ]
  },
  {
   "cell_type": "code",
   "execution_count": 9,
   "id": "b4ee2f85",
   "metadata": {
    "tags": [
     "q5;shorttext;1"
    ]
   },
   "outputs": [
    {
     "name": "stdout",
     "output_type": "stream",
     "text": [
      "A categorical feature with many many levels \n"
     ]
    }
   ],
   "source": [
    "### PLEASE RUN THIS CELL AFTER YOUR SELECTION ABOVE\n",
    "print(f\"{q5.kwargs['selection']}\")"
   ]
  },
  {
   "cell_type": "markdown",
   "id": "26eeb07c",
   "metadata": {},
   "source": [
    "[**Go to Top**](#top)"
   ]
  },
  {
   "cell_type": "markdown",
   "id": "551f9b5f",
   "metadata": {},
   "source": [
    "### <font color='red'>Question 6 </font> <a id='q6'></a>\n",
    "\n",
    "If there is a very large number of categorical descriptive features in a dataset and the target feature is **categorical**, which one of the following learners would be preferred in general?"
   ]
  },
  {
   "cell_type": "code",
   "execution_count": 10,
   "id": "ca883642",
   "metadata": {},
   "outputs": [
    {
     "data": {
      "application/vnd.jupyter.widget-view+json": {
       "model_id": "3caad31ae4b047f1b29a2a775f176583",
       "version_major": 2,
       "version_minor": 0
      },
      "text/plain": [
       "interactive(children=(Dropdown(description='selection', options=('nothing selected', 'Information-based learne…"
      ]
     },
     "metadata": {},
     "output_type": "display_data"
    }
   ],
   "source": [
    "### PLEASE RUN THIS CELL\n",
    "q6 = interactive(function_mcq, \n",
    "                 selection=['nothing selected', \n",
    "                            'Information-based learners ',\n",
    "                            'Similarity-based learners ',\n",
    "                            'Probability-based learners ',\n",
    "                            'Error-based learners ']); \n",
    "display(q6)"
   ]
  },
  {
   "cell_type": "code",
   "execution_count": 11,
   "id": "72eed83f",
   "metadata": {
    "tags": [
     "q6;shorttext;1"
    ]
   },
   "outputs": [
    {
     "name": "stdout",
     "output_type": "stream",
     "text": [
      "Information-based learners \n"
     ]
    }
   ],
   "source": [
    "### PLEASE RUN THIS CELL AFTER YOUR SELECTION ABOVE\n",
    "print(f\"{q6.kwargs['selection']}\")"
   ]
  },
  {
   "cell_type": "markdown",
   "id": "e47aa37d",
   "metadata": {},
   "source": [
    "### <font color='red'>Question 7 </font> <a id='q7'></a>\n",
    "\n",
    "The trade-off between the number of descriptive features and the density of the instances in the feature space is known as the curse of dimensionality. True or False"
   ]
  },
  {
   "cell_type": "code",
   "execution_count": 12,
   "id": "b1c1a489",
   "metadata": {},
   "outputs": [
    {
     "data": {
      "application/vnd.jupyter.widget-view+json": {
       "model_id": "a94bcc2fef4e47579bbe9cac26b2ea13",
       "version_major": 2,
       "version_minor": 0
      },
      "text/plain": [
       "interactive(children=(Dropdown(description='selection', options=('nothing selected', 'True', 'False'), value='…"
      ]
     },
     "metadata": {},
     "output_type": "display_data"
    }
   ],
   "source": [
    "### PLEASE RUN THIS CELL\n",
    "q7 = interactive(function_mcq, \n",
    "                 selection=['nothing selected', \n",
    "                            'True',\n",
    "                            'False',\n",
    "]); \n",
    "display(q7)"
   ]
  },
  {
   "cell_type": "code",
   "execution_count": 13,
   "id": "c601dd94",
   "metadata": {
    "tags": [
     "q7;shorttext;1"
    ]
   },
   "outputs": [
    {
     "name": "stdout",
     "output_type": "stream",
     "text": [
      "True\n"
     ]
    }
   ],
   "source": [
    "### PLEASE RUN THIS CELL AFTER YOUR SELECTION ABOVE\n",
    "print(f\"{q7.kwargs['selection']}\")"
   ]
  },
  {
   "cell_type": "markdown",
   "id": "5ce3d69a",
   "metadata": {},
   "source": [
    "### <font color='red'>Question 8 </font> <a id='q8'></a>\n",
    "\n",
    "If you were to sketch a typical **test error** plot for a **decision tree classifier** (increasing Depth on the x-axis, Error on the y-axis), the plot would look like which of the following?"
   ]
  },
  {
   "cell_type": "code",
   "execution_count": 14,
   "id": "3250a6f1",
   "metadata": {},
   "outputs": [
    {
     "data": {
      "application/vnd.jupyter.widget-view+json": {
       "model_id": "8c859a836d7445fbb9ae4f3c7663c9c2",
       "version_major": 2,
       "version_minor": 0
      },
      "text/plain": [
       "interactive(children=(Dropdown(description='selection', options=('nothing selected', 'convex', 'concave ', 'mo…"
      ]
     },
     "metadata": {},
     "output_type": "display_data"
    }
   ],
   "source": [
    "### PLEASE RUN THIS CELL\n",
    "q8 = interactive(function_mcq, \n",
    "                 selection=['nothing selected', \n",
    "                            'convex',\n",
    "                            'concave ',\n",
    "                            'monotonically increasing ',\n",
    "                            'monotonically decreasing ']); \n",
    "display(q8)"
   ]
  },
  {
   "cell_type": "code",
   "execution_count": 15,
   "id": "0ef3deda",
   "metadata": {
    "tags": [
     "q8;shorttext;1"
    ]
   },
   "outputs": [
    {
     "name": "stdout",
     "output_type": "stream",
     "text": [
      "monotonically decreasing \n"
     ]
    }
   ],
   "source": [
    "### PLEASE RUN THIS CELL AFTER YOUR SELECTION ABOVE\n",
    "print(f\"{q8.kwargs['selection']}\")"
   ]
  },
  {
   "cell_type": "markdown",
   "id": "26ce5b42",
   "metadata": {},
   "source": [
    "### <font color='red'>Question 9 </font> <a id='q9'></a>\n",
    "\n",
    "The general set of assumptions that define the model selection criteria of a machine learning algorithm is known as which of the following?"
   ]
  },
  {
   "cell_type": "code",
   "execution_count": 16,
   "id": "8d2640d1",
   "metadata": {},
   "outputs": [
    {
     "data": {
      "application/vnd.jupyter.widget-view+json": {
       "model_id": "d7f65ae2942f4d84afcc5c17c982cc45",
       "version_major": 2,
       "version_minor": 0
      },
      "text/plain": [
       "interactive(children=(Dropdown(description='selection', options=('nothing selected', 'Inductive bias ', 'Prefe…"
      ]
     },
     "metadata": {},
     "output_type": "display_data"
    }
   ],
   "source": [
    "### PLEASE RUN THIS CELL\n",
    "q9 = interactive(function_mcq, \n",
    "                 selection=['nothing selected', \n",
    "                            'Inductive bias ',\n",
    "                            'Preference bias ',\n",
    "                            'Model selection ',\n",
    "                            'Restrictive bias ']); \n",
    "display(q9)"
   ]
  },
  {
   "cell_type": "code",
   "execution_count": 17,
   "id": "18ffdfc5",
   "metadata": {
    "tags": [
     "q9;shorttext;1"
    ]
   },
   "outputs": [
    {
     "name": "stdout",
     "output_type": "stream",
     "text": [
      "Inductive bias \n"
     ]
    }
   ],
   "source": [
    "### PLEASE RUN THIS CELL AFTER YOUR SELECTION ABOVE\n",
    "print(f\"{q9.kwargs['selection']}\")"
   ]
  },
  {
   "cell_type": "markdown",
   "id": "54885f53",
   "metadata": {},
   "source": [
    "### <font color='red'>Question 10 </font> <a id='q10'></a>\n",
    "\n",
    "Which of the following is a non-parametric, generative model?"
   ]
  },
  {
   "cell_type": "code",
   "execution_count": 18,
   "id": "c73c845c",
   "metadata": {},
   "outputs": [
    {
     "data": {
      "application/vnd.jupyter.widget-view+json": {
       "model_id": "bb0716c2896c4dadbe117dfba60d20bb",
       "version_major": 2,
       "version_minor": 0
      },
      "text/plain": [
       "interactive(children=(Dropdown(description='selection', options=('nothing selected', 'KNN', 'DT ', 'NB', 'Rand…"
      ]
     },
     "metadata": {},
     "output_type": "display_data"
    }
   ],
   "source": [
    "### PLEASE RUN THIS CELL\n",
    "q10 = interactive(function_mcq, \n",
    "                 selection=['nothing selected', \n",
    "                            'KNN',\n",
    "                            'DT ',\n",
    "                            'NB',\n",
    "                            'Random Forest']); \n",
    "display(q10)"
   ]
  },
  {
   "cell_type": "code",
   "execution_count": 19,
   "id": "bc5d2e23",
   "metadata": {
    "tags": [
     "q10;shorttext;1"
    ]
   },
   "outputs": [
    {
     "name": "stdout",
     "output_type": "stream",
     "text": [
      "KNN\n"
     ]
    }
   ],
   "source": [
    "### PLEASE RUN THIS CELL AFTER YOUR SELECTION ABOVE\n",
    "print(f\"{q10.kwargs['selection']}\")"
   ]
  },
  {
   "cell_type": "markdown",
   "id": "4c45a314",
   "metadata": {},
   "source": [
    "[**Go to Top**](#top)"
   ]
  },
  {
   "cell_type": "markdown",
   "id": "f52f38a5",
   "metadata": {},
   "source": [
    "### <font color='red'>Question 11 </font> <a id='q11'></a>\n",
    "\n",
    "For a binary learning problem, if the decision boundary is rectilinear, which one of the learners would be preferred in general?"
   ]
  },
  {
   "cell_type": "code",
   "execution_count": 20,
   "id": "e18a0b68",
   "metadata": {},
   "outputs": [
    {
     "data": {
      "application/vnd.jupyter.widget-view+json": {
       "model_id": "ece70f91040f4131924788351ba4b282",
       "version_major": 2,
       "version_minor": 0
      },
      "text/plain": [
       "interactive(children=(Dropdown(description='selection', options=('nothing selected', 'KNN', 'DT ', 'NB', 'Rand…"
      ]
     },
     "metadata": {},
     "output_type": "display_data"
    }
   ],
   "source": [
    "### PLEASE RUN THIS CELL\n",
    "q11 = interactive(function_mcq, \n",
    "                 selection=['nothing selected', \n",
    "                            'KNN',\n",
    "                            'DT ',\n",
    "                            'NB',\n",
    "                            'Random Forest']); \n",
    "display(q11)"
   ]
  },
  {
   "cell_type": "code",
   "execution_count": 65,
   "id": "f0e7f1ff",
   "metadata": {
    "tags": [
     "q11;shorttext;1"
    ]
   },
   "outputs": [
    {
     "name": "stdout",
     "output_type": "stream",
     "text": [
      "DT \n"
     ]
    }
   ],
   "source": [
    "### PLEASE RUN THIS CELL AFTER YOUR SELECTION ABOVE\n",
    "print(f\"{q11.kwargs['selection']}\")"
   ]
  },
  {
   "cell_type": "markdown",
   "id": "64130b6d",
   "metadata": {},
   "source": [
    "### <font color='red'>Question 12 </font> <a id='q12'></a>\n",
    "\n",
    "For a dataset with numerical features containing outliers, which type of scaling below would be preferred?"
   ]
  },
  {
   "cell_type": "code",
   "execution_count": 22,
   "id": "85363472",
   "metadata": {},
   "outputs": [
    {
     "data": {
      "application/vnd.jupyter.widget-view+json": {
       "model_id": "c9683cdd6eca4c3abcfe20ee84f6a5ef",
       "version_major": 2,
       "version_minor": 0
      },
      "text/plain": [
       "interactive(children=(Dropdown(description='selection', options=('nothing selected', 'Robust scaling ', 'Stand…"
      ]
     },
     "metadata": {},
     "output_type": "display_data"
    }
   ],
   "source": [
    "### PLEASE RUN THIS CELL\n",
    "q12 = interactive(function_mcq, \n",
    "                 selection=['nothing selected', \n",
    "                            'Robust scaling ',\n",
    "                            'Standard scaling ',\n",
    "                            'Binary scaling ',\n",
    "                            'Range normalization ']); \n",
    "display(q12)"
   ]
  },
  {
   "cell_type": "code",
   "execution_count": 23,
   "id": "a308622f",
   "metadata": {
    "tags": [
     "q12;shorttext;1"
    ]
   },
   "outputs": [
    {
     "name": "stdout",
     "output_type": "stream",
     "text": [
      "Range normalization \n"
     ]
    }
   ],
   "source": [
    "### PLEASE RUN THIS CELL AFTER YOUR SELECTION ABOVE\n",
    "print(f\"{q12.kwargs['selection']}\")"
   ]
  },
  {
   "cell_type": "markdown",
   "id": "4abe2eb2",
   "metadata": {},
   "source": [
    "### <font color='red'>Question 13 </font> <a id='q13'></a>\n",
    "\n",
    "If you were to sketch a typical **test error** plot for a **KNN classifier** (increasing K on the x-axis, Error on the y-axis), the plot would look like which of the following?"
   ]
  },
  {
   "cell_type": "code",
   "execution_count": 26,
   "id": "ede85c4e",
   "metadata": {},
   "outputs": [
    {
     "data": {
      "application/vnd.jupyter.widget-view+json": {
       "model_id": "8d47ea630f9b49e8a1915b06e251e355",
       "version_major": 2,
       "version_minor": 0
      },
      "text/plain": [
       "interactive(children=(Dropdown(description='selection', options=('nothing selected', 'convex', 'concave ', 'mo…"
      ]
     },
     "metadata": {},
     "output_type": "display_data"
    }
   ],
   "source": [
    "### PLEASE RUN THIS CELL\n",
    "q13 = interactive(function_mcq, \n",
    "                 selection=['nothing selected', \n",
    "                            'convex',\n",
    "                            'concave ',\n",
    "                            'monotonically increasing ',\n",
    "                            'monotonically decreasing ']); \n",
    "display(q13)"
   ]
  },
  {
   "cell_type": "code",
   "execution_count": 27,
   "id": "f3bd13a6",
   "metadata": {
    "tags": [
     "q13;shorttext;1"
    ]
   },
   "outputs": [
    {
     "name": "stdout",
     "output_type": "stream",
     "text": [
      "convex\n"
     ]
    }
   ],
   "source": [
    "### PLEASE RUN THIS CELL AFTER YOUR SELECTION ABOVE\n",
    "print(f\"{q13.kwargs['selection']}\")"
   ]
  },
  {
   "cell_type": "markdown",
   "id": "b6f43b41",
   "metadata": {},
   "source": [
    "### <font color='red'>Question 14 </font> <a id='q14'></a>\n",
    "\n",
    "If there are many numerical descriptive features in a dataset and the target feature is **numeric**, which one of the following learners would be preferred in general?"
   ]
  },
  {
   "cell_type": "code",
   "execution_count": 30,
   "id": "936ef6be",
   "metadata": {},
   "outputs": [
    {
     "data": {
      "application/vnd.jupyter.widget-view+json": {
       "model_id": "360bd7614bfa431b9aee83bb95f1ace5",
       "version_major": 2,
       "version_minor": 0
      },
      "text/plain": [
       "interactive(children=(Dropdown(description='selection', options=('nothing selected', 'Information-based learne…"
      ]
     },
     "metadata": {},
     "output_type": "display_data"
    }
   ],
   "source": [
    "### PLEASE RUN THIS CELL\n",
    "q14 = interactive(function_mcq, \n",
    "                 selection=['nothing selected', \n",
    "                            'Information-based learners ',\n",
    "                            'Similarity-based learners ',\n",
    "                            'Probability-based learners ',\n",
    "                            'Error-based learners ']); \n",
    "display(q14)"
   ]
  },
  {
   "cell_type": "code",
   "execution_count": 31,
   "id": "b9dd35c6",
   "metadata": {
    "tags": [
     "q14;shorttext;1"
    ]
   },
   "outputs": [
    {
     "name": "stdout",
     "output_type": "stream",
     "text": [
      "Error-based learners \n"
     ]
    }
   ],
   "source": [
    "### PLEASE RUN THIS CELL AFTER YOUR SELECTION ABOVE\n",
    "print(f\"{q14.kwargs['selection']}\")"
   ]
  },
  {
   "cell_type": "markdown",
   "id": "648d82da",
   "metadata": {},
   "source": [
    "### <font color='red'>Question 15 </font> <a id='q15'></a>\n",
    "\n",
    "Which one of the following is **not** a component of the random forest learners?"
   ]
  },
  {
   "cell_type": "code",
   "execution_count": 32,
   "id": "5734f2c5",
   "metadata": {},
   "outputs": [
    {
     "data": {
      "application/vnd.jupyter.widget-view+json": {
       "model_id": "fb58e7497ba842c5bc9c6af57d25b425",
       "version_major": 2,
       "version_minor": 0
      },
      "text/plain": [
       "interactive(children=(Dropdown(description='selection', options=('nothing selected', 'Bootstrap sampling ', 'S…"
      ]
     },
     "metadata": {},
     "output_type": "display_data"
    }
   ],
   "source": [
    "### PLEASE RUN THIS CELL\n",
    "q15 = interactive(function_mcq, \n",
    "                 selection=['nothing selected', \n",
    "                            'Bootstrap sampling ',\n",
    "                            'Subspace sampling ',\n",
    "                            'Decision trees',\n",
    "                            'Sampling without replacement ']); \n",
    "display(q15)"
   ]
  },
  {
   "cell_type": "code",
   "execution_count": 33,
   "id": "14363966",
   "metadata": {
    "tags": [
     "q15;shorttext;1"
    ]
   },
   "outputs": [
    {
     "name": "stdout",
     "output_type": "stream",
     "text": [
      "Sampling without replacement \n"
     ]
    }
   ],
   "source": [
    "### PLEASE RUN THIS CELL AFTER YOUR SELECTION ABOVE\n",
    "print(f\"{q15.kwargs['selection']}\")"
   ]
  },
  {
   "cell_type": "markdown",
   "id": "2883a5e8",
   "metadata": {},
   "source": [
    "[**Go to Top**](#top)"
   ]
  },
  {
   "cell_type": "markdown",
   "id": "15002f0c",
   "metadata": {},
   "source": [
    "### <font color='red'>Question 16 </font> <a id='q16'></a>\n",
    "\n",
    "For events F, W, T, and M in a naive Bayes classification setting, what is P(F,W,T | ~M) where ~ is the negation operation? Below, P(A|B) denotes probability of event A conditioned on event B."
   ]
  },
  {
   "cell_type": "code",
   "execution_count": 34,
   "id": "968997b2",
   "metadata": {},
   "outputs": [
    {
     "data": {
      "application/vnd.jupyter.widget-view+json": {
       "model_id": "f177fddbe63d493ea2091a5cb7eb2d89",
       "version_major": 2,
       "version_minor": 0
      },
      "text/plain": [
       "interactive(children=(Dropdown(description='selection', options=('nothing selected', '1 - P(F,W,T | M) ', '1 -…"
      ]
     },
     "metadata": {},
     "output_type": "display_data"
    }
   ],
   "source": [
    "### PLEASE RUN THIS CELL\n",
    "q16 = interactive(function_mcq, \n",
    "                 selection=['nothing selected', \n",
    "                            '1 - P(F,W,T | M) ',\n",
    "                            '1 - (P(F|M) P(W|M) P(T|M) * P(M)) ',\n",
    "                            '1 - P(M | F,W,T) ',\n",
    "                            'None of the available choices ']); \n",
    "display(q16)"
   ]
  },
  {
   "cell_type": "code",
   "execution_count": 35,
   "id": "c59922cb",
   "metadata": {
    "tags": [
     "q16;shorttext;1"
    ]
   },
   "outputs": [
    {
     "name": "stdout",
     "output_type": "stream",
     "text": [
      "1 - P(F,W,T | M) \n"
     ]
    }
   ],
   "source": [
    "### PLEASE RUN THIS CELL AFTER YOUR SELECTION ABOVE\n",
    "print(f\"{q16.kwargs['selection']}\")"
   ]
  },
  {
   "cell_type": "markdown",
   "id": "c8dc149d",
   "metadata": {},
   "source": [
    "### <font color='red'>Question 17 </font> <a id='q17'></a>\n",
    "\n",
    "A model that achieves a good balance between overfitting and underfitting is known as which of the following?"
   ]
  },
  {
   "cell_type": "code",
   "execution_count": 36,
   "id": "ef0fd0a4",
   "metadata": {},
   "outputs": [
    {
     "data": {
      "application/vnd.jupyter.widget-view+json": {
       "model_id": "875f7ca4c7854e9cb083b7b3f023a186",
       "version_major": 2,
       "version_minor": 0
      },
      "text/plain": [
       "interactive(children=(Dropdown(description='selection', options=('nothing selected', 'Parsimonious model', 'Go…"
      ]
     },
     "metadata": {},
     "output_type": "display_data"
    }
   ],
   "source": [
    "### PLEASE RUN THIS CELL\n",
    "q17 = interactive(function_mcq, \n",
    "                 selection=['nothing selected', \n",
    "                            'Parsimonious model',\n",
    "                            'Goldilocks model ',\n",
    "                            'Generative model ',\n",
    "                            'Discriminative model ',\n",
    "                            'Predictive model ']); \n",
    "display(q17)"
   ]
  },
  {
   "cell_type": "code",
   "execution_count": 37,
   "id": "b2ee4d96",
   "metadata": {
    "tags": [
     "q17;shorttext;1"
    ]
   },
   "outputs": [
    {
     "name": "stdout",
     "output_type": "stream",
     "text": [
      "Predictive model \n"
     ]
    }
   ],
   "source": [
    "### PLEASE RUN THIS CELL AFTER YOUR SELECTION ABOVE\n",
    "print(f\"{q17.kwargs['selection']}\")"
   ]
  },
  {
   "cell_type": "markdown",
   "id": "d8cbe113",
   "metadata": {},
   "source": [
    "### <font color='red'>Question 18 </font> <a id='q18'></a>\n",
    "\n",
    "In general, one should choose the simplest model that is consistent with the dataset at hand. This is called which of the following?"
   ]
  },
  {
   "cell_type": "code",
   "execution_count": 38,
   "id": "9e1b38b6",
   "metadata": {},
   "outputs": [
    {
     "data": {
      "application/vnd.jupyter.widget-view+json": {
       "model_id": "93bc14bf081e4f44ab23b00de5bd8221",
       "version_major": 2,
       "version_minor": 0
      },
      "text/plain": [
       "interactive(children=(Dropdown(description='selection', options=('nothing selected', \"Occam's razor \", \"Hugh's…"
      ]
     },
     "metadata": {},
     "output_type": "display_data"
    }
   ],
   "source": [
    "### PLEASE RUN THIS CELL\n",
    "q18 = interactive(function_mcq, \n",
    "                 selection=['nothing selected', \n",
    "                            \"Occam's razor \",\n",
    "                            \"Hugh's phenomena \",\n",
    "                            \"Wilson's principle \",\n",
    "                            'Curse of dimensionality ']); \n",
    "display(q18)"
   ]
  },
  {
   "cell_type": "code",
   "execution_count": 39,
   "id": "99559725",
   "metadata": {
    "tags": [
     "q18;shorttext;1"
    ]
   },
   "outputs": [
    {
     "name": "stdout",
     "output_type": "stream",
     "text": [
      "Occam's razor \n"
     ]
    }
   ],
   "source": [
    "### PLEASE RUN THIS CELL AFTER YOUR SELECTION ABOVE\n",
    "print(f\"{q18.kwargs['selection']}\")"
   ]
  },
  {
   "cell_type": "markdown",
   "id": "721424b5",
   "metadata": {},
   "source": [
    "### <font color='red'>Question 19 </font> <a id='q19'></a>\n",
    "\n",
    "ROC is a graphical representation of the trade-off between the true positive rates and false negative rates at various thresholds. True or False?"
   ]
  },
  {
   "cell_type": "code",
   "execution_count": 40,
   "id": "fec39fc2",
   "metadata": {},
   "outputs": [
    {
     "data": {
      "application/vnd.jupyter.widget-view+json": {
       "model_id": "159dabedf0b44cef9d42f04c674f8e1d",
       "version_major": 2,
       "version_minor": 0
      },
      "text/plain": [
       "interactive(children=(Dropdown(description='selection', options=('nothing selected', 'True', 'False'), value='…"
      ]
     },
     "metadata": {},
     "output_type": "display_data"
    }
   ],
   "source": [
    "### PLEASE RUN THIS CELL\n",
    "q19 = interactive(function_mcq, \n",
    "                 selection=['nothing selected', \n",
    "                            'True',\n",
    "                            'False']); \n",
    "display(q19)"
   ]
  },
  {
   "cell_type": "code",
   "execution_count": 41,
   "id": "b313fbab",
   "metadata": {
    "tags": [
     "q19;shorttext;1"
    ]
   },
   "outputs": [
    {
     "name": "stdout",
     "output_type": "stream",
     "text": [
      "True\n"
     ]
    }
   ],
   "source": [
    "### PLEASE RUN THIS CELL AFTER YOUR SELECTION ABOVE\n",
    "print(f\"{q19.kwargs['selection']}\")"
   ]
  },
  {
   "cell_type": "markdown",
   "id": "248fc998",
   "metadata": {},
   "source": [
    "### <font color='red'>Question 20 </font> <a id='q20'></a>\n",
    "\n",
    "For a noise-free dataset, if we were to use a nearest neighbour regressor for predicting a numeric target variable, the best value for K would be 1."
   ]
  },
  {
   "cell_type": "code",
   "execution_count": 42,
   "id": "b4c2008a",
   "metadata": {},
   "outputs": [
    {
     "data": {
      "application/vnd.jupyter.widget-view+json": {
       "model_id": "b20d6b06c88c41aa95c0c41a139adadf",
       "version_major": 2,
       "version_minor": 0
      },
      "text/plain": [
       "interactive(children=(Dropdown(description='selection', options=('nothing selected', 'True', 'False'), value='…"
      ]
     },
     "metadata": {},
     "output_type": "display_data"
    }
   ],
   "source": [
    "### PLEASE RUN THIS CELL\n",
    "q20 = interactive(function_mcq, \n",
    "                 selection=['nothing selected', \n",
    "                            'True',\n",
    "                            'False']); \n",
    "display(q20)"
   ]
  },
  {
   "cell_type": "code",
   "execution_count": 43,
   "id": "c0fa3dce",
   "metadata": {
    "tags": [
     "q20;shorttext;1"
    ]
   },
   "outputs": [
    {
     "name": "stdout",
     "output_type": "stream",
     "text": [
      "False\n"
     ]
    }
   ],
   "source": [
    "### PLEASE RUN THIS CELL AFTER YOUR SELECTION ABOVE\n",
    "print(f\"{q20.kwargs['selection']}\")"
   ]
  },
  {
   "cell_type": "markdown",
   "id": "cda356a4",
   "metadata": {},
   "source": [
    "[**Go to Top**](#top)"
   ]
  },
  {
   "cell_type": "markdown",
   "id": "6669eb52",
   "metadata": {},
   "source": [
    "### <font color='red'>Question 21 </font> <a id='q21'></a>\n",
    "\n",
    "Consider a supervised machine learning problem where there are four binary descriptive features and a binary target feature. You are given a training dataset that has 10 observations with unique combinations of the descriptive features. You are told to assume that there is no noise in the training data. What is the total number of prediction models that can be used? Please provide your answer using simple arithmetic, **NOT** scikit-learn or any other Python module."
   ]
  },
  {
   "cell_type": "code",
   "execution_count": 45,
   "id": "18cb354a",
   "metadata": {
    "tags": [
     "q21;codenum;1"
    ]
   },
   "outputs": [
    {
     "name": "stdout",
     "output_type": "stream",
     "text": [
      "The total number of prediction models is 32\n"
     ]
    }
   ],
   "source": [
    "### ADD YOUR CODE BELOW\n",
    "\n",
    "comb_features = 4*4\n",
    "t_levels = 2\n",
    "\n",
    "total1 = comb_features*t_levels\n",
    "\n",
    "### ADD YOUR CODE ABOVE\n",
    "\n",
    "print(f\"The total number of prediction models is {total1:.0f}\")"
   ]
  },
  {
   "cell_type": "markdown",
   "id": "aff45e60",
   "metadata": {},
   "source": [
    "### <font color='red'>Question 22 </font> <a id='q23'></a>\n",
    "\n",
    "Consider a supervised machine learning problem where there are four binary descriptive features and a binary target feature. You are given a training dataset that has 10 observations with unique combinations of the descriptive features. You are told to assume that there is no noise in the training data. What is the total number of prediction models that are **consistent** with the training dataset? Please provide your answer using simple arithmetic, **NOT** scikit-learn or any other Python module."
   ]
  },
  {
   "cell_type": "code",
   "execution_count": 46,
   "id": "acd5ff56",
   "metadata": {
    "tags": [
     "q22;codenum;1"
    ]
   },
   "outputs": [
    {
     "name": "stdout",
     "output_type": "stream",
     "text": [
      "The total number of consistent prediction models is 320\n"
     ]
    }
   ],
   "source": [
    "### ADD YOUR CODE BELOW\n",
    "\n",
    "total1 = 32\n",
    "total2 = 32 * 10\n",
    "\n",
    "### ADD YOUR CODE ABOVE\n",
    "\n",
    "print(f\"The total number of consistent prediction models is {total2:.0f}\")"
   ]
  },
  {
   "cell_type": "markdown",
   "id": "3cc5c2de",
   "metadata": {},
   "source": [
    "### <font color='red'>Question 23 </font> <a id='q22'></a>\n",
    "\n",
    "Consider the general Minkowski distance with parameter p. Which one of the following is true for the impact of outliers when calculating the Minkowski distance for increasing values of p?"
   ]
  },
  {
   "cell_type": "code",
   "execution_count": 47,
   "id": "2f8c8997",
   "metadata": {},
   "outputs": [
    {
     "data": {
      "application/vnd.jupyter.widget-view+json": {
       "model_id": "31222b8c0b4a4320b87630daad472987",
       "version_major": 2,
       "version_minor": 0
      },
      "text/plain": [
       "interactive(children=(Dropdown(description='selection', options=('nothing selected', 'Impact of outliers becom…"
      ]
     },
     "metadata": {},
     "output_type": "display_data"
    }
   ],
   "source": [
    "### PLEASE RUN THIS CELL\n",
    "q23 = interactive(function_mcq, \n",
    "                 selection=['nothing selected', \n",
    "                            'Impact of outliers becomes more significant ',\n",
    "                            'Impact of outliers becomes less significant ',\n",
    "                            'Impact of outliers does not change ']); \n",
    "display(q23)"
   ]
  },
  {
   "cell_type": "code",
   "execution_count": 48,
   "id": "bb276413",
   "metadata": {
    "tags": [
     "q23;shorttext;1"
    ]
   },
   "outputs": [
    {
     "name": "stdout",
     "output_type": "stream",
     "text": [
      "Impact of outliers becomes more significant \n"
     ]
    }
   ],
   "source": [
    "### PLEASE RUN THIS CELL AFTER YOUR SELECTION ABOVE\n",
    "print(f\"{q23.kwargs['selection']}\")"
   ]
  },
  {
   "cell_type": "markdown",
   "id": "3c093298",
   "metadata": {},
   "source": [
    "### <font color='red'>Question 24 </font> <a id='q24'></a>\n",
    "\n",
    "Consider a Random Forest algorithm that performs well on the training set but poorly on the testing set. The following reasons are considered:\n",
    "\n",
    "1. Max depth is too large\n",
    "1. Max depth is too small\n",
    "1. Number of estimators is too large\n",
    "1. Number of estimators is too small\n",
    "\n",
    "Which of the above should be further investigated?"
   ]
  },
  {
   "cell_type": "code",
   "execution_count": 49,
   "id": "eafbdd54",
   "metadata": {},
   "outputs": [
    {
     "data": {
      "application/vnd.jupyter.widget-view+json": {
       "model_id": "a5130c9ac4204027b9a90bf760c197ef",
       "version_major": 2,
       "version_minor": 0
      },
      "text/plain": [
       "interactive(children=(Dropdown(description='selection', options=('nothing selected', '1 and 4', '2 and 3', '1 …"
      ]
     },
     "metadata": {},
     "output_type": "display_data"
    }
   ],
   "source": [
    "### PLEASE RUN THIS CELL\n",
    "q24 = interactive(function_mcq, \n",
    "                 selection=['nothing selected', \n",
    "                            '1 and 4',\n",
    "                            '2 and 3',\n",
    "                            '1 and 3',\n",
    "                            '2 and 4']); \n",
    "display(q24)"
   ]
  },
  {
   "cell_type": "code",
   "execution_count": 50,
   "id": "8be6e97f",
   "metadata": {
    "tags": [
     "q24;shorttext;1"
    ]
   },
   "outputs": [
    {
     "name": "stdout",
     "output_type": "stream",
     "text": [
      "2 and 4\n"
     ]
    }
   ],
   "source": [
    "### PLEASE RUN THIS CELL AFTER YOUR SELECTION ABOVE\n",
    "print(f\"{q24.kwargs['selection']}\")"
   ]
  },
  {
   "cell_type": "markdown",
   "id": "687a01ea",
   "metadata": {},
   "source": [
    "### <font color='red'>Question 25 </font> <a id='q25'></a>\n",
    "\n",
    "Which one of the methods below will give a train accuracy of 100% in a noise-free classification problem in general?"
   ]
  },
  {
   "cell_type": "code",
   "execution_count": 51,
   "id": "b67d90af",
   "metadata": {},
   "outputs": [
    {
     "data": {
      "application/vnd.jupyter.widget-view+json": {
       "model_id": "3fc3275a70e1462fbbb2c0125777e964",
       "version_major": 2,
       "version_minor": 0
      },
      "text/plain": [
       "interactive(children=(Dropdown(description='selection', options=('nothing selected', 'Naive Bayes', 'Decision …"
      ]
     },
     "metadata": {},
     "output_type": "display_data"
    }
   ],
   "source": [
    "### PLEASE RUN THIS CELL\n",
    "q25 = interactive(function_mcq, \n",
    "                 selection=['nothing selected', \n",
    "                            'Naive Bayes',\n",
    "                            'Decision trees',\n",
    "                            '1 Nearest Neighbour ',\n",
    "                            'Logistic regression ']); \n",
    "display(q25)"
   ]
  },
  {
   "cell_type": "code",
   "execution_count": 52,
   "id": "e922204e",
   "metadata": {
    "tags": [
     "q25;shorttext;1"
    ]
   },
   "outputs": [
    {
     "name": "stdout",
     "output_type": "stream",
     "text": [
      "Decision trees\n"
     ]
    }
   ],
   "source": [
    "### PLEASE RUN THIS CELL AFTER YOUR SELECTION ABOVE\n",
    "print(f\"{q25.kwargs['selection']}\")"
   ]
  },
  {
   "cell_type": "markdown",
   "id": "46e4ef14",
   "metadata": {},
   "source": [
    "[**Go to Top**](#top)"
   ]
  },
  {
   "cell_type": "markdown",
   "id": "042f4c70",
   "metadata": {},
   "source": [
    "### <font color='red'>Question 26 </font> <a id='q26'></a>\n",
    "\n",
    "For a binary learning problem, if the decision boundary is **linear**, which one of the learners would be preferred in general?"
   ]
  },
  {
   "cell_type": "code",
   "execution_count": 53,
   "id": "b08ce501",
   "metadata": {},
   "outputs": [
    {
     "data": {
      "application/vnd.jupyter.widget-view+json": {
       "model_id": "b7089f3c083f4ed28177c7ec3539518f",
       "version_major": 2,
       "version_minor": 0
      },
      "text/plain": [
       "interactive(children=(Dropdown(description='selection', options=('nothing selected', 'Naive Bayes', 'Decision …"
      ]
     },
     "metadata": {},
     "output_type": "display_data"
    }
   ],
   "source": [
    "### PLEASE RUN THIS CELL\n",
    "q26 = interactive(function_mcq, \n",
    "                 selection=['nothing selected', \n",
    "                            'Naive Bayes',\n",
    "                            'Decision trees',\n",
    "                            'Nearest Neighbours ',\n",
    "                            'Logistic regression ']); \n",
    "display(q26)"
   ]
  },
  {
   "cell_type": "code",
   "execution_count": 54,
   "id": "019142d7",
   "metadata": {
    "tags": [
     "q26;shorttext;1"
    ]
   },
   "outputs": [
    {
     "name": "stdout",
     "output_type": "stream",
     "text": [
      "Logistic regression \n"
     ]
    }
   ],
   "source": [
    "### PLEASE RUN THIS CELL AFTER YOUR SELECTION ABOVE\n",
    "print(f\"{q26.kwargs['selection']}\")"
   ]
  },
  {
   "cell_type": "markdown",
   "id": "46e470b7",
   "metadata": {},
   "source": [
    "### <font color='red'>Question 27 </font> <a id='q27'></a>\n",
    "\n",
    "Which one of the following is **not** a concern for satisfactory K-Means clustering performance in general?"
   ]
  },
  {
   "cell_type": "code",
   "execution_count": 55,
   "id": "8b100040",
   "metadata": {},
   "outputs": [
    {
     "data": {
      "application/vnd.jupyter.widget-view+json": {
       "model_id": "4bc5e01f1f9b4a8ea7329700c19448cb",
       "version_major": 2,
       "version_minor": 0
      },
      "text/plain": [
       "interactive(children=(Dropdown(description='selection', options=('nothing selected', 'Clusters with different …"
      ]
     },
     "metadata": {},
     "output_type": "display_data"
    }
   ],
   "source": [
    "### PLEASE RUN THIS CELL\n",
    "q27 = interactive(function_mcq, \n",
    "                 selection=['nothing selected', \n",
    "                            'Clusters with different sizes ',\n",
    "                            'Clusters with different densities ',\n",
    "                            'Linear cluster boundaries ',\n",
    "                            'Clusters containing outliers ']); \n",
    "display(q27)"
   ]
  },
  {
   "cell_type": "code",
   "execution_count": 56,
   "id": "c8d0e1a4",
   "metadata": {
    "tags": [
     "q27;shorttext;1"
    ]
   },
   "outputs": [
    {
     "name": "stdout",
     "output_type": "stream",
     "text": [
      "Clusters containing outliers \n"
     ]
    }
   ],
   "source": [
    "### PLEASE RUN THIS CELL AFTER YOUR SELECTION ABOVE\n",
    "print(f\"{q27.kwargs['selection']}\")"
   ]
  },
  {
   "cell_type": "markdown",
   "id": "193b8cd4",
   "metadata": {},
   "source": [
    "### <font color='red'>Question 28 </font> <a id='q28'></a>\n",
    "\n",
    "For a feature on a likert scale, which encoding you would use if you are OK with introducing an arithmetic relationship?"
   ]
  },
  {
   "cell_type": "code",
   "execution_count": 57,
   "id": "1b0874bf",
   "metadata": {},
   "outputs": [
    {
     "data": {
      "application/vnd.jupyter.widget-view+json": {
       "model_id": "666232af37c54e8c928336bed2f3de34",
       "version_major": 2,
       "version_minor": 0
      },
      "text/plain": [
       "interactive(children=(Dropdown(description='selection', options=('nothing selected', 'One-hot encoding ', 'Dum…"
      ]
     },
     "metadata": {},
     "output_type": "display_data"
    }
   ],
   "source": [
    "### PLEASE RUN THIS CELL\n",
    "q28 = interactive(function_mcq, \n",
    "                 selection=['nothing selected', \n",
    "                            'One-hot encoding ',\n",
    "                            'Dummy encoding ',\n",
    "                            'Integer encoding ',\n",
    "                            'Multinomial encoding',\n",
    "                            'Any of the above']); \n",
    "display(q28)"
   ]
  },
  {
   "cell_type": "code",
   "execution_count": 58,
   "id": "e24beaae",
   "metadata": {
    "tags": [
     "q28;shorttext;1"
    ]
   },
   "outputs": [
    {
     "name": "stdout",
     "output_type": "stream",
     "text": [
      "One-hot encoding \n"
     ]
    }
   ],
   "source": [
    "### PLEASE RUN THIS CELL AFTER YOUR SELECTION ABOVE\n",
    "print(f\"{q28.kwargs['selection']}\")"
   ]
  },
  {
   "cell_type": "markdown",
   "id": "eb89cdd5",
   "metadata": {},
   "source": [
    "### <font color='red'>Question 29 </font> <a id='q29'></a>\n",
    "\n",
    "If you were to sketch a typical **train error** plot for a **decision tree classifier** (increasing Depth on the x-axis, Error on the y-axis), the plot would look like which of the following?"
   ]
  },
  {
   "cell_type": "code",
   "execution_count": 59,
   "id": "fa170c5b",
   "metadata": {},
   "outputs": [
    {
     "data": {
      "application/vnd.jupyter.widget-view+json": {
       "model_id": "272a42feb3a447668e7bd9853b7c9fe9",
       "version_major": 2,
       "version_minor": 0
      },
      "text/plain": [
       "interactive(children=(Dropdown(description='selection', options=('nothing selected', 'convex', 'concave ', 'mo…"
      ]
     },
     "metadata": {},
     "output_type": "display_data"
    }
   ],
   "source": [
    "### PLEASE RUN THIS CELL\n",
    "q29 = interactive(function_mcq, \n",
    "                 selection=['nothing selected', \n",
    "                            'convex',\n",
    "                            'concave ',\n",
    "                            'monotonically increasing ',\n",
    "                            'monotonically decreasing ']); \n",
    "display(q29)"
   ]
  },
  {
   "cell_type": "code",
   "execution_count": 64,
   "id": "a2938788",
   "metadata": {
    "tags": [
     "q29;shorttext;1"
    ]
   },
   "outputs": [
    {
     "name": "stdout",
     "output_type": "stream",
     "text": [
      "concave \n"
     ]
    }
   ],
   "source": [
    "### PLEASE RUN THIS CELL AFTER YOUR SELECTION ABOVE\n",
    "print(f\"{q29.kwargs['selection']}\")"
   ]
  },
  {
   "cell_type": "markdown",
   "id": "9d20d965",
   "metadata": {},
   "source": [
    "### <font color='red'>Question 30 </font> <a id='q30'></a>\n",
    "\n",
    "Below are the 8 actual values of a target variable:\n",
    "\n",
    "[0,0,0,1,1,1,1,1]\n",
    "\n",
    "What is the entropy of this variable? Please provide your answer using simple arithmetic with the `log` Numpy function, **NOT** scikit-learn."
   ]
  },
  {
   "cell_type": "code",
   "execution_count": 63,
   "id": "fae14214",
   "metadata": {
    "tags": [
     "q30;codenum;1"
    ]
   },
   "outputs": [
    {
     "name": "stdout",
     "output_type": "stream",
     "text": [
      "The entropy is 0.954\n"
     ]
    }
   ],
   "source": [
    "from numpy import log\n",
    "\n",
    "### ADD YOUR CODE BELOW\n",
    "\n",
    "t = [0,0,0,1,1,1,1,1]\n",
    "failure = t.count(0)\n",
    "success = t.count(1)\n",
    "total = len(t)\n",
    "\n",
    "p_failure = failure/total\n",
    "p_success =  success/total\n",
    "\n",
    "entropy_f = p_failure*np.log2(p_failure)\n",
    "entropy_s = p_success*np.log2(p_success)\n",
    "\n",
    "entropy = -1*(entropy_f + entropy_s)\n",
    "\n",
    "### ADD YOUR CODE ABOVE\n",
    "\n",
    "print(f\"The entropy is {entropy:.3f}\")"
   ]
  },
  {
   "cell_type": "markdown",
   "id": "bcf01046",
   "metadata": {},
   "source": [
    "[**Go to Top**](#top)"
   ]
  }
 ],
 "metadata": {
  "celltoolbar": "Tags",
  "kernelspec": {
   "display_name": "Python 3 (ipykernel)",
   "language": "python",
   "name": "python3"
  },
  "language_info": {
   "codemirror_mode": {
    "name": "ipython",
    "version": 3
   },
   "file_extension": ".py",
   "mimetype": "text/x-python",
   "name": "python",
   "nbconvert_exporter": "python",
   "pygments_lexer": "ipython3",
   "version": "3.9.7"
  },
  "varInspector": {
   "cols": {
    "lenName": 16,
    "lenType": 16,
    "lenVar": 40
   },
   "kernels_config": {
    "python": {
     "delete_cmd_postfix": "",
     "delete_cmd_prefix": "del ",
     "library": "var_list.py",
     "varRefreshCmd": "print(var_dic_list())"
    },
    "r": {
     "delete_cmd_postfix": ") ",
     "delete_cmd_prefix": "rm(",
     "library": "var_list.r",
     "varRefreshCmd": "cat(var_dic_list()) "
    }
   },
   "types_to_exclude": [
    "module",
    "function",
    "builtin_function_or_method",
    "instance",
    "_Feature"
   ],
   "window_display": false
  }
 },
 "nbformat": 4,
 "nbformat_minor": 5
}
